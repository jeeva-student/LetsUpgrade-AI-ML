{
  "nbformat": 4,
  "nbformat_minor": 0,
  "metadata": {
    "colab": {
      "name": "image classification.ipynb",
      "provenance": [],
      "collapsed_sections": []
    },
    "kernelspec": {
      "name": "python3",
      "display_name": "Python 3"
    }
  },
  "cells": [
    {
      "cell_type": "code",
      "metadata": {
        "id": "4f-tcwmbw7SL",
        "outputId": "6a608251-9f39-46c2-9bab-1a76c8059037",
        "colab": {
          "base_uri": "https://localhost:8080/",
          "height": 34
        }
      },
      "source": [
        "import tensorflow as tf\n",
        "print(tf.__version__)"
      ],
      "execution_count": 1,
      "outputs": [
        {
          "output_type": "stream",
          "text": [
            "2.3.0\n"
          ],
          "name": "stdout"
        }
      ]
    },
    {
      "cell_type": "code",
      "metadata": {
        "id": "wFMJyygVxzOB"
      },
      "source": [
        "import numpy as np\n",
        "import matplotlib.pyplot as plt\n",
        "from tensorflow.keras.layers import Input, Conv2D, Dense, Flatten, Dropout\n",
        "from tensorflow.keras.models import Model"
      ],
      "execution_count": 2,
      "outputs": []
    },
    {
      "cell_type": "code",
      "metadata": {
        "id": "DnVfoWpJyXcL"
      },
      "source": [
        "fashion_mnist = tf.keras.datasets.fashion_mnist"
      ],
      "execution_count": 3,
      "outputs": []
    },
    {
      "cell_type": "code",
      "metadata": {
        "id": "FlOD6KZVyiTY",
        "outputId": "f8f052a5-c713-4d44-80c2-6566d64c504b",
        "colab": {
          "base_uri": "https://localhost:8080/",
          "height": 173
        }
      },
      "source": [
        "(x_train, y_train) , (x_test, y_test) = fashion_mnist.load_data()"
      ],
      "execution_count": 4,
      "outputs": [
        {
          "output_type": "stream",
          "text": [
            "Downloading data from https://storage.googleapis.com/tensorflow/tf-keras-datasets/train-labels-idx1-ubyte.gz\n",
            "32768/29515 [=================================] - 0s 0us/step\n",
            "Downloading data from https://storage.googleapis.com/tensorflow/tf-keras-datasets/train-images-idx3-ubyte.gz\n",
            "26427392/26421880 [==============================] - 2s 0us/step\n",
            "Downloading data from https://storage.googleapis.com/tensorflow/tf-keras-datasets/t10k-labels-idx1-ubyte.gz\n",
            "8192/5148 [===============================================] - 0s 0us/step\n",
            "Downloading data from https://storage.googleapis.com/tensorflow/tf-keras-datasets/t10k-images-idx3-ubyte.gz\n",
            "4423680/4422102 [==============================] - 0s 0us/step\n"
          ],
          "name": "stdout"
        }
      ]
    },
    {
      "cell_type": "code",
      "metadata": {
        "id": "3HHfiDtlzTwn"
      },
      "source": [
        "x_train, x_test = x_train/255.0, x_test/255.0"
      ],
      "execution_count": 5,
      "outputs": []
    },
    {
      "cell_type": "code",
      "metadata": {
        "id": "ybMRV3rqzeke"
      },
      "source": [
        "x_train = np.expand_dims(x_train, -1)\n",
        "x_test = np.expand_dims(x_test, -1)\n"
      ],
      "execution_count": 6,
      "outputs": []
    },
    {
      "cell_type": "code",
      "metadata": {
        "id": "fzqPv9NTzs46",
        "outputId": "504dc15e-5d4f-467a-b42c-0f518ae73527",
        "colab": {
          "base_uri": "https://localhost:8080/",
          "height": 34
        }
      },
      "source": [
        "x_train.shape"
      ],
      "execution_count": 7,
      "outputs": [
        {
          "output_type": "execute_result",
          "data": {
            "text/plain": [
              "(60000, 28, 28, 1)"
            ]
          },
          "metadata": {
            "tags": []
          },
          "execution_count": 7
        }
      ]
    },
    {
      "cell_type": "code",
      "metadata": {
        "id": "UABa_VTOzvYt",
        "outputId": "a3888287-e8b0-448b-e2dc-dc905dc64a43",
        "colab": {
          "base_uri": "https://localhost:8080/",
          "height": 34
        }
      },
      "source": [
        "x_test.shape"
      ],
      "execution_count": 8,
      "outputs": [
        {
          "output_type": "execute_result",
          "data": {
            "text/plain": [
              "(10000, 28, 28, 1)"
            ]
          },
          "metadata": {
            "tags": []
          },
          "execution_count": 8
        }
      ]
    },
    {
      "cell_type": "code",
      "metadata": {
        "id": "arWuAfMDzxNg",
        "outputId": "e422c155-5815-40b3-aa15-0fad9df280ea",
        "colab": {
          "base_uri": "https://localhost:8080/",
          "height": 34
        }
      },
      "source": [
        "k = len(set(y_train))\n",
        "print(\"the number of classes:\", k)"
      ],
      "execution_count": 9,
      "outputs": [
        {
          "output_type": "stream",
          "text": [
            "the number of classes: 10\n"
          ],
          "name": "stdout"
        }
      ]
    },
    {
      "cell_type": "code",
      "metadata": {
        "id": "SRrQypbqz70e"
      },
      "source": [
        "i = Input(shape=x_train[0].shape)\n",
        "x = Conv2D(32, (3,3), strides=2, activation='relu')(i)\n",
        "x = Conv2D(64, (3,3), strides=2, activation='relu')(x)\n",
        "x = Conv2D(64, (3,3), strides=2, activation='relu')(x)\n",
        "x = Flatten()(x)\n",
        "x = Dropout(0.2)(x)\n",
        "\n",
        "x = Dense(512, activation='relu')(x)\n",
        "x = Dropout(0.2)(x)\n",
        "x = Dense(k, activation='softmax')(x)\n",
        "\n",
        "model = Model(i, x)"
      ],
      "execution_count": 10,
      "outputs": []
    },
    {
      "cell_type": "code",
      "metadata": {
        "id": "w5PHOqXm2qMU",
        "outputId": "8eda61f6-6e35-4384-ebff-1f017411298b",
        "colab": {
          "base_uri": "https://localhost:8080/",
          "height": 547
        }
      },
      "source": [
        "model.compile(optimizer='adam',\n",
        "              loss='sparse_categorical_crossentropy',\n",
        "              metrics=['accuracy'])\n",
        "\n",
        "r = model.fit(x_train, y_train, validation_data=(x_test, y_test), epochs=15)"
      ],
      "execution_count": 11,
      "outputs": [
        {
          "output_type": "stream",
          "text": [
            "Epoch 1/15\n",
            "1875/1875 [==============================] - 23s 12ms/step - loss: 0.5514 - accuracy: 0.7963 - val_loss: 0.4103 - val_accuracy: 0.8465\n",
            "Epoch 2/15\n",
            "1875/1875 [==============================] - 22s 12ms/step - loss: 0.3784 - accuracy: 0.8581 - val_loss: 0.3427 - val_accuracy: 0.8748\n",
            "Epoch 3/15\n",
            "1875/1875 [==============================] - 22s 12ms/step - loss: 0.3301 - accuracy: 0.8749 - val_loss: 0.3726 - val_accuracy: 0.8562\n",
            "Epoch 4/15\n",
            "1875/1875 [==============================] - 22s 12ms/step - loss: 0.2977 - accuracy: 0.8890 - val_loss: 0.3142 - val_accuracy: 0.8850\n",
            "Epoch 5/15\n",
            "1875/1875 [==============================] - 21s 11ms/step - loss: 0.2744 - accuracy: 0.8958 - val_loss: 0.3080 - val_accuracy: 0.8848\n",
            "Epoch 6/15\n",
            "1875/1875 [==============================] - 21s 11ms/step - loss: 0.2564 - accuracy: 0.9026 - val_loss: 0.3105 - val_accuracy: 0.8857\n",
            "Epoch 7/15\n",
            "1875/1875 [==============================] - 21s 11ms/step - loss: 0.2370 - accuracy: 0.9094 - val_loss: 0.2873 - val_accuracy: 0.8999\n",
            "Epoch 8/15\n",
            "1875/1875 [==============================] - 21s 11ms/step - loss: 0.2258 - accuracy: 0.9140 - val_loss: 0.2854 - val_accuracy: 0.8987\n",
            "Epoch 9/15\n",
            "1875/1875 [==============================] - 21s 11ms/step - loss: 0.2134 - accuracy: 0.9193 - val_loss: 0.2864 - val_accuracy: 0.9002\n",
            "Epoch 10/15\n",
            "1875/1875 [==============================] - 21s 11ms/step - loss: 0.2045 - accuracy: 0.9212 - val_loss: 0.2803 - val_accuracy: 0.9016\n",
            "Epoch 11/15\n",
            "1875/1875 [==============================] - 21s 11ms/step - loss: 0.1933 - accuracy: 0.9268 - val_loss: 0.3114 - val_accuracy: 0.8952\n",
            "Epoch 12/15\n",
            "1875/1875 [==============================] - 22s 12ms/step - loss: 0.1869 - accuracy: 0.9294 - val_loss: 0.3031 - val_accuracy: 0.8983\n",
            "Epoch 13/15\n",
            "1875/1875 [==============================] - 22s 12ms/step - loss: 0.1770 - accuracy: 0.9328 - val_loss: 0.2981 - val_accuracy: 0.9005\n",
            "Epoch 14/15\n",
            "1875/1875 [==============================] - 25s 13ms/step - loss: 0.1706 - accuracy: 0.9349 - val_loss: 0.3182 - val_accuracy: 0.8989\n",
            "Epoch 15/15\n",
            "1875/1875 [==============================] - 21s 11ms/step - loss: 0.1619 - accuracy: 0.9383 - val_loss: 0.3056 - val_accuracy: 0.8997\n"
          ],
          "name": "stdout"
        }
      ]
    },
    {
      "cell_type": "code",
      "metadata": {
        "id": "eogQTC823Oeg",
        "outputId": "c10d0169-af7d-47a6-d683-08aa69475777",
        "colab": {
          "base_uri": "https://localhost:8080/",
          "height": 282
        }
      },
      "source": [
        "plt.plot(r.history['loss'], label='loss')\n",
        "plt.plot(r.history['val_loss'], label='val_loss')\n",
        "plt.legend()"
      ],
      "execution_count": 12,
      "outputs": [
        {
          "output_type": "execute_result",
          "data": {
            "text/plain": [
              "<matplotlib.legend.Legend at 0x7f75d4048eb8>"
            ]
          },
          "metadata": {
            "tags": []
          },
          "execution_count": 12
        },
        {
          "output_type": "display_data",
          "data": {
            "image/png": "[encoded data removed]",
            "text/plain": [
              "<Figure size 432x288 with 1 Axes>"
            ]
          },
          "metadata": {
            "tags": [],
            "needs_background": "light"
          }
        }
      ]
    },
    {
      "cell_type": "code",
      "metadata": {
        "id": "yQtdiuAS4yoU",
        "outputId": "874a05f7-5ac2-4ce2-83ec-28aa03603c4a",
        "colab": {
          "base_uri": "https://localhost:8080/",
          "height": 282
        }
      },
      "source": [
        "plt.plot(r.history['accuracy'], label='accuracy')\n",
        "plt.plot(r.history['val_accuracy'], label='val_accuracy')\n",
        "plt.legend()"
      ],
      "execution_count": 13,
      "outputs": [
        {
          "output_type": "execute_result",
          "data": {
            "text/plain": [
              "<matplotlib.legend.Legend at 0x7f75d3b3a668>"
            ]
          },
          "metadata": {
            "tags": []
          },
          "execution_count": 13
        },
        {
          "output_type": "display_data",
          "data": {
            "image/png": "[encoded data removed]",
            "text/plain": [
              "<Figure size 432x288 with 1 Axes>"
            ]
          },
          "metadata": {
            "tags": [],
            "needs_background": "light"
          }
        }
      ]
    },
    {
      "cell_type": "code",
      "metadata": {
        "id": "RoDk-Xkh4-Cp",
        "outputId": "3cd77f78-f56d-4e53-e01d-bc2eb5f4b27d",
        "colab": {
          "base_uri": "https://localhost:8080/",
          "height": 498
        }
      },
      "source": [
        "# Plot confusion matrix\n",
        "from sklearn.metrics import confusion_matrix\n",
        "import itertools\n",
        "\n",
        "def plot_confusion_matrix(cm, classes,\n",
        "                          normalize=False,\n",
        "                          title='Confusion matrix',\n",
        "                          cmap=plt.cm.Blues):\n",
        "  \"\"\"\n",
        "  This function prints and plots the confusion matrix.\n",
        "  Normalization can be applied by setting `normalize=True`.\n",
        "  \"\"\"\n",
        "  if normalize:\n",
        "      cm = cm.astype('float') / cm.sum(axis=1)[:, np.newaxis]\n",
        "      print(\"Normalized confusion matrix\")\n",
        "  else:\n",
        "      print('Confusion matrix, without normalization')\n",
        "\n",
        "  print(cm)\n",
        "\n",
        "  plt.imshow(cm, interpolation='nearest', cmap=cmap)\n",
        "  plt.title(title)\n",
        "  plt.colorbar()\n",
        "  tick_marks = np.arange(len(classes))\n",
        "  plt.xticks(tick_marks, classes, rotation=45)\n",
        "  plt.yticks(tick_marks, classes)\n",
        "\n",
        "  fmt = '.2f' if normalize else 'd'\n",
        "  thresh = cm.max() / 2.\n",
        "  for i, j in itertools.product(range(cm.shape[0]), range(cm.shape[1])):\n",
        "      plt.text(j, i, format(cm[i, j], fmt),\n",
        "               horizontalalignment=\"center\",\n",
        "               color=\"white\" if cm[i, j] > thresh else \"black\")\n",
        "\n",
        "  plt.tight_layout()\n",
        "  plt.ylabel('True label')\n",
        "  plt.xlabel('Predicted label')\n",
        "  plt.show()\n",
        "\n",
        "\n",
        "p_test = model.predict(x_test).argmax(axis=1)\n",
        "cm = confusion_matrix(y_test, p_test)\n",
        "plot_confusion_matrix(cm, list(range(10)))\n",
        "\n"
      ],
      "execution_count": 14,
      "outputs": [
        {
          "output_type": "stream",
          "text": [
            "Confusion matrix, without normalization\n",
            "[[876   0  29  18   1   1  73   0   2   0]\n",
            " [  1 976   2  14   1   0   6   0   0   0]\n",
            " [ 17   0 861   8  65   0  47   0   2   0]\n",
            " [ 16   6  19 915  21   0  23   0   0   0]\n",
            " [  0   0  47  41 835   0  73   0   4   0]\n",
            " [  0   0   0   1   0 969   1  16   0  13]\n",
            " [124   2  78  24  95   0 669   0   8   0]\n",
            " [  0   0   0   0   0   9   0 948   0  43]\n",
            " [  4   1   5   3   3   1   7   2 973   1]\n",
            " [  1   0   0   0   0   5   0  19   0 975]]\n"
          ],
          "name": "stdout"
        },
        {
          "output_type": "display_data",
          "data": {
            "image/png": "[encoded data removed]",
            "text/plain": [
              "<Figure size 432x288 with 2 Axes>"
            ]
          },
          "metadata": {
            "tags": [],
            "needs_background": "light"
          }
        }
      ]
    },
    {
      "cell_type": "code",
      "metadata": {
        "id": "AnoKO7uN5BpY",
        "outputId": "31a05016-56dd-44e8-bc11-cf1b587866aa",
        "colab": {
          "base_uri": "https://localhost:8080/",
          "height": 187
        }
      },
      "source": [
        "# label mapping\n",
        "labels = '''T-shirt/top\n",
        "Trouser\n",
        "Pullover\n",
        "Dress\n",
        "Coat\n",
        "Sandal\n",
        "Shirt\n",
        "Sneaker\n",
        "Bag\n",
        "Ankle boot'''.split(\"\\n\")\n",
        "labels"
      ],
      "execution_count": 15,
      "outputs": [
        {
          "output_type": "execute_result",
          "data": {
            "text/plain": [
              "['T-shirt/top',\n",
              " 'Trouser',\n",
              " 'Pullover',\n",
              " 'Dress',\n",
              " 'Coat',\n",
              " 'Sandal',\n",
              " 'Shirt',\n",
              " 'Sneaker',\n",
              " 'Bag',\n",
              " 'Ankle boot']"
            ]
          },
          "metadata": {
            "tags": []
          },
          "execution_count": 15
        }
      ]
    },
    {
      "cell_type": "code",
      "metadata": {
        "id": "fke24AiT5FQy",
        "outputId": "031b044f-2e19-4fa0-ce3e-6afb5fc7473b",
        "colab": {
          "base_uri": "https://localhost:8080/",
          "height": 281
        }
      },
      "source": [
        "# Show the misclassified examples\n",
        "misclassified_img = np.where(p_test != y_test)[0]\n",
        "i = np.random.choice(misclassified_img)\n",
        "plt.imshow(x_test[i].reshape(28,28), cmap = 'gray')\n",
        "plt.title(\"True label: %s Predicted: %s \" %(labels[y_test[i]], labels[p_test[i]]));"
      ],
      "execution_count": 16,
      "outputs": [
        {
          "output_type": "display_data",
          "data": {
            "image/png": "[encoded data removed]",
            "text/plain": [
              "<Figure size 432x288 with 1 Axes>"
            ]
          },
          "metadata": {
            "tags": [],
            "needs_background": "light"
          }
        }
      ]
    },
    {
      "cell_type": "code",
      "metadata": {
        "id": "uhTZsZ8s5IgQ",
        "outputId": "e67b62fb-82be-4965-b01d-be6aa39af455",
        "colab": {
          "base_uri": "https://localhost:8080/",
          "height": 281
        }
      },
      "source": [
        "# Show the misclassified examples\n",
        "misclassified_img = np.where(p_test != y_test)[0]\n",
        "i = np.random.choice(misclassified_img)\n",
        "plt.imshow(x_test[i].reshape(28,28), cmap = 'gray')\n",
        "plt.title(\"True label: %s Predicted: %s \" %(labels[y_test[i]], labels[p_test[i]]));"
      ],
      "execution_count": 17,
      "outputs": [
        {
          "output_type": "display_data",
          "data": {
            "image/png": "[encoded data removed]",
            "text/plain": [
              "<Figure size 432x288 with 1 Axes>"
            ]
          },
          "metadata": {
            "tags": [],
            "needs_background": "light"
          }
        }
      ]
    },
    {
      "cell_type": "code",
      "metadata": {
        "id": "Yqpon2Px5KHd",
        "outputId": "1ab9e121-2b26-4cc3-963c-480d92c37a88",
        "colab": {
          "base_uri": "https://localhost:8080/",
          "height": 281
        }
      },
      "source": [
        "# Show the misclassified examples\n",
        "misclassified_img = np.where(p_test != y_test)[0]\n",
        "i = np.random.choice(misclassified_img)\n",
        "plt.imshow(x_test[i].reshape(28,28), cmap = 'gray')\n",
        "plt.title(\"True label: %s Predicted: %s \" %(labels[y_test[i]], labels[p_test[i]]));"
      ],
      "execution_count": 18,
      "outputs": [
        {
          "output_type": "display_data",
          "data": {
            "image/png": "[encoded data removed]",
            "text/plain": [
              "<Figure size 432x288 with 1 Axes>"
            ]
          },
          "metadata": {
            "tags": [],
            "needs_background": "light"
          }
        }
      ]
    },
    {
      "cell_type": "code",
      "metadata": {
        "id": "mkcehoP25MXm"
      },
      "source": [
        ""
      ],
      "execution_count": null,
      "outputs": []
    }
  ]
}