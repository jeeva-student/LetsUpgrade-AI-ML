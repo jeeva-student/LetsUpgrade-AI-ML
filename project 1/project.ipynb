{
 "cells": [
  {
   "cell_type": "code",
   "execution_count": 2,
   "metadata": {},
   "outputs": [
    {
     "name": "stdout",
     "output_type": "stream",
     "text": [
      "Empty DataFrame\n",
      "Columns: [Data, #Samples, #Dimensions, Outlier Perc, ABOD, CBLOF, FB, HBOS, IForest, KNN, LOF, MCD, OCSVM, PCA]\n",
      "Index: []\n",
      "Empty DataFrame\n",
      "Columns: [Data, #Samples, #Dimensions, Outlier Perc, ABOD, CBLOF, FB, HBOS, IForest, KNN, LOF, MCD, OCSVM, PCA]\n",
      "Index: []\n",
      "Empty DataFrame\n",
      "Columns: [Data, #Samples, #Dimensions, Outlier Perc, ABOD, CBLOF, FB, HBOS, IForest, KNN, LOF, MCD, OCSVM, PCA]\n",
      "Index: []\n",
      "<module 'os' from 'C:\\\\Users\\\\User\\\\anaconda3\\\\lib\\\\os.py'>\n",
      "\n",
      "...processing arrhythmia.mat ...\n",
      "Angle-based outlier detector (ABOD) ROC:0.7098, precision @ rank n: 0.2308, execution time: 1.923s\n"
     ]
    },
    {
     "name": "stderr",
     "output_type": "stream",
     "text": [
      "C:\\Users\\User\\anaconda3\\lib\\site-packages\\sklearn\\cluster\\_kmeans.py:939: FutureWarning: 'n_jobs' was deprecated in version 0.23 and will be removed in 0.25.\n",
      "  \" removed in 0.25.\", FutureWarning)\n"
     ]
    },
    {
     "name": "stdout",
     "output_type": "stream",
     "text": [
      "Cluster-based Local outlier factor ROC:0.7311, precision @ rank n: 0.3077, execution time: 1.852s\n",
      "feature bagging ROC:0.7392, precision @ rank n: 0.2308, execution time: 0.6816s\n",
      "HIstogram-base outlier detection (HBOS) ROC:0.8011, precision @ rank n: 0.3846, execution time: 2.4298s\n",
      "Isolation forest ROC:0.748, precision @ rank n: 0.3077, execution time: 0.5367s\n",
      "K Nearest neibghours (KNN) ROC:0.7248, precision @ rank n: 0.3077, execution time: 0.0979s\n",
      "Local outlier factor ROC:0.733, precision @ rank n: 0.3077, execution time: 0.0819s\n"
     ]
    },
    {
     "name": "stderr",
     "output_type": "stream",
     "text": [
      "C:\\Users\\User\\anaconda3\\lib\\site-packages\\sklearn\\covariance\\_robust_covariance.py:647: UserWarning: The covariance matrix associated to your dataset is not full rank\n",
      "  warnings.warn(\"The covariance matrix associated to your dataset \"\n"
     ]
    },
    {
     "name": "stdout",
     "output_type": "stream",
     "text": [
      "Minimum Covariance determination (MCD) ROC:0.6961, precision @ rank n: 0.1538, execution time: 0.9804s\n",
      "One-class SVM (OCSVM) ROC:0.7548, precision @ rank n: 0.3077, execution time: 0.053s\n",
      "Principal component analysis (PCA) ROC:0.7486, precision @ rank n: 0.3077, execution time: 0.067s\n",
      "\n",
      "...processing cardio.mat ...\n",
      "Angle-based outlier detector (ABOD) ROC:0.5752, precision @ rank n: 0.2321, execution time: 0.7405s\n",
      "Cluster-based Local outlier factor ROC:0.7141, precision @ rank n: 0.2679, execution time: 0.1489s\n"
     ]
    },
    {
     "name": "stderr",
     "output_type": "stream",
     "text": [
      "C:\\Users\\User\\anaconda3\\lib\\site-packages\\sklearn\\cluster\\_kmeans.py:939: FutureWarning: 'n_jobs' was deprecated in version 0.23 and will be removed in 0.25.\n",
      "  \" removed in 0.25.\", FutureWarning)\n"
     ]
    },
    {
     "name": "stdout",
     "output_type": "stream",
     "text": [
      "feature bagging ROC:0.5453, precision @ rank n: 0.1429, execution time: 1.0653s\n",
      "HIstogram-base outlier detection (HBOS) ROC:0.8077, precision @ rank n: 0.4286, execution time: 0.012s\n",
      "Isolation forest ROC:0.8992, precision @ rank n: 0.4643, execution time: 0.5936s\n",
      "K Nearest neibghours (KNN) ROC:0.7254, precision @ rank n: 0.3214, execution time: 0.1859s\n",
      "Local outlier factor ROC:0.5462, precision @ rank n: 0.1964, execution time: 0.1309s\n"
     ]
    },
    {
     "name": "stderr",
     "output_type": "stream",
     "text": [
      "C:\\Users\\User\\anaconda3\\lib\\site-packages\\sklearn\\covariance\\_robust_covariance.py:647: UserWarning: The covariance matrix associated to your dataset is not full rank\n",
      "  warnings.warn(\"The covariance matrix associated to your dataset \"\n",
      "C:\\Users\\User\\anaconda3\\lib\\site-packages\\sklearn\\covariance\\_robust_covariance.py:171: RuntimeWarning: Determinant has increased; this should not happen: log(det) > log(previous_det) (-157.116517140680685 > -228.783120790860295). You may want to try with a higher value of support_fraction (current value: 0.509).\n",
      "  RuntimeWarning)\n",
      "C:\\Users\\User\\anaconda3\\lib\\site-packages\\sklearn\\covariance\\_robust_covariance.py:171: RuntimeWarning: Determinant has increased; this should not happen: log(det) > log(previous_det) (-151.914636627170268 > -225.140605037592110). You may want to try with a higher value of support_fraction (current value: 0.509).\n",
      "  RuntimeWarning)\n",
      "C:\\Users\\User\\anaconda3\\lib\\site-packages\\sklearn\\covariance\\_robust_covariance.py:171: RuntimeWarning: Determinant has increased; this should not happen: log(det) > log(previous_det) (-150.566363590979023 > -224.350870428316938). You may want to try with a higher value of support_fraction (current value: 0.509).\n",
      "  RuntimeWarning)\n",
      "C:\\Users\\User\\anaconda3\\lib\\site-packages\\sklearn\\covariance\\_robust_covariance.py:171: RuntimeWarning: Determinant has increased; this should not happen: log(det) > log(previous_det) (-152.006847619994431 > -221.845106009511028). You may want to try with a higher value of support_fraction (current value: 0.509).\n",
      "  RuntimeWarning)\n",
      "C:\\Users\\User\\anaconda3\\lib\\site-packages\\sklearn\\covariance\\_robust_covariance.py:171: RuntimeWarning: Determinant has increased; this should not happen: log(det) > log(previous_det) (-153.143952390801701 > -227.542244340167429). You may want to try with a higher value of support_fraction (current value: 0.509).\n",
      "  RuntimeWarning)\n",
      "C:\\Users\\User\\anaconda3\\lib\\site-packages\\sklearn\\covariance\\_robust_covariance.py:171: RuntimeWarning: Determinant has increased; this should not happen: log(det) > log(previous_det) (-155.934022391539003 > -229.574611176233731). You may want to try with a higher value of support_fraction (current value: 0.509).\n",
      "  RuntimeWarning)\n",
      "C:\\Users\\User\\anaconda3\\lib\\site-packages\\sklearn\\covariance\\_robust_covariance.py:171: RuntimeWarning: Determinant has increased; this should not happen: log(det) > log(previous_det) (-231.632909499620212 > -257.993532595746899). You may want to try with a higher value of support_fraction (current value: 0.509).\n",
      "  RuntimeWarning)\n",
      "C:\\Users\\User\\anaconda3\\lib\\site-packages\\sklearn\\covariance\\_robust_covariance.py:171: RuntimeWarning: Determinant has increased; this should not happen: log(det) > log(previous_det) (-227.600895352352325 > -228.329008264667323). You may want to try with a higher value of support_fraction (current value: 0.509).\n",
      "  RuntimeWarning)\n",
      "C:\\Users\\User\\anaconda3\\lib\\site-packages\\sklearn\\covariance\\_robust_covariance.py:171: RuntimeWarning: Determinant has increased; this should not happen: log(det) > log(previous_det) (-228.629122027452809 > -255.203634490968000). You may want to try with a higher value of support_fraction (current value: 0.509).\n",
      "  RuntimeWarning)\n",
      "C:\\Users\\User\\anaconda3\\lib\\site-packages\\sklearn\\covariance\\_robust_covariance.py:171: RuntimeWarning: Determinant has increased; this should not happen: log(det) > log(previous_det) (-153.014684912543686 > -223.424647364175996). You may want to try with a higher value of support_fraction (current value: 0.509).\n",
      "  RuntimeWarning)\n",
      "C:\\Users\\User\\anaconda3\\lib\\site-packages\\sklearn\\covariance\\_robust_covariance.py:171: RuntimeWarning: Determinant has increased; this should not happen: log(det) > log(previous_det) (-151.930447563168428 > -218.787718662409645). You may want to try with a higher value of support_fraction (current value: 0.509).\n",
      "  RuntimeWarning)\n",
      "C:\\Users\\User\\anaconda3\\lib\\site-packages\\sklearn\\covariance\\_robust_covariance.py:171: RuntimeWarning: Determinant has increased; this should not happen: log(det) > log(previous_det) (-155.516381596596062 > -223.470880968014711). You may want to try with a higher value of support_fraction (current value: 0.509).\n",
      "  RuntimeWarning)\n",
      "C:\\Users\\User\\anaconda3\\lib\\site-packages\\sklearn\\covariance\\_robust_covariance.py:171: RuntimeWarning: Determinant has increased; this should not happen: log(det) > log(previous_det) (-152.977642974949902 > -223.805563515344971). You may want to try with a higher value of support_fraction (current value: 0.509).\n",
      "  RuntimeWarning)\n",
      "C:\\Users\\User\\anaconda3\\lib\\site-packages\\sklearn\\covariance\\_robust_covariance.py:171: RuntimeWarning: Determinant has increased; this should not happen: log(det) > log(previous_det) (-154.186038247385000 > -225.145054647569879). You may want to try with a higher value of support_fraction (current value: 0.509).\n",
      "  RuntimeWarning)\n",
      "C:\\Users\\User\\anaconda3\\lib\\site-packages\\sklearn\\covariance\\_robust_covariance.py:171: RuntimeWarning: Determinant has increased; this should not happen: log(det) > log(previous_det) (-156.458181095416734 > -225.593116588845476). You may want to try with a higher value of support_fraction (current value: 0.509).\n",
      "  RuntimeWarning)\n",
      "C:\\Users\\User\\anaconda3\\lib\\site-packages\\sklearn\\covariance\\_robust_covariance.py:171: RuntimeWarning: Determinant has increased; this should not happen: log(det) > log(previous_det) (-152.783418474462593 > -227.794165230518416). You may want to try with a higher value of support_fraction (current value: 0.509).\n",
      "  RuntimeWarning)\n",
      "C:\\Users\\User\\anaconda3\\lib\\site-packages\\sklearn\\covariance\\_robust_covariance.py:171: RuntimeWarning: Determinant has increased; this should not happen: log(det) > log(previous_det) (-154.221009653458395 > -222.466245938123507). You may want to try with a higher value of support_fraction (current value: 0.509).\n",
      "  RuntimeWarning)\n"
     ]
    },
    {
     "name": "stdout",
     "output_type": "stream",
     "text": [
      "Minimum Covariance determination (MCD) ROC:0.8175, precision @ rank n: 0.4643, execution time: 0.8335s\n",
      "One-class SVM (OCSVM) ROC:0.9302, precision @ rank n: 0.5179, execution time: 0.1489s\n",
      "Principal component analysis (PCA) ROC:0.9443, precision @ rank n: 0.5536, execution time: 0.009s\n",
      "\n",
      "...processing glass.mat ...\n",
      "Angle-based outlier detector (ABOD) ROC:0.9032, precision @ rank n: 0.0, execution time: 0.0809s\n",
      "Cluster-based Local outlier factor ROC:0.957, precision @ rank n: 0.3333, execution time: 0.06s\n"
     ]
    },
    {
     "name": "stderr",
     "output_type": "stream",
     "text": [
      "C:\\Users\\User\\anaconda3\\lib\\site-packages\\sklearn\\cluster\\_kmeans.py:939: FutureWarning: 'n_jobs' was deprecated in version 0.23 and will be removed in 0.25.\n",
      "  \" removed in 0.25.\", FutureWarning)\n"
     ]
    },
    {
     "name": "stdout",
     "output_type": "stream",
     "text": [
      "feature bagging ROC:0.914, precision @ rank n: 0.3333, execution time: 0.053s\n",
      "HIstogram-base outlier detection (HBOS) ROC:0.8602, precision @ rank n: 0.0, execution time: 0.005s\n",
      "Isolation forest ROC:0.8817, precision @ rank n: 0.0, execution time: 0.3928s\n",
      "K Nearest neibghours (KNN) ROC:0.957, precision @ rank n: 0.3333, execution time: 0.012s\n",
      "Local outlier factor ROC:0.9462, precision @ rank n: 0.3333, execution time: 0.005s\n",
      "Minimum Covariance determination (MCD) ROC:0.8441, precision @ rank n: 0.0, execution time: 0.057s\n",
      "One-class SVM (OCSVM) ROC:0.8925, precision @ rank n: 0.3333, execution time: 0.003s\n",
      "Principal component analysis (PCA) ROC:0.828, precision @ rank n: 0.0, execution time: 0.003s\n",
      "\n",
      "...processing ionosphere.mat ...\n"
     ]
    },
    {
     "name": "stderr",
     "output_type": "stream",
     "text": [
      "C:\\Users\\User\\anaconda3\\lib\\site-packages\\sklearn\\covariance\\_robust_covariance.py:171: RuntimeWarning: Determinant has increased; this should not happen: log(det) > log(previous_det) (-30.968852956913171 > -93.431703312399051). You may want to try with a higher value of support_fraction (current value: 0.537).\n",
      "  RuntimeWarning)\n",
      "C:\\Users\\User\\anaconda3\\lib\\site-packages\\sklearn\\covariance\\_robust_covariance.py:171: RuntimeWarning: Determinant has increased; this should not happen: log(det) > log(previous_det) (-30.464086241477634 > -93.199331737122336). You may want to try with a higher value of support_fraction (current value: 0.537).\n",
      "  RuntimeWarning)\n",
      "C:\\Users\\User\\anaconda3\\lib\\site-packages\\sklearn\\covariance\\_robust_covariance.py:171: RuntimeWarning: Determinant has increased; this should not happen: log(det) > log(previous_det) (-31.729804323876280 > -94.137644862547987). You may want to try with a higher value of support_fraction (current value: 0.537).\n",
      "  RuntimeWarning)\n",
      "C:\\Users\\User\\anaconda3\\lib\\site-packages\\sklearn\\covariance\\_robust_covariance.py:171: RuntimeWarning: Determinant has increased; this should not happen: log(det) > log(previous_det) (-30.950075565224353 > -93.254790048552678). You may want to try with a higher value of support_fraction (current value: 0.537).\n",
      "  RuntimeWarning)\n",
      "C:\\Users\\User\\anaconda3\\lib\\site-packages\\sklearn\\covariance\\_robust_covariance.py:171: RuntimeWarning: Determinant has increased; this should not happen: log(det) > log(previous_det) (-31.450019133155266 > -93.934975157649518). You may want to try with a higher value of support_fraction (current value: 0.537).\n",
      "  RuntimeWarning)\n",
      "C:\\Users\\User\\anaconda3\\lib\\site-packages\\sklearn\\covariance\\_robust_covariance.py:171: RuntimeWarning: Determinant has increased; this should not happen: log(det) > log(previous_det) (-30.973489487239959 > -93.425597700449032). You may want to try with a higher value of support_fraction (current value: 0.537).\n",
      "  RuntimeWarning)\n",
      "C:\\Users\\User\\anaconda3\\lib\\site-packages\\sklearn\\covariance\\_robust_covariance.py:171: RuntimeWarning: Determinant has increased; this should not happen: log(det) > log(previous_det) (-31.670366169739360 > -94.150490681887007). You may want to try with a higher value of support_fraction (current value: 0.537).\n",
      "  RuntimeWarning)\n",
      "C:\\Users\\User\\anaconda3\\lib\\site-packages\\sklearn\\covariance\\_robust_covariance.py:171: RuntimeWarning: Determinant has increased; this should not happen: log(det) > log(previous_det) (-31.735046571519668 > -94.446522669936684). You may want to try with a higher value of support_fraction (current value: 0.537).\n",
      "  RuntimeWarning)\n"
     ]
    },
    {
     "name": "stdout",
     "output_type": "stream",
     "text": [
      "Angle-based outlier detector (ABOD) ROC:0.9246, precision @ rank n: 0.8333, execution time: 0.1319s\n",
      "Cluster-based Local outlier factor ROC:0.8385, precision @ rank n: 0.6111, execution time: 0.082s\n",
      "feature bagging ROC:0.8706, precision @ rank n: 0.7222, execution time: 0.1059s\n"
     ]
    },
    {
     "name": "stderr",
     "output_type": "stream",
     "text": [
      "C:\\Users\\User\\anaconda3\\lib\\site-packages\\sklearn\\cluster\\_kmeans.py:939: FutureWarning: 'n_jobs' was deprecated in version 0.23 and will be removed in 0.25.\n",
      "  \" removed in 0.25.\", FutureWarning)\n"
     ]
    },
    {
     "name": "stdout",
     "output_type": "stream",
     "text": [
      "HIstogram-base outlier detection (HBOS) ROC:0.5246, precision @ rank n: 0.25, execution time: 0.015s\n",
      "Isolation forest ROC:0.8536, precision @ rank n: 0.6667, execution time: 0.3978s\n",
      "K Nearest neibghours (KNN) ROC:0.9429, precision @ rank n: 0.9167, execution time: 0.023s\n",
      "Local outlier factor ROC:0.8667, precision @ rank n: 0.6944, execution time: 0.012s\n",
      "Minimum Covariance determination (MCD) ROC:0.9476, precision @ rank n: 0.8889, execution time: 0.0839s\n",
      "One-class SVM (OCSVM) ROC:0.8468, precision @ rank n: 0.7222, execution time: 0.008s\n",
      "Principal component analysis (PCA) ROC:0.7802, precision @ rank n: 0.5556, execution time: 0.005s\n",
      "\n",
      "...processing letter.mat ...\n",
      "Angle-based outlier detector (ABOD) ROC:0.8594, precision @ rank n: 0.2812, execution time: 0.6636s\n",
      "Cluster-based Local outlier factor ROC:0.7277, precision @ rank n: 0.125, execution time: 0.1589s\n"
     ]
    },
    {
     "name": "stderr",
     "output_type": "stream",
     "text": [
      "C:\\Users\\User\\anaconda3\\lib\\site-packages\\sklearn\\cluster\\_kmeans.py:939: FutureWarning: 'n_jobs' was deprecated in version 0.23 and will be removed in 0.25.\n",
      "  \" removed in 0.25.\", FutureWarning)\n"
     ]
    },
    {
     "name": "stdout",
     "output_type": "stream",
     "text": [
      "feature bagging ROC:0.8624, precision @ rank n: 0.4062, execution time: 1.1493s\n",
      "HIstogram-base outlier detection (HBOS) ROC:0.5177, precision @ rank n: 0.0312, execution time: 0.015s\n",
      "Isolation forest ROC:0.5827, precision @ rank n: 0.0625, execution time: 0.5377s\n",
      "K Nearest neibghours (KNN) ROC:0.8537, precision @ rank n: 0.3125, execution time: 0.1959s\n",
      "Local outlier factor ROC:0.8495, precision @ rank n: 0.4062, execution time: 0.1659s\n",
      "Minimum Covariance determination (MCD) ROC:0.7907, precision @ rank n: 0.125, execution time: 1.631s\n",
      "One-class SVM (OCSVM) ROC:0.5529, precision @ rank n: 0.0938, execution time: 0.1209s\n",
      "Principal component analysis (PCA) ROC:0.4863, precision @ rank n: 0.0625, execution time: 0.007s\n",
      "\n",
      "...processing lympho.mat ...\n",
      "Angle-based outlier detector (ABOD) ROC:0.9302, precision @ rank n: 0.5, execution time: 0.066s\n",
      "Cluster-based Local outlier factor ROC:1.0, precision @ rank n: 1.0, execution time: 0.067s\n",
      "feature bagging ROC:1.0, precision @ rank n: 1.0, execution time: 0.046s\n",
      "HIstogram-base outlier detection (HBOS) ROC:1.0, precision @ rank n: 1.0, execution time: 0.008s\n"
     ]
    },
    {
     "name": "stderr",
     "output_type": "stream",
     "text": [
      "C:\\Users\\User\\anaconda3\\lib\\site-packages\\sklearn\\cluster\\_kmeans.py:939: FutureWarning: 'n_jobs' was deprecated in version 0.23 and will be removed in 0.25.\n",
      "  \" removed in 0.25.\", FutureWarning)\n"
     ]
    },
    {
     "name": "stdout",
     "output_type": "stream",
     "text": [
      "Isolation forest ROC:1.0, precision @ rank n: 1.0, execution time: 0.3668s\n",
      "K Nearest neibghours (KNN) ROC:0.9767, precision @ rank n: 0.5, execution time: 0.008s\n",
      "Local outlier factor ROC:1.0, precision @ rank n: 1.0, execution time: 0.004s\n",
      "Minimum Covariance determination (MCD) ROC:0.9419, precision @ rank n: 0.5, execution time: 0.075s\n",
      "One-class SVM (OCSVM) ROC:1.0, precision @ rank n: 1.0, execution time: 0.003s\n",
      "Principal component analysis (PCA) ROC:1.0, precision @ rank n: 1.0, execution time: 0.004s\n",
      "\n",
      "...processing mnist.mat ...\n"
     ]
    },
    {
     "name": "stderr",
     "output_type": "stream",
     "text": [
      "C:\\Users\\User\\anaconda3\\lib\\site-packages\\sklearn\\covariance\\_robust_covariance.py:171: RuntimeWarning: Determinant has increased; this should not happen: log(det) > log(previous_det) (-83.708263447241549 > -370.582097060308342). You may want to try with a higher value of support_fraction (current value: 0.592).\n",
      "  RuntimeWarning)\n",
      "C:\\Users\\User\\anaconda3\\lib\\site-packages\\sklearn\\covariance\\_robust_covariance.py:171: RuntimeWarning: Determinant has increased; this should not happen: log(det) > log(previous_det) (-83.729190792737739 > -371.825928376678803). You may want to try with a higher value of support_fraction (current value: 0.592).\n",
      "  RuntimeWarning)\n",
      "C:\\Users\\User\\anaconda3\\lib\\site-packages\\sklearn\\covariance\\_robust_covariance.py:171: RuntimeWarning: Determinant has increased; this should not happen: log(det) > log(previous_det) (-372.325727435638555 > -372.907158133308258). You may want to try with a higher value of support_fraction (current value: 0.592).\n",
      "  RuntimeWarning)\n",
      "C:\\Users\\User\\anaconda3\\lib\\site-packages\\sklearn\\covariance\\_robust_covariance.py:171: RuntimeWarning: Determinant has increased; this should not happen: log(det) > log(previous_det) (-83.611649594260655 > -373.024738663445589). You may want to try with a higher value of support_fraction (current value: 0.592).\n",
      "  RuntimeWarning)\n",
      "C:\\Users\\User\\anaconda3\\lib\\site-packages\\sklearn\\covariance\\_robust_covariance.py:171: RuntimeWarning: Determinant has increased; this should not happen: log(det) > log(previous_det) (-82.692569142016367 > -372.048892208434495). You may want to try with a higher value of support_fraction (current value: 0.592).\n",
      "  RuntimeWarning)\n",
      "C:\\Users\\User\\anaconda3\\lib\\site-packages\\sklearn\\covariance\\_robust_covariance.py:171: RuntimeWarning: Determinant has increased; this should not happen: log(det) > log(previous_det) (-194.262342697341495 > -372.828598368829034). You may want to try with a higher value of support_fraction (current value: 0.592).\n",
      "  RuntimeWarning)\n",
      "C:\\Users\\User\\anaconda3\\lib\\site-packages\\sklearn\\covariance\\_robust_covariance.py:171: RuntimeWarning: Determinant has increased; this should not happen: log(det) > log(previous_det) (-82.951668614968028 > -370.536748757578835). You may want to try with a higher value of support_fraction (current value: 0.592).\n",
      "  RuntimeWarning)\n"
     ]
    },
    {
     "name": "stdout",
     "output_type": "stream",
     "text": [
      "Angle-based outlier detector (ABOD) ROC:0.7648, precision @ rank n: 0.3682, execution time: 10.4945s\n"
     ]
    },
    {
     "name": "stderr",
     "output_type": "stream",
     "text": [
      "C:\\Users\\User\\anaconda3\\lib\\site-packages\\sklearn\\cluster\\_kmeans.py:939: FutureWarning: 'n_jobs' was deprecated in version 0.23 and will be removed in 0.25.\n",
      "  \" removed in 0.25.\", FutureWarning)\n"
     ]
    },
    {
     "name": "stdout",
     "output_type": "stream",
     "text": [
      "Cluster-based Local outlier factor ROC:0.8305, precision @ rank n: 0.4328, execution time: 1.2702s\n",
      "feature bagging ROC:0.7171, precision @ rank n: 0.3383, execution time: 52.2327s\n",
      "HIstogram-base outlier detection (HBOS) ROC:0.5667, precision @ rank n: 0.0995, execution time: 0.072s\n",
      "Isolation forest ROC:0.7894, precision @ rank n: 0.2886, execution time: 2.7413s\n",
      "K Nearest neibghours (KNN) ROC:0.8493, precision @ rank n: 0.4378, execution time: 8.6806s\n",
      "Local outlier factor ROC:0.7056, precision @ rank n: 0.3234, execution time: 7.9271s\n"
     ]
    },
    {
     "name": "stderr",
     "output_type": "stream",
     "text": [
      "C:\\Users\\User\\anaconda3\\lib\\site-packages\\sklearn\\covariance\\_robust_covariance.py:647: UserWarning: The covariance matrix associated to your dataset is not full rank\n",
      "  warnings.warn(\"The covariance matrix associated to your dataset \"\n"
     ]
    },
    {
     "name": "stdout",
     "output_type": "stream",
     "text": [
      "Minimum Covariance determination (MCD) ROC:0.8745, precision @ rank n: 0.3831, execution time: 4.3203s\n",
      "One-class SVM (OCSVM) ROC:0.8441, precision @ rank n: 0.398, execution time: 6.3191s\n",
      "Principal component analysis (PCA) ROC:0.8467, precision @ rank n: 0.3781, execution time: 0.1653s\n",
      "\n",
      "...processing musk.mat ...\n",
      "Angle-based outlier detector (ABOD) ROC:0.1883, precision @ rank n: 0.0, execution time: 3.4549s\n"
     ]
    },
    {
     "name": "stderr",
     "output_type": "stream",
     "text": [
      "C:\\Users\\User\\anaconda3\\lib\\site-packages\\sklearn\\cluster\\_kmeans.py:939: FutureWarning: 'n_jobs' was deprecated in version 0.23 and will be removed in 0.25.\n",
      "  \" removed in 0.25.\", FutureWarning)\n"
     ]
    },
    {
     "name": "stdout",
     "output_type": "stream",
     "text": [
      "Cluster-based Local outlier factor ROC:1.0, precision @ rank n: 1.0, execution time: 0.4487s\n",
      "feature bagging ROC:0.5142, precision @ rank n: 0.2581, execution time: 19.386s\n",
      "HIstogram-base outlier detection (HBOS) ROC:0.9999, precision @ rank n: 0.9667, execution time: 0.0869s\n",
      "Isolation forest ROC:0.9993, precision @ rank n: 0.9032, execution time: 2.0537s\n",
      "K Nearest neibghours (KNN) ROC:0.8243, precision @ rank n: 0.2581, execution time: 3.172s\n",
      "Local outlier factor ROC:0.5052, precision @ rank n: 0.1935, execution time: 3.209s\n",
      "Minimum Covariance determination (MCD) ROC:0.9999, precision @ rank n: 0.9677, execution time: 20.7152s\n",
      "One-class SVM (OCSVM) ROC:1.0, precision @ rank n: 1.0, execution time: 1.582s\n",
      "Principal component analysis (PCA) ROC:1.0, precision @ rank n: 1.0, execution time: 0.1887s\n",
      "\n",
      "...processing optdigits.mat ...\n",
      "Angle-based outlier detector (ABOD) ROC:0.4216, precision @ rank n: 0.0, execution time: 3.8856s\n"
     ]
    },
    {
     "name": "stderr",
     "output_type": "stream",
     "text": [
      "C:\\Users\\User\\anaconda3\\lib\\site-packages\\sklearn\\cluster\\_kmeans.py:939: FutureWarning: 'n_jobs' was deprecated in version 0.23 and will be removed in 0.25.\n",
      "  \" removed in 0.25.\", FutureWarning)\n"
     ]
    },
    {
     "name": "stdout",
     "output_type": "stream",
     "text": [
      "Cluster-based Local outlier factor ROC:0.8176, precision @ rank n: 0.0, execution time: 0.6546s\n",
      "feature bagging ROC:0.4668, precision @ rank n: 0.025, execution time: 18.2477s\n",
      "HIstogram-base outlier detection (HBOS) ROC:0.8991, precision @ rank n: 0.2, execution time: 0.057s\n",
      "Isolation forest ROC:0.776, precision @ rank n: 0.025, execution time: 1.8918s\n",
      "K Nearest neibghours (KNN) ROC:0.3386, precision @ rank n: 0.0, execution time: 2.5434s\n",
      "Local outlier factor ROC:0.4613, precision @ rank n: 0.025, execution time: 2.3945s\n"
     ]
    },
    {
     "name": "stderr",
     "output_type": "stream",
     "text": [
      "C:\\Users\\User\\anaconda3\\lib\\site-packages\\sklearn\\covariance\\_robust_covariance.py:647: UserWarning: The covariance matrix associated to your dataset is not full rank\n",
      "  warnings.warn(\"The covariance matrix associated to your dataset \"\n"
     ]
    },
    {
     "name": "stdout",
     "output_type": "stream",
     "text": [
      "Minimum Covariance determination (MCD) ROC:0.3744, precision @ rank n: 0.0, execution time: 2.0277s\n",
      "One-class SVM (OCSVM) ROC:0.5272, precision @ rank n: 0.0, execution time: 2.0217s\n",
      "Principal component analysis (PCA) ROC:0.5331, precision @ rank n: 0.0, execution time: 0.053s\n",
      "\n",
      "...processing pendigits.mat ...\n",
      "Angle-based outlier detector (ABOD) ROC:0.7327, precision @ rank n: 0.1, execution time: 2.6604s\n"
     ]
    },
    {
     "name": "stderr",
     "output_type": "stream",
     "text": [
      "C:\\Users\\User\\anaconda3\\lib\\site-packages\\sklearn\\cluster\\_kmeans.py:939: FutureWarning: 'n_jobs' was deprecated in version 0.23 and will be removed in 0.25.\n",
      "  \" removed in 0.25.\", FutureWarning)\n"
     ]
    },
    {
     "name": "stdout",
     "output_type": "stream",
     "text": [
      "Cluster-based Local outlier factor ROC:0.9167, precision @ rank n: 0.125, execution time: 0.3758s\n",
      "feature bagging ROC:0.4631, precision @ rank n: 0.05, execution time: 5.2078s\n",
      "HIstogram-base outlier detection (HBOS) ROC:0.9267, precision @ rank n: 0.25, execution time: 0.013s\n",
      "Isolation forest ROC:0.9421, precision @ rank n: 0.275, execution time: 0.9354s\n",
      "K Nearest neibghours (KNN) ROC:0.7487, precision @ rank n: 0.1, execution time: 0.7206s\n",
      "Local outlier factor ROC:0.4814, precision @ rank n: 0.075, execution time: 0.7455s\n",
      "Minimum Covariance determination (MCD) ROC:0.8504, precision @ rank n: 0.1, execution time: 3.3849s\n",
      "One-class SVM (OCSVM) ROC:0.9365, precision @ rank n: 0.225, execution time: 1.7169s\n",
      "Principal component analysis (PCA) ROC:0.9426, precision @ rank n: 0.2, execution time: 0.011s\n",
      "\n",
      "...processing pima.mat ...\n",
      "Angle-based outlier detector (ABOD) ROC:0.6987, precision @ rank n: 0.5488, execution time: 0.3308s\n",
      "Cluster-based Local outlier factor ROC:0.6791, precision @ rank n: 0.5244, execution time: 0.1769s\n"
     ]
    },
    {
     "name": "stderr",
     "output_type": "stream",
     "text": [
      "C:\\Users\\User\\anaconda3\\lib\\site-packages\\sklearn\\cluster\\_kmeans.py:939: FutureWarning: 'n_jobs' was deprecated in version 0.23 and will be removed in 0.25.\n",
      "  \" removed in 0.25.\", FutureWarning)\n"
     ]
    },
    {
     "name": "stdout",
     "output_type": "stream",
     "text": [
      "feature bagging ROC:0.6199, precision @ rank n: 0.439, execution time: 0.1639s\n",
      "HIstogram-base outlier detection (HBOS) ROC:0.6806, precision @ rank n: 0.561, execution time: 0.005s\n",
      "Isolation forest ROC:0.6803, precision @ rank n: 0.5366, execution time: 0.4167s\n",
      "K Nearest neibghours (KNN) ROC:0.7165, precision @ rank n: 0.561, execution time: 0.042s\n",
      "Local outlier factor ROC:0.6294, precision @ rank n: 0.4634, execution time: 0.017s\n",
      "Minimum Covariance determination (MCD) ROC:0.6964, precision @ rank n: 0.561, execution time: 0.9034s\n",
      "One-class SVM (OCSVM) ROC:0.6395, precision @ rank n: 0.5122, execution time: 0.017s\n",
      "Principal component analysis (PCA) ROC:0.6553, precision @ rank n: 0.4878, execution time: 0.004s\n",
      "\n",
      "...processing satellite.mat ...\n",
      "Angle-based outlier detector (ABOD) ROC:0.5716, precision @ rank n: 0.3771, execution time: 3.1211s\n"
     ]
    },
    {
     "name": "stderr",
     "output_type": "stream",
     "text": [
      "C:\\Users\\User\\anaconda3\\lib\\site-packages\\sklearn\\cluster\\_kmeans.py:939: FutureWarning: 'n_jobs' was deprecated in version 0.23 and will be removed in 0.25.\n",
      "  \" removed in 0.25.\", FutureWarning)\n"
     ]
    },
    {
     "name": "stdout",
     "output_type": "stream",
     "text": [
      "Cluster-based Local outlier factor ROC:0.7758, precision @ rank n: 0.6109, execution time: 0.3568s\n",
      "feature bagging ROC:0.5421, precision @ rank n: 0.3532, execution time: 8.2009s\n",
      "HIstogram-base outlier detection (HBOS) ROC:0.7732, precision @ rank n: 0.5802, execution time: 0.025s\n",
      "Isolation forest ROC:0.7035, precision @ rank n: 0.6041, execution time: 1.0853s\n",
      "K Nearest neibghours (KNN) ROC:0.6716, precision @ rank n: 0.471, execution time: 1.2672s\n",
      "Local outlier factor ROC:0.5407, precision @ rank n: 0.3481, execution time: 1.1943s\n",
      "Minimum Covariance determination (MCD) ROC:0.8007, precision @ rank n: 0.6809, execution time: 3.3599s\n",
      "One-class SVM (OCSVM) ROC:0.662, precision @ rank n: 0.5324, execution time: 2.1277s\n",
      "Principal component analysis (PCA) ROC:0.5977, precision @ rank n: 0.4659, execution time: 0.03s\n",
      "\n",
      "...processing satimage-2.mat ...\n",
      "Angle-based outlier detector (ABOD) ROC:0.8291, precision @ rank n: 0.15, execution time: 2.8952s\n"
     ]
    },
    {
     "name": "stderr",
     "output_type": "stream",
     "text": [
      "C:\\Users\\User\\anaconda3\\lib\\site-packages\\sklearn\\cluster\\_kmeans.py:939: FutureWarning: 'n_jobs' was deprecated in version 0.23 and will be removed in 0.25.\n",
      "  \" removed in 0.25.\", FutureWarning)\n"
     ]
    },
    {
     "name": "stdout",
     "output_type": "stream",
     "text": [
      "Cluster-based Local outlier factor ROC:0.9996, precision @ rank n: 0.9, execution time: 0.4047s\n",
      "feature bagging ROC:0.4826, precision @ rank n: 0.0, execution time: 8.5717s\n",
      "HIstogram-base outlier detection (HBOS) ROC:0.987, precision @ rank n: 0.7, execution time: 0.024s\n",
      "Isolation forest ROC:0.996, precision @ rank n: 0.9, execution time: 1.0843s\n",
      "K Nearest neibghours (KNN) ROC:0.9571, precision @ rank n: 0.3, execution time: 1.3332s\n",
      "Local outlier factor ROC:0.4902, precision @ rank n: 0.0, execution time: 1.2202s\n",
      "Minimum Covariance determination (MCD) ROC:0.9926, precision @ rank n: 0.45, execution time: 3.0811s\n",
      "One-class SVM (OCSVM) ROC:0.9994, precision @ rank n: 0.9, execution time: 1.8079s\n",
      "Principal component analysis (PCA) ROC:0.9847, precision @ rank n: 0.85, execution time: 0.04s\n",
      "\n",
      "...processing shuttle.mat ...\n",
      "Angle-based outlier detector (ABOD) ROC:0.6097, precision @ rank n: 0.1762, execution time: 27.7468s\n"
     ]
    },
    {
     "name": "stderr",
     "output_type": "stream",
     "text": [
      "C:\\Users\\User\\anaconda3\\lib\\site-packages\\sklearn\\cluster\\_kmeans.py:939: FutureWarning: 'n_jobs' was deprecated in version 0.23 and will be removed in 0.25.\n",
      "  \" removed in 0.25.\", FutureWarning)\n"
     ]
    },
    {
     "name": "stdout",
     "output_type": "stream",
     "text": [
      "Cluster-based Local outlier factor ROC:0.6445, precision @ rank n: 0.2238, execution time: 0.7855s\n",
      "feature bagging ROC:0.4893, precision @ rank n: 0.1158, execution time: 104.4294s\n",
      "HIstogram-base outlier detection (HBOS) ROC:0.9793, precision @ rank n: 0.9475, execution time: 0.026s\n",
      "Isolation forest ROC:0.9971, precision @ rank n: 0.9574, execution time: 4.2923s\n",
      "K Nearest neibghours (KNN) ROC:0.6364, precision @ rank n: 0.2034, execution time: 11.377s\n",
      "Local outlier factor ROC:0.5329, precision @ rank n: 0.1248, execution time: 20.4583s\n"
     ]
    },
    {
     "name": "stderr",
     "output_type": "stream",
     "text": [
      "C:\\Users\\User\\anaconda3\\lib\\site-packages\\sklearn\\covariance\\_robust_covariance.py:171: RuntimeWarning: Determinant has increased; this should not happen: log(det) > log(previous_det) (-49.527724057611870 > -110.239465514220910). You may want to try with a higher value of support_fraction (current value: 0.502).\n",
      "  RuntimeWarning)\n",
      "C:\\Users\\User\\anaconda3\\lib\\site-packages\\sklearn\\covariance\\_robust_covariance.py:171: RuntimeWarning: Determinant has increased; this should not happen: log(det) > log(previous_det) (-49.402894634520067 > -77.743131709223178). You may want to try with a higher value of support_fraction (current value: 0.502).\n",
      "  RuntimeWarning)\n",
      "C:\\Users\\User\\anaconda3\\lib\\site-packages\\sklearn\\covariance\\_robust_covariance.py:171: RuntimeWarning: Determinant has increased; this should not happen: log(det) > log(previous_det) (-49.781420309538454 > -78.430242529248403). You may want to try with a higher value of support_fraction (current value: 0.502).\n",
      "  RuntimeWarning)\n",
      "C:\\Users\\User\\anaconda3\\lib\\site-packages\\sklearn\\covariance\\_robust_covariance.py:171: RuntimeWarning: Determinant has increased; this should not happen: log(det) > log(previous_det) (-49.976191585608461 > -75.736335548323410). You may want to try with a higher value of support_fraction (current value: 0.502).\n",
      "  RuntimeWarning)\n",
      "C:\\Users\\User\\anaconda3\\lib\\site-packages\\sklearn\\covariance\\_robust_covariance.py:171: RuntimeWarning: Determinant has increased; this should not happen: log(det) > log(previous_det) (-50.828836608660083 > -78.382037279605839). You may want to try with a higher value of support_fraction (current value: 0.501).\n",
      "  RuntimeWarning)\n",
      "C:\\Users\\User\\anaconda3\\lib\\site-packages\\sklearn\\covariance\\_robust_covariance.py:171: RuntimeWarning: Determinant has increased; this should not happen: log(det) > log(previous_det) (-50.533590825417249 > -79.366837454736853). You may want to try with a higher value of support_fraction (current value: 0.501).\n",
      "  RuntimeWarning)\n",
      "C:\\Users\\User\\anaconda3\\lib\\site-packages\\sklearn\\covariance\\_robust_covariance.py:171: RuntimeWarning: Determinant has increased; this should not happen: log(det) > log(previous_det) (-50.333824778390593 > -79.141202935717729). You may want to try with a higher value of support_fraction (current value: 0.501).\n",
      "  RuntimeWarning)\n",
      "C:\\Users\\User\\anaconda3\\lib\\site-packages\\sklearn\\covariance\\_robust_covariance.py:171: RuntimeWarning: Determinant has increased; this should not happen: log(det) > log(previous_det) (-49.522845801139120 > -77.739886149859387). You may want to try with a higher value of support_fraction (current value: 0.501).\n",
      "  RuntimeWarning)\n",
      "C:\\Users\\User\\anaconda3\\lib\\site-packages\\sklearn\\covariance\\_robust_covariance.py:171: RuntimeWarning: Determinant has increased; this should not happen: log(det) > log(previous_det) (-50.535302127925924 > -79.347384741307309). You may want to try with a higher value of support_fraction (current value: 0.501).\n",
      "  RuntimeWarning)\n",
      "C:\\Users\\User\\anaconda3\\lib\\site-packages\\sklearn\\covariance\\_robust_covariance.py:171: RuntimeWarning: Determinant has increased; this should not happen: log(det) > log(previous_det) (-50.248293937582979 > -77.246622461179172). You may want to try with a higher value of support_fraction (current value: 0.501).\n",
      "  RuntimeWarning)\n",
      "C:\\Users\\User\\anaconda3\\lib\\site-packages\\sklearn\\covariance\\_robust_covariance.py:171: RuntimeWarning: Determinant has increased; this should not happen: log(det) > log(previous_det) (-51.219950604549574 > -79.331743208826794). You may want to try with a higher value of support_fraction (current value: 0.501).\n",
      "  RuntimeWarning)\n",
      "C:\\Users\\User\\anaconda3\\lib\\site-packages\\sklearn\\covariance\\_robust_covariance.py:171: RuntimeWarning: Determinant has increased; this should not happen: log(det) > log(previous_det) (-50.980747621504918 > -79.862087461503961). You may want to try with a higher value of support_fraction (current value: 0.501).\n",
      "  RuntimeWarning)\n",
      "C:\\Users\\User\\anaconda3\\lib\\site-packages\\sklearn\\covariance\\_robust_covariance.py:171: RuntimeWarning: Determinant has increased; this should not happen: log(det) > log(previous_det) (-50.442878286472755 > -77.329267194892722). You may want to try with a higher value of support_fraction (current value: 0.501).\n",
      "  RuntimeWarning)\n",
      "C:\\Users\\User\\anaconda3\\lib\\site-packages\\sklearn\\covariance\\_robust_covariance.py:171: RuntimeWarning: Determinant has increased; this should not happen: log(det) > log(previous_det) (-50.853907276911933 > -77.756588023710336). You may want to try with a higher value of support_fraction (current value: 0.501).\n",
      "  RuntimeWarning)\n",
      "C:\\Users\\User\\anaconda3\\lib\\site-packages\\sklearn\\covariance\\_robust_covariance.py:171: RuntimeWarning: Determinant has increased; this should not happen: log(det) > log(previous_det) (-50.881680074700476 > -79.720126252415213). You may want to try with a higher value of support_fraction (current value: 0.501).\n",
      "  RuntimeWarning)\n",
      "C:\\Users\\User\\anaconda3\\lib\\site-packages\\sklearn\\covariance\\_robust_covariance.py:171: RuntimeWarning: Determinant has increased; this should not happen: log(det) > log(previous_det) (-51.347546316812071 > -77.884690920189740). You may want to try with a higher value of support_fraction (current value: 0.501).\n",
      "  RuntimeWarning)\n",
      "C:\\Users\\User\\anaconda3\\lib\\site-packages\\sklearn\\covariance\\_robust_covariance.py:171: RuntimeWarning: Determinant has increased; this should not happen: log(det) > log(previous_det) (-50.693610795105002 > -76.729465705773521). You may want to try with a higher value of support_fraction (current value: 0.501).\n",
      "  RuntimeWarning)\n",
      "C:\\Users\\User\\anaconda3\\lib\\site-packages\\sklearn\\covariance\\_robust_covariance.py:171: RuntimeWarning: Determinant has increased; this should not happen: log(det) > log(previous_det) (-51.214269869909685 > -78.606897913700450). You may want to try with a higher value of support_fraction (current value: 0.501).\n",
      "  RuntimeWarning)\n",
      "C:\\Users\\User\\anaconda3\\lib\\site-packages\\sklearn\\covariance\\_robust_covariance.py:171: RuntimeWarning: Determinant has increased; this should not happen: log(det) > log(previous_det) (-50.529758567065933 > -76.885116532418351). You may want to try with a higher value of support_fraction (current value: 0.501).\n",
      "  RuntimeWarning)\n",
      "C:\\Users\\User\\anaconda3\\lib\\site-packages\\sklearn\\covariance\\_robust_covariance.py:171: RuntimeWarning: Determinant has increased; this should not happen: log(det) > log(previous_det) (-50.774779662285781 > -78.660243510617917). You may want to try with a higher value of support_fraction (current value: 0.501).\n",
      "  RuntimeWarning)\n",
      "C:\\Users\\User\\anaconda3\\lib\\site-packages\\sklearn\\covariance\\_robust_covariance.py:171: RuntimeWarning: Determinant has increased; this should not happen: log(det) > log(previous_det) (-50.811285273685385 > -77.562762917009834). You may want to try with a higher value of support_fraction (current value: 0.501).\n",
      "  RuntimeWarning)\n",
      "C:\\Users\\User\\anaconda3\\lib\\site-packages\\sklearn\\covariance\\_robust_covariance.py:171: RuntimeWarning: Determinant has increased; this should not happen: log(det) > log(previous_det) (-50.502002041874036 > -78.463833698477188). You may want to try with a higher value of support_fraction (current value: 0.501).\n",
      "  RuntimeWarning)\n",
      "C:\\Users\\User\\anaconda3\\lib\\site-packages\\sklearn\\covariance\\_robust_covariance.py:171: RuntimeWarning: Determinant has increased; this should not happen: log(det) > log(previous_det) (-50.792803774733784 > -78.741991433435430). You may want to try with a higher value of support_fraction (current value: 0.501).\n",
      "  RuntimeWarning)\n",
      "C:\\Users\\User\\anaconda3\\lib\\site-packages\\sklearn\\covariance\\_robust_covariance.py:171: RuntimeWarning: Determinant has increased; this should not happen: log(det) > log(previous_det) (-49.998614651479450 > -78.198714851393987). You may want to try with a higher value of support_fraction (current value: 0.501).\n",
      "  RuntimeWarning)\n",
      "C:\\Users\\User\\anaconda3\\lib\\site-packages\\sklearn\\covariance\\_robust_covariance.py:171: RuntimeWarning: Determinant has increased; this should not happen: log(det) > log(previous_det) (-51.174143630566995 > -78.940830590319266). You may want to try with a higher value of support_fraction (current value: 0.501).\n",
      "  RuntimeWarning)\n",
      "C:\\Users\\User\\anaconda3\\lib\\site-packages\\sklearn\\covariance\\_robust_covariance.py:171: RuntimeWarning: Determinant has increased; this should not happen: log(det) > log(previous_det) (-51.157719765857557 > -78.051747679828821). You may want to try with a higher value of support_fraction (current value: 0.501).\n",
      "  RuntimeWarning)\n",
      "C:\\Users\\User\\anaconda3\\lib\\site-packages\\sklearn\\covariance\\_robust_covariance.py:171: RuntimeWarning: Determinant has increased; this should not happen: log(det) > log(previous_det) (-49.799017457822927 > -76.967903817496079). You may want to try with a higher value of support_fraction (current value: 0.501).\n",
      "  RuntimeWarning)\n",
      "C:\\Users\\User\\anaconda3\\lib\\site-packages\\sklearn\\covariance\\_robust_covariance.py:171: RuntimeWarning: Determinant has increased; this should not happen: log(det) > log(previous_det) (-50.618709363533782 > -77.868280458714892). You may want to try with a higher value of support_fraction (current value: 0.501).\n",
      "  RuntimeWarning)\n",
      "C:\\Users\\User\\anaconda3\\lib\\site-packages\\sklearn\\covariance\\_robust_covariance.py:171: RuntimeWarning: Determinant has increased; this should not happen: log(det) > log(previous_det) (-51.323973065805369 > -79.058848243833793). You may want to try with a higher value of support_fraction (current value: 0.501).\n",
      "  RuntimeWarning)\n",
      "C:\\Users\\User\\anaconda3\\lib\\site-packages\\sklearn\\covariance\\_robust_covariance.py:171: RuntimeWarning: Determinant has increased; this should not happen: log(det) > log(previous_det) (-50.859865412169739 > -78.084173944505622). You may want to try with a higher value of support_fraction (current value: 0.501).\n",
      "  RuntimeWarning)\n",
      "C:\\Users\\User\\anaconda3\\lib\\site-packages\\sklearn\\covariance\\_robust_covariance.py:171: RuntimeWarning: Determinant has increased; this should not happen: log(det) > log(previous_det) (-51.355837924045687 > -78.998071051293337). You may want to try with a higher value of support_fraction (current value: 0.501).\n",
      "  RuntimeWarning)\n",
      "C:\\Users\\User\\anaconda3\\lib\\site-packages\\sklearn\\covariance\\_robust_covariance.py:171: RuntimeWarning: Determinant has increased; this should not happen: log(det) > log(previous_det) (-50.677877808798620 > -79.636143239904911). You may want to try with a higher value of support_fraction (current value: 0.501).\n",
      "  RuntimeWarning)\n",
      "C:\\Users\\User\\anaconda3\\lib\\site-packages\\sklearn\\covariance\\_robust_covariance.py:171: RuntimeWarning: Determinant has increased; this should not happen: log(det) > log(previous_det) (-50.175564168801024 > -77.492527038839839). You may want to try with a higher value of support_fraction (current value: 0.501).\n",
      "  RuntimeWarning)\n",
      "C:\\Users\\User\\anaconda3\\lib\\site-packages\\sklearn\\covariance\\_robust_covariance.py:171: RuntimeWarning: Determinant has increased; this should not happen: log(det) > log(previous_det) (-50.619622939441761 > -77.591160738660307). You may want to try with a higher value of support_fraction (current value: 0.501).\n",
      "  RuntimeWarning)\n",
      "C:\\Users\\User\\anaconda3\\lib\\site-packages\\sklearn\\covariance\\_robust_covariance.py:171: RuntimeWarning: Determinant has increased; this should not happen: log(det) > log(previous_det) (-51.032572729390687 > -78.332843945534961). You may want to try with a higher value of support_fraction (current value: 0.501).\n",
      "  RuntimeWarning)\n",
      "C:\\Users\\User\\anaconda3\\lib\\site-packages\\sklearn\\covariance\\_robust_covariance.py:171: RuntimeWarning: Determinant has increased; this should not happen: log(det) > log(previous_det) (-50.424191614606180 > -77.565084406329433). You may want to try with a higher value of support_fraction (current value: 0.501).\n",
      "  RuntimeWarning)\n",
      "C:\\Users\\User\\anaconda3\\lib\\site-packages\\sklearn\\covariance\\_robust_covariance.py:171: RuntimeWarning: Determinant has increased; this should not happen: log(det) > log(previous_det) (-49.932495322337644 > -77.476425404338073). You may want to try with a higher value of support_fraction (current value: 0.501).\n",
      "  RuntimeWarning)\n",
      "C:\\Users\\User\\anaconda3\\lib\\site-packages\\sklearn\\covariance\\_robust_covariance.py:171: RuntimeWarning: Determinant has increased; this should not happen: log(det) > log(previous_det) (-50.844341464178861 > -79.174042496995526). You may want to try with a higher value of support_fraction (current value: 0.501).\n",
      "  RuntimeWarning)\n",
      "C:\\Users\\User\\anaconda3\\lib\\site-packages\\sklearn\\covariance\\_robust_covariance.py:171: RuntimeWarning: Determinant has increased; this should not happen: log(det) > log(previous_det) (-50.581245307303213 > -77.288108165907175). You may want to try with a higher value of support_fraction (current value: 0.501).\n",
      "  RuntimeWarning)\n",
      "C:\\Users\\User\\anaconda3\\lib\\site-packages\\sklearn\\covariance\\_robust_covariance.py:171: RuntimeWarning: Determinant has increased; this should not happen: log(det) > log(previous_det) (-50.400194441075953 > -77.331791650147949). You may want to try with a higher value of support_fraction (current value: 0.501).\n",
      "  RuntimeWarning)\n"
     ]
    },
    {
     "name": "stdout",
     "output_type": "stream",
     "text": [
      "Minimum Covariance determination (MCD) ROC:0.9897, precision @ rank n: 0.7327, execution time: 19.0752s\n",
      "One-class SVM (OCSVM) ROC:0.99, precision @ rank n: 0.9525, execution time: 92.1939s\n",
      "Principal component analysis (PCA) ROC:0.988, precision @ rank n: 0.9465, execution time: 0.062s\n",
      "\n",
      "...processing vertebral.mat ...\n",
      "Angle-based outlier detector (ABOD) ROC:0.5097, precision @ rank n: 0.1111, execution time: 0.1059s\n",
      "Cluster-based Local outlier factor ROC:0.3986, precision @ rank n: 0.1111, execution time: 0.068s\n",
      "feature bagging ROC:0.478, precision @ rank n: 0.1111, execution time: 0.053s\n",
      "HIstogram-base outlier detection (HBOS) ROC:0.2998, precision @ rank n: 0.0, execution time: 0.003s\n"
     ]
    },
    {
     "name": "stderr",
     "output_type": "stream",
     "text": [
      "C:\\Users\\User\\anaconda3\\lib\\site-packages\\sklearn\\cluster\\_kmeans.py:939: FutureWarning: 'n_jobs' was deprecated in version 0.23 and will be removed in 0.25.\n",
      "  \" removed in 0.25.\", FutureWarning)\n"
     ]
    },
    {
     "name": "stdout",
     "output_type": "stream",
     "text": [
      "Isolation forest ROC:0.4444, precision @ rank n: 0.1111, execution time: 0.4127s\n",
      "K Nearest neibghours (KNN) ROC:0.425, precision @ rank n: 0.1111, execution time: 0.013s\n",
      "Local outlier factor ROC:0.4603, precision @ rank n: 0.1111, execution time: 0.004s\n",
      "Minimum Covariance determination (MCD) ROC:0.4638, precision @ rank n: 0.0, execution time: 0.07s\n",
      "One-class SVM (OCSVM) ROC:0.5414, precision @ rank n: 0.1111, execution time: 0.003s\n",
      "Principal component analysis (PCA) ROC:0.4533, precision @ rank n: 0.0, execution time: 0.003s\n",
      "\n",
      "...processing vowels.mat ...\n"
     ]
    },
    {
     "name": "stderr",
     "output_type": "stream",
     "text": [
      "C:\\Users\\User\\anaconda3\\lib\\site-packages\\sklearn\\covariance\\_robust_covariance.py:171: RuntimeWarning: Determinant has increased; this should not happen: log(det) > log(previous_det) (-23.692734607890436 > -43.488069457355124). You may want to try with a higher value of support_fraction (current value: 0.524).\n",
      "  RuntimeWarning)\n"
     ]
    },
    {
     "name": "stdout",
     "output_type": "stream",
     "text": [
      "Angle-based outlier detector (ABOD) ROC:0.9531, precision @ rank n: 0.4286, execution time: 0.6296s\n",
      "Cluster-based Local outlier factor ROC:0.8261, precision @ rank n: 0.1429, execution time: 0.1799s\n"
     ]
    },
    {
     "name": "stderr",
     "output_type": "stream",
     "text": [
      "C:\\Users\\User\\anaconda3\\lib\\site-packages\\sklearn\\cluster\\_kmeans.py:939: FutureWarning: 'n_jobs' was deprecated in version 0.23 and will be removed in 0.25.\n",
      "  \" removed in 0.25.\", FutureWarning)\n"
     ]
    },
    {
     "name": "stdout",
     "output_type": "stream",
     "text": [
      "feature bagging ROC:0.9377, precision @ rank n: 0.2143, execution time: 0.5577s\n",
      "HIstogram-base outlier detection (HBOS) ROC:0.6707, precision @ rank n: 0.2143, execution time: 0.006s\n",
      "Isolation forest ROC:0.7835, precision @ rank n: 0.1429, execution time: 0.5037s\n",
      "K Nearest neibghours (KNN) ROC:0.9681, precision @ rank n: 0.5, execution time: 0.1019s\n",
      "Local outlier factor ROC:0.9296, precision @ rank n: 0.2143, execution time: 0.065s\n",
      "Minimum Covariance determination (MCD) ROC:0.6589, precision @ rank n: 0.0, execution time: 1.5291s\n",
      "One-class SVM (OCSVM) ROC:0.7984, precision @ rank n: 0.2857, execution time: 0.0859s\n",
      "Principal component analysis (PCA) ROC:0.6292, precision @ rank n: 0.0714, execution time: 0.005s\n",
      "\n",
      "...processing wbc.mat ...\n",
      "Angle-based outlier detector (ABOD) ROC:0.8899, precision @ rank n: 0.0, execution time: 0.2069s\n",
      "Cluster-based Local outlier factor ROC:0.8991, precision @ rank n: 0.4, execution time: 0.0879s\n"
     ]
    },
    {
     "name": "stderr",
     "output_type": "stream",
     "text": [
      "C:\\Users\\User\\anaconda3\\lib\\site-packages\\sklearn\\cluster\\_kmeans.py:939: FutureWarning: 'n_jobs' was deprecated in version 0.23 and will be removed in 0.25.\n",
      "  \" removed in 0.25.\", FutureWarning)\n"
     ]
    },
    {
     "name": "stdout",
     "output_type": "stream",
     "text": [
      "feature bagging ROC:0.9321, precision @ rank n: 0.4, execution time: 0.1309s\n",
      "HIstogram-base outlier detection (HBOS) ROC:0.9083, precision @ rank n: 0.4, execution time: 0.013s\n",
      "Isolation forest ROC:0.9174, precision @ rank n: 0.4, execution time: 0.4387s\n",
      "K Nearest neibghours (KNN) ROC:0.9156, precision @ rank n: 0.2, execution time: 0.026s\n",
      "Local outlier factor ROC:0.9321, precision @ rank n: 0.4, execution time: 0.012s\n",
      "Minimum Covariance determination (MCD) ROC:0.8624, precision @ rank n: 0.4, execution time: 0.1109s\n",
      "One-class SVM (OCSVM) ROC:0.9339, precision @ rank n: 0.4, execution time: 0.008s\n",
      "Principal component analysis (PCA) ROC:0.9193, precision @ rank n: 0.4, execution time: 0.003s\n",
      "\n",
      " the prn_df\n",
      "         Data #Samples #Dimensions Outlier Perc    ABOD   CBLOF      FB  \\\n",
      "0  arrhythmia      452         274      14.6018  0.2308  0.3077  0.2308   \n",
      "0      cardio     1831          21       9.6122  0.2321  0.2679  0.1429   \n",
      "0       glass      214           9       4.2056       0  0.3333  0.3333   \n",
      "0  ionosphere      351          33      35.8974  0.8333  0.6111  0.7222   \n",
      "0      letter     1600          32         6.25  0.2812   0.125  0.4062   \n",
      "0      lympho      148          18       4.0541     0.5       1       1   \n",
      "0       mnist     7603         100       9.2069  0.3682  0.4328  0.3383   \n",
      "0        musk     3062         166       3.1679       0       1  0.2581   \n",
      "0   optdigits     5216          64       2.8758       0       0   0.025   \n",
      "0   pendigits     6870          16       2.2707     0.1   0.125    0.05   \n",
      "0        pima      768           8      34.8958  0.5488  0.5244   0.439   \n",
      "0   satellite     6435          36      31.6395  0.3771  0.6109  0.3532   \n",
      "0  satimage-2     5803          36       1.2235    0.15     0.9       0   \n",
      "0     shuttle    49097           9       7.1511  0.1762  0.2238  0.1158   \n",
      "0   vertebral      240           6         12.5  0.1111  0.1111  0.1111   \n",
      "0      vowels     1456          12       3.4341  0.4286  0.1429  0.2143   \n",
      "0         wbc      378          30       5.5556       0     0.4     0.4   \n",
      "\n",
      "     HBOS IForest     KNN     LOF     MCD   OCSVM     PCA  \n",
      "0  0.3846  0.3077  0.3077  0.3077  0.1538  0.3077  0.3077  \n",
      "0  0.4286  0.4643  0.3214  0.1964  0.4643  0.5179  0.5536  \n",
      "0       0       0  0.3333  0.3333       0  0.3333       0  \n",
      "0    0.25  0.6667  0.9167  0.6944  0.8889  0.7222  0.5556  \n",
      "0  0.0312  0.0625  0.3125  0.4062   0.125  0.0938  0.0625  \n",
      "0       1       1     0.5       1     0.5       1       1  \n",
      "0  0.0995  0.2886  0.4378  0.3234  0.3831   0.398  0.3781  \n",
      "0  0.9667  0.9032  0.2581  0.1935  0.9677       1       1  \n",
      "0     0.2   0.025       0   0.025       0       0       0  \n",
      "0    0.25   0.275     0.1   0.075     0.1   0.225     0.2  \n",
      "0   0.561  0.5366   0.561  0.4634   0.561  0.5122  0.4878  \n",
      "0  0.5802  0.6041   0.471  0.3481  0.6809  0.5324  0.4659  \n",
      "0     0.7     0.9     0.3       0    0.45     0.9    0.85  \n",
      "0  0.9475  0.9574  0.2034  0.1248  0.7327  0.9525  0.9465  \n",
      "0       0  0.1111  0.1111  0.1111       0  0.1111       0  \n",
      "0  0.2143  0.1429     0.5  0.2143       0  0.2857  0.0714  \n",
      "0     0.4     0.4     0.2     0.4     0.4     0.4     0.4  \n",
      "\n",
      " the time_df\n",
      "         Data #Samples #Dimensions Outlier Perc     ABOD   CBLOF       FB  \\\n",
      "0  arrhythmia      452         274      14.6018    1.923   1.852   0.6816   \n",
      "0      cardio     1831          21       9.6122   0.7405  0.1489   1.0653   \n",
      "0       glass      214           9       4.2056   0.0809    0.06    0.053   \n",
      "0  ionosphere      351          33      35.8974   0.1319   0.082   0.1059   \n",
      "0      letter     1600          32         6.25   0.6636  0.1589   1.1493   \n",
      "0      lympho      148          18       4.0541    0.066   0.067    0.046   \n",
      "0       mnist     7603         100       9.2069  10.4945  1.2702  52.2327   \n",
      "0        musk     3062         166       3.1679   3.4549  0.4487   19.386   \n",
      "0   optdigits     5216          64       2.8758   3.8856  0.6546  18.2477   \n",
      "0   pendigits     6870          16       2.2707   2.6604  0.3758   5.2078   \n",
      "0        pima      768           8      34.8958   0.3308  0.1769   0.1639   \n",
      "0   satellite     6435          36      31.6395   3.1211  0.3568   8.2009   \n",
      "0  satimage-2     5803          36       1.2235   2.8952  0.4047   8.5717   \n",
      "0     shuttle    49097           9       7.1511  27.7468  0.7855  104.429   \n",
      "0   vertebral      240           6         12.5   0.1059   0.068    0.053   \n",
      "0      vowels     1456          12       3.4341   0.6296  0.1799   0.5577   \n",
      "0         wbc      378          30       5.5556   0.2069  0.0879   0.1309   \n",
      "\n",
      "     HBOS IForest     KNN      LOF      MCD    OCSVM     PCA  \n",
      "0  2.4298  0.5367  0.0979   0.0819   0.9804    0.053   0.067  \n",
      "0   0.012  0.5936  0.1859   0.1309   0.8335   0.1489   0.009  \n",
      "0   0.005  0.3928   0.012    0.005    0.057    0.003   0.003  \n",
      "0   0.015  0.3978   0.023    0.012   0.0839    0.008   0.005  \n",
      "0   0.015  0.5377  0.1959   0.1659    1.631   0.1209   0.007  \n",
      "0   0.008  0.3668   0.008    0.004    0.075    0.003   0.004  \n",
      "0   0.072  2.7413  8.6806   7.9271   4.3203   6.3191  0.1653  \n",
      "0  0.0869  2.0537   3.172    3.209  20.7152    1.582  0.1887  \n",
      "0   0.057  1.8918  2.5434   2.3945   2.0277   2.0217   0.053  \n",
      "0   0.013  0.9354  0.7206   0.7455   3.3849   1.7169   0.011  \n",
      "0   0.005  0.4167   0.042    0.017   0.9034    0.017   0.004  \n",
      "0   0.025  1.0853  1.2672   1.1943   3.3599   2.1277    0.03  \n",
      "0   0.024  1.0843  1.3332   1.2202   3.0811   1.8079    0.04  \n",
      "0   0.026  4.2923  11.377  20.4583  19.0752  92.1939   0.062  \n",
      "0   0.003  0.4127   0.013    0.004     0.07    0.003   0.003  \n",
      "0   0.006  0.5037  0.1019    0.065   1.5291   0.0859   0.005  \n",
      "0   0.013  0.4387   0.026    0.012   0.1109    0.008   0.003  \n",
      "\n",
      " the roc_df\n",
      "         Data #Samples #Dimensions Outlier Perc    ABOD   CBLOF      FB  \\\n",
      "0  arrhythmia      452         274      14.6018  0.7098  0.7311  0.7392   \n",
      "0      cardio     1831          21       9.6122  0.5752  0.7141  0.5453   \n",
      "0       glass      214           9       4.2056  0.9032   0.957   0.914   \n",
      "0  ionosphere      351          33      35.8974  0.9246  0.8385  0.8706   \n",
      "0      letter     1600          32         6.25  0.8594  0.7277  0.8624   \n",
      "0      lympho      148          18       4.0541  0.9302       1       1   \n",
      "0       mnist     7603         100       9.2069  0.7648  0.8305  0.7171   \n",
      "0        musk     3062         166       3.1679  0.1883       1  0.5142   \n",
      "0   optdigits     5216          64       2.8758  0.4216  0.8176  0.4668   \n",
      "0   pendigits     6870          16       2.2707  0.7327  0.9167  0.4631   \n",
      "0        pima      768           8      34.8958  0.6987  0.6791  0.6199   \n",
      "0   satellite     6435          36      31.6395  0.5716  0.7758  0.5421   \n",
      "0  satimage-2     5803          36       1.2235  0.8291  0.9996  0.4826   \n",
      "0     shuttle    49097           9       7.1511  0.6097  0.6445  0.4893   \n",
      "0   vertebral      240           6         12.5  0.5097  0.3986   0.478   \n",
      "0      vowels     1456          12       3.4341  0.9531  0.8261  0.9377   \n",
      "0         wbc      378          30       5.5556  0.8899  0.8991  0.9321   \n",
      "\n",
      "     HBOS IForest     KNN     LOF     MCD   OCSVM     PCA  \n",
      "0  0.8011   0.748  0.7248   0.733  0.6961  0.7548  0.7486  \n",
      "0  0.8077  0.8992  0.7254  0.5462  0.8175  0.9302  0.9443  \n",
      "0  0.8602  0.8817   0.957  0.9462  0.8441  0.8925   0.828  \n",
      "0  0.5246  0.8536  0.9429  0.8667  0.9476  0.8468  0.7802  \n",
      "0  0.5177  0.5827  0.8537  0.8495  0.7907  0.5529  0.4863  \n",
      "0       1       1  0.9767       1  0.9419       1       1  \n",
      "0  0.5667  0.7894  0.8493  0.7056  0.8745  0.8441  0.8467  \n",
      "0  0.9999  0.9993  0.8243  0.5052  0.9999       1       1  \n",
      "0  0.8991   0.776  0.3386  0.4613  0.3744  0.5272  0.5331  \n",
      "0  0.9267  0.9421  0.7487  0.4814  0.8504  0.9365  0.9426  \n",
      "0  0.6806  0.6803  0.7165  0.6294  0.6964  0.6395  0.6553  \n",
      "0  0.7732  0.7035  0.6716  0.5407  0.8007   0.662  0.5977  \n",
      "0   0.987   0.996  0.9571  0.4902  0.9926  0.9994  0.9847  \n",
      "0  0.9793  0.9971  0.6364  0.5329  0.9897    0.99   0.988  \n",
      "0  0.2998  0.4444   0.425  0.4603  0.4638  0.5414  0.4533  \n",
      "0  0.6707  0.7835  0.9681  0.9296  0.6589  0.7984  0.6292  \n",
      "0  0.9083  0.9174  0.9156  0.9321  0.8624  0.9339  0.9193  \n"
     ]
    }
   ],
   "source": [
    "import os\n",
    "import sys\n",
    "import numpy as np\n",
    "import pandas as pd\n",
    "    \n",
    "from sklearn.model_selection import train_test_split\n",
    "from scipy.io import loadmat\n",
    "    \n",
    "from pyod.models.pca import PCA\n",
    "from pyod.models.mcd import MCD\n",
    "from pyod.models.ocsvm import OCSVM\n",
    "from pyod.models.lof import LOF\n",
    "from pyod.models.cblof import CBLOF\n",
    "from pyod.models.knn import KNN\n",
    "from pyod.models.hbos import HBOS\n",
    "from pyod.models.abod import ABOD\n",
    "from pyod.models.iforest import IForest\n",
    "from pyod.models.feature_bagging import FeatureBagging\n",
    "from time import time            \n",
    "    \n",
    "from pyod.utils.utility import standardizer\n",
    "from pyod.utils.utility import precision_n_scores\n",
    "from sklearn.metrics import roc_auc_score\n",
    "    \n",
    "mat_file_list = ['arrhythmia.mat',\n",
    "                    'cardio.mat',\n",
    "                    'glass.mat',\n",
    "                    'ionosphere.mat',\n",
    "                    'letter.mat',\n",
    "                    'lympho.mat',\n",
    "                    'mnist.mat',\n",
    "                    'musk.mat',\n",
    "                    'optdigits.mat',\n",
    "                    'pendigits.mat',\n",
    "                    'pima.mat',\n",
    "                    'satellite.mat',\n",
    "                    'satimage-2.mat',\n",
    "                    'shuttle.mat',\n",
    "                    'vertebral.mat',\n",
    "                    'vowels.mat',\n",
    "                    'wbc.mat']\n",
    "    \n",
    "    \n",
    "df_columns = ['Data','#Samples','#Dimensions','Outlier Perc','ABOD','CBLOF','FB','HBOS','IForest','KNN','LOF','MCD','OCSVM','PCA']\n",
    "    \n",
    "roc_df = pd.DataFrame(columns=df_columns)\n",
    "print(roc_df)\n",
    "    \n",
    "time_df = pd.DataFrame(columns=df_columns)\n",
    "print(time_df)\n",
    "    \n",
    "prn_df = pd.DataFrame(columns=df_columns)\n",
    "print(prn_df)\n",
    "    \n",
    "print(os)\n",
    "random_state = np.random.RandomState(42)\n",
    "    \n",
    "for i in mat_file_list:\n",
    "        mat = loadmat(os.path.join('data', i))\n",
    "        print(\"\\n...processing\", i, '...')\n",
    "            \n",
    "            \n",
    "        X = mat['X']\n",
    "        y = mat['y'].ravel()\n",
    "        outliers_fraction = np.count_nonzero(y) / len(y)\n",
    "        outliers_percentage = round(outliers_fraction * 100, ndigits=4)\n",
    "            \n",
    "        roc_list = [i[:-4], X.shape[0], X.shape[1], outliers_percentage]\n",
    "        prn_list = [i[:-4], X.shape[0], X.shape[1], outliers_percentage]\n",
    "        time_list = [i[:-4], X.shape[0], X.shape[1], outliers_percentage]\n",
    "            \n",
    "        X_train, X_test, y_train, y_test = train_test_split(X, y, test_size = 0.3, random_state = None)\n",
    "        X_train_norm, X_test_norm = standardizer(X_train, X_test)\n",
    "            \n",
    "        classifiers = {'Angle-based outlier detector (ABOD)': ABOD(contamination = outliers_fraction),\n",
    "                           'Cluster-based Local outlier factor': CBLOF(contamination= outliers_fraction,check_estimator=False,random_state=random_state, alpha=0.75,beta=3),\n",
    "                           'feature bagging': FeatureBagging(contamination = outliers_fraction, random_state=None),\n",
    "                           'HIstogram-base outlier detection (HBOS)': HBOS(contamination=outliers_fraction),\n",
    "                           'Isolation forest': IForest(contamination=outliers_fraction, random_state=None),\n",
    "                           'K Nearest neibghours (KNN)': KNN(contamination=outliers_fraction),\n",
    "                           'Local outlier factor': LOF(contamination=outliers_fraction),\n",
    "                           'Minimum Covariance determination (MCD)': MCD(contamination=outliers_fraction, random_state=None),\n",
    "                           'One-class SVM (OCSVM)': OCSVM(contamination = outliers_fraction),\n",
    "                           'Principal component analysis (PCA)': PCA(contamination = outliers_fraction, random_state=None)}\n",
    "        for clf_name, clf in classifiers.items():\n",
    "            t0 = time()\n",
    "            clf.fit(X_train_norm)\n",
    "            test_scores = clf.decision_function(X_test_norm)\n",
    "            t1 = time()\n",
    "            duration = round(t1 - t0, ndigits=4)\n",
    "            time_list.append(duration)\n",
    "            \n",
    "            roc = round(roc_auc_score(y_test, test_scores), ndigits=4)\n",
    "            prn = round(precision_n_scores(y_test, test_scores), ndigits=4)\n",
    "            \n",
    "            print('{clf_name} ROC:{roc}, precision @ rank n: {prn}, execution time: {duration}s'.format(clf_name=clf_name,\n",
    "                                                                                                        roc=roc, prn=prn, duration=duration))\n",
    "            roc_list.append(roc)\n",
    "            prn_list.append(prn)\n",
    "        \n",
    "        temp_df = pd.DataFrame(time_list).transpose()\n",
    "        temp_df.columns = df_columns\n",
    "        time_df = pd.concat([time_df, temp_df], axis=0)\n",
    "    \n",
    "        temp_df = pd.DataFrame(roc_list).transpose()\n",
    "        temp_df.columns = df_columns\n",
    "        roc_df = pd.concat([roc_df, temp_df], axis=0)\n",
    "    \n",
    "        temp_df = pd.DataFrame(prn_list).transpose()\n",
    "        temp_df.columns = df_columns\n",
    "        prn_df = pd.concat([prn_df, temp_df], axis=0)\n",
    "    \n",
    "print(\"\\n the prn_df\")\n",
    "print(prn_df)\n",
    "print(\"\\n the time_df\")\n",
    "print(time_df)\n",
    "print(\"\\n the roc_df\")\n",
    "print(roc_df)"
   ]
  },
  {
   "cell_type": "code",
   "execution_count": null,
   "metadata": {},
   "outputs": [],
   "source": [
    "jupyter_notebook_config"
   ]
  },
  {
   "cell_type": "code",
   "execution_count": null,
   "metadata": {},
   "outputs": [],
   "source": []
  }
 ],
 "metadata": {
  "kernelspec": {
   "display_name": "Python 3",
   "language": "python",
   "name": "python3"
  },
  "language_info": {
   "codemirror_mode": {
    "name": "ipython",
    "version": 3
   },
   "file_extension": ".py",
   "mimetype": "text/x-python",
   "name": "python",
   "nbconvert_exporter": "python",
   "pygments_lexer": "ipython3",
   "version": "3.7.7"
  },
  "toc": {
   "base_numbering": 1,
   "nav_menu": {},
   "number_sections": true,
   "sideBar": true,
   "skip_h1_title": false,
   "title_cell": "Table of Contents",
   "title_sidebar": "Contents",
   "toc_cell": false,
   "toc_position": {},
   "toc_section_display": true,
   "toc_window_display": false
  }
 },
 "nbformat": 4,
 "nbformat_minor": 4
}
