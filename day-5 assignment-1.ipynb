{
 "cells": [
  {
   "cell_type": "markdown",
   "metadata": {},
   "source": [
    "# Write a Python program to find the first 20 non-even prime natural numbers"
   ]
  },
  {
   "cell_type": "code",
   "execution_count": 11,
   "metadata": {},
   "outputs": [
    {
     "name": "stdout",
     "output_type": "stream",
     "text": [
      "1\n",
      "1 is not a prime number\n",
      "3\n",
      "3 is a prime number\n",
      "5\n",
      "5 is a prime number\n",
      "7\n",
      "7 is a prime number\n",
      "9\n",
      "9 is a prime number\n",
      "11\n",
      "11 is a prime number\n",
      "13\n",
      "13 is a prime number\n",
      "15\n",
      "15 is a prime number\n",
      "17\n",
      "17 is a prime number\n",
      "19\n",
      "19 is a prime number\n"
     ]
    }
   ],
   "source": [
    "for i in range(0,20):\n",
    "    if i%2:\n",
    "        print(i)\n",
    "        if i > 1:\n",
    "            if(i % 2) == 0:\n",
    "                print(i, \"is not a prime number\") \n",
    "            else: \n",
    "                print(i, \"is a prime number\") \n",
    "        else:\n",
    "            print(i, \"is not a prime number\") \n",
    "   "
   ]
  },
  {
   "cell_type": "markdown",
   "metadata": {},
   "source": [
    "# Write a Python program to implement 15 functions of string.\n"
   ]
  },
  {
   "cell_type": "code",
   "execution_count": 14,
   "metadata": {},
   "outputs": [
    {
     "name": "stdout",
     "output_type": "stream",
     "text": [
      "Hello guys\n",
      "1\n",
      "4\n",
      "7\n",
      "iiiiihello guysiiiii\n",
      "False\n",
      "True\n",
      "False\n",
      "False\n",
      "hello guys\n",
      "False\n",
      "Hello Guys\n",
      "False\n",
      "hello guys\n",
      "True\n",
      "['hello', 'guys']\n"
     ]
    }
   ],
   "source": [
    "h = \"hello guys\"\n",
    "x = h.capitalize()\n",
    "print(x)\n",
    "a = h.count(\"guys\")\n",
    "print(a)\n",
    "b = h.find(\"o\")\n",
    "print(b)\n",
    "c = h.index(\"u\")\n",
    "print(c)\n",
    "d = h.center(20, \"i\")\n",
    "print(d)\n",
    "e = h.isalpha()\n",
    "print(e)\n",
    "f = h.islower()\n",
    "print(f)\n",
    "g = h.isnumeric()\n",
    "print(g)\n",
    "i = h.isupper()\n",
    "print(i)\n",
    "j = h.expandtabs(3)\n",
    "print(j)\n",
    "k = h.endswith(\".\")\n",
    "print(k)\n",
    "l = h.title()\n",
    "print(l)\n",
    "m = h.isalnum()\n",
    "print(m)\n",
    "n = h.casefold()\n",
    "print(n)\n",
    "o = h.isprintable()\n",
    "print(o)\n",
    "p = h.split()\n",
    "print(p)"
   ]
  },
  {
   "cell_type": "markdown",
   "metadata": {},
   "source": [
    "# Write a Python program to check if the given string is a Palindrome or Anagram or None of them. Display the message accordingly to the user."
   ]
  },
  {
   "cell_type": "code",
   "execution_count": 16,
   "metadata": {},
   "outputs": [
    {
     "name": "stdout",
     "output_type": "stream",
     "text": [
      "False\n",
      "True\n",
      "True\n",
      "False\n"
     ]
    }
   ],
   "source": [
    "wordA = 'banana'\n",
    "wordB = 'ana'\n",
    "\n",
    "def isPalindrome(word):\n",
    "    return str(word) == str(word)[::-1]\n",
    "print(isPalindrome(wordA))\n",
    "print(isPalindrome(wordB))\n",
    "\n",
    "def checkAnagram(word1, word2):\n",
    "    listWord1 = list(word1)\n",
    "    listWord1.sort()\n",
    "    listWord2 = list(word2)\n",
    "    listWord2.sort()\n",
    "    return (listWord1 == listWord2)\n",
    "\n",
    "print(checkAnagram(\"face\", \"cafe\"))\n",
    "print(checkAnagram(\"face\", \"caffe\"))"
   ]
  },
  {
   "cell_type": "markdown",
   "metadata": {},
   "source": [
    "# Write a Python's user defined function that removes all the additional characters from the string and converts it finally to lower case using built-in lower(). eg: If the string is \"Dr. Darshan Ingle @AI-ML Trainer\", then the output be \"drdarshaningleaimltrainer\"."
   ]
  },
  {
   "cell_type": "code",
   "execution_count": 28,
   "metadata": {},
   "outputs": [
    {
     "name": "stdout",
     "output_type": "stream",
     "text": [
      "Original String : Dr. Darshan Ingle @AI-ML Trainer\n",
      "Resultant list is : DrDarshanIngleAIMLTrainer\n",
      "the lower case of the string is:  drdarshaningleaimltrainer\n"
     ]
    }
   ],
   "source": [
    "chara = [';', ':', '!', \"*\", '@', '-', '.', ' '] \n",
    "\n",
    "our_string = \"Dr. Darshan Ingle @AI-ML Trainer\"\n",
    "\n",
    "print (\"Original String : \" + our_string) \n",
    "    \n",
    "for i in chara : \n",
    "    our_string = our_string.replace(i, '') \n",
    "    \n",
    "print (\"Resultant list is : \" + str(our_string)) \n",
    "me = our_string.casefold()\n",
    "print(\"the lower case of the string is: \", me)"
   ]
  },
  {
   "cell_type": "code",
   "execution_count": null,
   "metadata": {},
   "outputs": [],
   "source": []
  }
 ],
 "metadata": {
  "kernelspec": {
   "display_name": "Python 3",
   "language": "python",
   "name": "python3"
  },
  "language_info": {
   "codemirror_mode": {
    "name": "ipython",
    "version": 3
   },
   "file_extension": ".py",
   "mimetype": "text/x-python",
   "name": "python",
   "nbconvert_exporter": "python",
   "pygments_lexer": "ipython3",
   "version": "3.7.6"
  },
  "toc": {
   "base_numbering": 1,
   "nav_menu": {},
   "number_sections": true,
   "sideBar": true,
   "skip_h1_title": false,
   "title_cell": "Table of Contents",
   "title_sidebar": "Contents",
   "toc_cell": false,
   "toc_position": {},
   "toc_section_display": true,
   "toc_window_display": false
  }
 },
 "nbformat": 4,
 "nbformat_minor": 4
}
