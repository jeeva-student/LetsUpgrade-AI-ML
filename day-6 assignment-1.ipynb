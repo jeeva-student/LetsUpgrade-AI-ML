{
 "cells": [
  {
   "cell_type": "markdown",
   "metadata": {},
   "source": [
    "# Assuming that we have some email addresses in the \"username@companyname.com\" format, please write program to print the company name of a given email address. Both user names and company names are composed of letters only.\n"
   ]
  },
  {
   "cell_type": "code",
   "execution_count": 72,
   "metadata": {},
   "outputs": [
    {
     "name": "stdout",
     "output_type": "stream",
     "text": [
      "enter the email-id : jeeva@google.com\n",
      "the company name :  google\n"
     ]
    }
   ],
   "source": [
    "s= str(input(\"enter the email-id : \"))\n",
    "\n",
    "a = s.split(\"@\")[1]\n",
    "b = a.split(\".\")[0]\n",
    "print(\"the company name : \", b)"
   ]
  },
  {
   "cell_type": "markdown",
   "metadata": {},
   "source": [
    "# Write a program that accepts a comma-separated sequence of words as input and prints the words in a comma separated sequence after sorting them alphabetically.\n"
   ]
  },
  {
   "cell_type": "code",
   "execution_count": 41,
   "metadata": {},
   "outputs": [
    {
     "name": "stdout",
     "output_type": "stream",
     "text": [
      "Input comma separated sequence of wordsjeeva, sumathi, anand, nanda\n",
      " anand, nanda, sumathi,jeeva\n"
     ]
    }
   ],
   "source": [
    "name = input(\"Input comma separated sequence of words\")\n",
    "words = [word for word in name.split(\",\")]\n",
    "print(\",\".join(sorted(list(set(words)))))"
   ]
  },
  {
   "cell_type": "code",
   "execution_count": 43,
   "metadata": {},
   "outputs": [
    {
     "name": "stdout",
     "output_type": "stream",
     "text": [
      "[1, 2, 3, 4, 6, 7, 8, 9]\n",
      "<class 'list'>\n"
     ]
    }
   ],
   "source": [
    "a = [1,2,3,4,6,7,8,9]\n",
    "print(a)\n"
   ]
  },
  {
   "cell_type": "markdown",
   "metadata": {},
   "source": [
    "# Given a list of n-1 numbers ranging from 1 to n, your task is to find the missing number. There are no duplicates."
   ]
  },
  {
   "cell_type": "code",
   "execution_count": 53,
   "metadata": {},
   "outputs": [
    {
     "name": "stdout",
     "output_type": "stream",
     "text": [
      "the missing number from 1 to 9 is :  5\n"
     ]
    }
   ],
   "source": [
    "def getMissingNo(A): \n",
    "    n = len(A) \n",
    "    total = (n + 1)*(n + 2)/2\n",
    "    sum_of_A = sum(A) \n",
    "    return total - sum_of_A \n",
    "\n",
    "\n",
    "A = [1, 2, 3, 4, 6, 7, 8, 9] \n",
    "miss = getMissingNo(A) \n",
    "b = int(miss)\n",
    "print(\"the missing number from 1 to 9 is : \", b) "
   ]
  },
  {
   "cell_type": "markdown",
   "metadata": {},
   "source": [
    "# With a given list L, write a program to print this list L after removing all duplicate values with original order reserved."
   ]
  },
  {
   "cell_type": "code",
   "execution_count": 59,
   "metadata": {},
   "outputs": [
    {
     "name": "stdout",
     "output_type": "stream",
     "text": [
      "the duplicate series :  [2, 4, 10, 20, 5, 2, 20, 4]\n",
      "the original series :  [2, 4, 10, 20, 5]\n"
     ]
    }
   ],
   "source": [
    "def Remove(l): \n",
    "    final_list = [] \n",
    "    for num in l: \n",
    "        if num not in final_list: \n",
    "            final_list.append(num) \n",
    "    return final_list \n",
    "\n",
    "\n",
    "l = [2, 4, 10, 20, 5, 2, 20, 4] \n",
    "print(\"the duplicate series : \", l)\n",
    "print(\"the original series : \", Remove(l))\n"
   ]
  },
  {
   "cell_type": "markdown",
   "metadata": {},
   "source": [
    "# Create your own Jupyter Notebook for Sets.\n"
   ]
  },
  {
   "cell_type": "code",
   "execution_count": 60,
   "metadata": {},
   "outputs": [
    {
     "name": "stdout",
     "output_type": "stream",
     "text": [
      "{'hello', 'hi', 'everyone'}\n"
     ]
    }
   ],
   "source": [
    "new = {\"hi\", \"hello\", \"everyone\"}\n",
    "print(new)"
   ]
  },
  {
   "cell_type": "code",
   "execution_count": 61,
   "metadata": {},
   "outputs": [
    {
     "name": "stdout",
     "output_type": "stream",
     "text": [
      "hello\n",
      "hi\n",
      "everyone\n"
     ]
    }
   ],
   "source": [
    "for i in new:\n",
    "    print(i)"
   ]
  },
  {
   "cell_type": "code",
   "execution_count": 62,
   "metadata": {},
   "outputs": [
    {
     "name": "stdout",
     "output_type": "stream",
     "text": [
      "True\n"
     ]
    }
   ],
   "source": [
    "new = {\"hi\", \"hello\", \"everyone\"}\n",
    "print(\"hello\" in new)"
   ]
  },
  {
   "cell_type": "code",
   "execution_count": 63,
   "metadata": {},
   "outputs": [
    {
     "name": "stdout",
     "output_type": "stream",
     "text": [
      "{'hello', 'hi', 'everyone', 'letsupgrade'}\n"
     ]
    }
   ],
   "source": [
    "new = {\"hi\", \"hello\", \"everyone\"}\n",
    "new.add(\"letsupgrade\")\n",
    "print(new)"
   ]
  },
  {
   "cell_type": "code",
   "execution_count": 64,
   "metadata": {},
   "outputs": [
    {
     "name": "stdout",
     "output_type": "stream",
     "text": [
      "{'be cool', 'good morning', 'everyone', 'hello', 'hi', 'have a nice day'}\n"
     ]
    }
   ],
   "source": [
    "new = {\"hi\", \"hello\", \"everyone\"}\n",
    "new.update([\"good morning\", \"have a nice day\", \"be cool\"])\n",
    "print(new)"
   ]
  },
  {
   "cell_type": "code",
   "execution_count": 65,
   "metadata": {},
   "outputs": [
    {
     "name": "stdout",
     "output_type": "stream",
     "text": [
      "6\n"
     ]
    }
   ],
   "source": [
    "print(len(new))"
   ]
  },
  {
   "cell_type": "code",
   "execution_count": 66,
   "metadata": {},
   "outputs": [
    {
     "name": "stdout",
     "output_type": "stream",
     "text": [
      "{'be cool', 'good morning', 'everyone', 'hello', 'have a nice day'}\n"
     ]
    }
   ],
   "source": [
    "new.remove(\"hi\")\n",
    "print(new)"
   ]
  },
  {
   "cell_type": "code",
   "execution_count": 67,
   "metadata": {},
   "outputs": [
    {
     "name": "stdout",
     "output_type": "stream",
     "text": [
      "{'be cool', 'good morning', 'everyone', 'have a nice day'}\n"
     ]
    }
   ],
   "source": [
    "new.discard(\"hello\")\n",
    "print(new)"
   ]
  },
  {
   "cell_type": "code",
   "execution_count": 68,
   "metadata": {},
   "outputs": [
    {
     "name": "stdout",
     "output_type": "stream",
     "text": [
      "be cool\n",
      "{'good morning', 'everyone', 'have a nice day'}\n"
     ]
    }
   ],
   "source": [
    "you = new.pop()\n",
    "print(you)\n",
    "print(new)"
   ]
  },
  {
   "cell_type": "code",
   "execution_count": 69,
   "metadata": {},
   "outputs": [],
   "source": [
    "dood = set((\"hi\", \"hello\", \"letsupgrade\", \"good morning\"))"
   ]
  },
  {
   "cell_type": "code",
   "execution_count": 70,
   "metadata": {},
   "outputs": [
    {
     "name": "stdout",
     "output_type": "stream",
     "text": [
      "{'hello', 'hi', 'good morning', 'letsupgrade'}\n",
      "<class 'set'>\n"
     ]
    }
   ],
   "source": [
    "print(dood)\n",
    "print(type(dood))"
   ]
  },
  {
   "cell_type": "code",
   "execution_count": 71,
   "metadata": {},
   "outputs": [
    {
     "name": "stdout",
     "output_type": "stream",
     "text": [
      "{'good morning', 'everyone', 'hello', 'hi', 'letsupgrade', 'have a nice day'}\n"
     ]
    }
   ],
   "source": [
    "new .update(dood)\n",
    "print(new)"
   ]
  },
  {
   "cell_type": "code",
   "execution_count": null,
   "metadata": {},
   "outputs": [],
   "source": []
  }
 ],
 "metadata": {
  "kernelspec": {
   "display_name": "Python 3",
   "language": "python",
   "name": "python3"
  },
  "language_info": {
   "codemirror_mode": {
    "name": "ipython",
    "version": 3
   },
   "file_extension": ".py",
   "mimetype": "text/x-python",
   "name": "python",
   "nbconvert_exporter": "python",
   "pygments_lexer": "ipython3",
   "version": "3.7.6"
  },
  "toc": {
   "base_numbering": 1,
   "nav_menu": {},
   "number_sections": true,
   "sideBar": true,
   "skip_h1_title": false,
   "title_cell": "Table of Contents",
   "title_sidebar": "Contents",
   "toc_cell": false,
   "toc_position": {},
   "toc_section_display": true,
   "toc_window_display": false
  }
 },
 "nbformat": 4,
 "nbformat_minor": 4
}
