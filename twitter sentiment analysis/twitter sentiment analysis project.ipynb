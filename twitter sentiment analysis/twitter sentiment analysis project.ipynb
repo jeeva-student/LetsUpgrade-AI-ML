{
 "cells": [
  {
   "cell_type": "code",
   "execution_count": 1,
   "metadata": {},
   "outputs": [
    {
     "name": "stdout",
     "output_type": "stream",
     "text": [
      "Requirement already satisfied: tweepy in c:\\users\\user\\anaconda3\\lib\\site-packages (3.9.0)\n",
      "Requirement already satisfied: six>=1.10.0 in c:\\users\\user\\anaconda3\\lib\\site-packages (from tweepy) (1.15.0)\n",
      "Requirement already satisfied: requests[socks]>=2.11.1 in c:\\users\\user\\anaconda3\\lib\\site-packages (from tweepy) (2.24.0)\n",
      "Requirement already satisfied: requests-oauthlib>=0.7.0 in c:\\users\\user\\anaconda3\\lib\\site-packages (from tweepy) (1.3.0)\n",
      "Requirement already satisfied: urllib3!=1.25.0,!=1.25.1,<1.26,>=1.21.1 in c:\\users\\user\\anaconda3\\lib\\site-packages (from requests[socks]>=2.11.1->tweepy) (1.25.10)\n",
      "Requirement already satisfied: certifi>=2017.4.17 in c:\\users\\user\\anaconda3\\lib\\site-packages (from requests[socks]>=2.11.1->tweepy) (2020.6.20)\n",
      "Requirement already satisfied: chardet<4,>=3.0.2 in c:\\users\\user\\anaconda3\\lib\\site-packages (from requests[socks]>=2.11.1->tweepy) (3.0.4)\n",
      "Requirement already satisfied: idna<3,>=2.5 in c:\\users\\user\\anaconda3\\lib\\site-packages (from requests[socks]>=2.11.1->tweepy) (2.10)\n",
      "Requirement already satisfied: PySocks!=1.5.7,>=1.5.6; extra == \"socks\" in c:\\users\\user\\anaconda3\\lib\\site-packages (from requests[socks]>=2.11.1->tweepy) (1.7.1)\n",
      "Requirement already satisfied: oauthlib>=3.0.0 in c:\\users\\user\\anaconda3\\lib\\site-packages (from requests-oauthlib>=0.7.0->tweepy) (3.1.0)\n"
     ]
    }
   ],
   "source": [
    "!pip install tweepy"
   ]
  },
  {
   "cell_type": "code",
   "execution_count": 2,
   "metadata": {},
   "outputs": [
    {
     "name": "stdout",
     "output_type": "stream",
     "text": [
      "Requirement already satisfied: openpyxl in c:\\users\\user\\anaconda3\\lib\\site-packages (3.0.5)\n",
      "Requirement already satisfied: et-xmlfile in c:\\users\\user\\anaconda3\\lib\\site-packages (from openpyxl) (1.0.1)\n",
      "Requirement already satisfied: jdcal in c:\\users\\user\\anaconda3\\lib\\site-packages (from openpyxl) (1.4.1)\n"
     ]
    }
   ],
   "source": [
    "!pip install openpyxl"
   ]
  },
  {
   "cell_type": "code",
   "execution_count": 3,
   "metadata": {},
   "outputs": [],
   "source": [
    "import numpy as np\n",
    "import pandas as pd\n",
    "import tweepy\n",
    "import json\n",
    "from tweepy import OAuthHandler"
   ]
  },
  {
   "cell_type": "code",
   "execution_count": 4,
   "metadata": {},
   "outputs": [],
   "source": [
    "consumer_key = \"80JRZmIMuy7drMiB63MiY4UMX\"\n",
    "consumer_secret = \"Y33osnljFODO2hLcfJN8X7njLXvPCjM8kYaZfEEy0OI0o07R9P\"\n",
    "access_token = \"1041678576158822400-bw2yORFEvMyZeKurhCW9fBHonTtS9Z\"\n",
    "access_token_secret = \"ukfWySo3NIAL1qOAohcrtfpMgnfNROKKXKUQWIusExk82\""
   ]
  },
  {
   "cell_type": "code",
   "execution_count": 5,
   "metadata": {},
   "outputs": [],
   "source": [
    "auth = tweepy.OAuthHandler( consumer_key , consumer_secret )\n",
    "auth.set_access_token( access_token , access_token_secret )\n",
    "api = tweepy.API(auth)"
   ]
  },
  {
   "cell_type": "code",
   "execution_count": 6,
   "metadata": {},
   "outputs": [],
   "source": [
    "query = \"RCB winning IPL\""
   ]
  },
  {
   "cell_type": "code",
   "execution_count": 8,
   "metadata": {},
   "outputs": [
    {
     "name": "stdout",
     "output_type": "stream",
     "text": [
      "Status(_api=<tweepy.api.API object at 0x000002162EBF9DC8>, _json={'created_at': 'Thu Oct 29 07:06:37 +0000 2020', 'id': 1321710012570296320, 'id_str': '1321710012570296320', 'full_text': '@imVkohli @RCBTweets RCB still not among the IPL winning teams even after so many years. Needless to say who should be questioned.', 'truncated': False, 'display_text_range': [21, 130], 'entities': {'hashtags': [], 'symbols': [], 'user_mentions': [{'screen_name': 'imVkohli', 'name': 'Virat Kohli', 'id': 71201743, 'id_str': '71201743', 'indices': [0, 9]}, {'screen_name': 'RCBTweets', 'name': 'Royal Challengers Bangalore', 'id': 70931004, 'id_str': '70931004', 'indices': [10, 20]}], 'urls': []}, 'metadata': {'iso_language_code': 'en', 'result_type': 'recent'}, 'source': '<a href=\"http://twitter.com/download/iphone\" rel=\"nofollow\">Twitter for iPhone</a>', 'in_reply_to_status_id': 1321518923880169472, 'in_reply_to_status_id_str': '1321518923880169472', 'in_reply_to_user_id': 71201743, 'in_reply_to_user_id_str': '71201743', 'in_reply_to_screen_name': 'imVkohli', 'user': {'id': 1623591480, 'id_str': '1623591480', 'name': 'gaurav srivastava', 'screen_name': 'GauravSr234', 'location': '', 'description': '', 'url': None, 'entities': {'description': {'urls': []}}, 'protected': False, 'followers_count': 10, 'friends_count': 66, 'listed_count': 0, 'created_at': 'Fri Jul 26 18:47:10 +0000 2013', 'favourites_count': 267, 'utc_offset': None, 'time_zone': None, 'geo_enabled': False, 'verified': False, 'statuses_count': 305, 'lang': None, 'contributors_enabled': False, 'is_translator': False, 'is_translation_enabled': False, 'profile_background_color': 'C0DEED', 'profile_background_image_url': 'http://abs.twimg.com/images/themes/theme1/bg.png', 'profile_background_image_url_https': 'https://abs.twimg.com/images/themes/theme1/bg.png', 'profile_background_tile': False, 'profile_image_url': 'http://pbs.twimg.com/profile_images/1266804034155040768/ub__l7G2_normal.jpg', 'profile_image_url_https': 'https://pbs.twimg.com/profile_images/1266804034155040768/ub__l7G2_normal.jpg', 'profile_banner_url': 'https://pbs.twimg.com/profile_banners/1623591480/1589199550', 'profile_link_color': '1DA1F2', 'profile_sidebar_border_color': 'C0DEED', 'profile_sidebar_fill_color': 'DDEEF6', 'profile_text_color': '333333', 'profile_use_background_image': True, 'has_extended_profile': False, 'default_profile': True, 'default_profile_image': False, 'following': False, 'follow_request_sent': False, 'notifications': False, 'translator_type': 'none'}, 'geo': None, 'coordinates': None, 'place': None, 'contributors': None, 'is_quote_status': False, 'retweet_count': 0, 'favorite_count': 0, 'favorited': False, 'retweeted': False, 'lang': 'en'}, created_at=datetime.datetime(2020, 10, 29, 7, 6, 37), id=1321710012570296320, id_str='1321710012570296320', full_text='@imVkohli @RCBTweets RCB still not among the IPL winning teams even after so many years. Needless to say who should be questioned.', truncated=False, display_text_range=[21, 130], entities={'hashtags': [], 'symbols': [], 'user_mentions': [{'screen_name': 'imVkohli', 'name': 'Virat Kohli', 'id': 71201743, 'id_str': '71201743', 'indices': [0, 9]}, {'screen_name': 'RCBTweets', 'name': 'Royal Challengers Bangalore', 'id': 70931004, 'id_str': '70931004', 'indices': [10, 20]}], 'urls': []}, metadata={'iso_language_code': 'en', 'result_type': 'recent'}, source='Twitter for iPhone', source_url='http://twitter.com/download/iphone', in_reply_to_status_id=1321518923880169472, in_reply_to_status_id_str='1321518923880169472', in_reply_to_user_id=71201743, in_reply_to_user_id_str='71201743', in_reply_to_screen_name='imVkohli', author=User(_api=<tweepy.api.API object at 0x000002162EBF9DC8>, _json={'id': 1623591480, 'id_str': '1623591480', 'name': 'gaurav srivastava', 'screen_name': 'GauravSr234', 'location': '', 'description': '', 'url': None, 'entities': {'description': {'urls': []}}, 'protected': False, 'followers_count': 10, 'friends_count': 66, 'listed_count': 0, 'created_at': 'Fri Jul 26 18:47:10 +0000 2013', 'favourites_count': 267, 'utc_offset': None, 'time_zone': None, 'geo_enabled': False, 'verified': False, 'statuses_count': 305, 'lang': None, 'contributors_enabled': False, 'is_translator': False, 'is_translation_enabled': False, 'profile_background_color': 'C0DEED', 'profile_background_image_url': 'http://abs.twimg.com/images/themes/theme1/bg.png', 'profile_background_image_url_https': 'https://abs.twimg.com/images/themes/theme1/bg.png', 'profile_background_tile': False, 'profile_image_url': 'http://pbs.twimg.com/profile_images/1266804034155040768/ub__l7G2_normal.jpg', 'profile_image_url_https': 'https://pbs.twimg.com/profile_images/1266804034155040768/ub__l7G2_normal.jpg', 'profile_banner_url': 'https://pbs.twimg.com/profile_banners/1623591480/1589199550', 'profile_link_color': '1DA1F2', 'profile_sidebar_border_color': 'C0DEED', 'profile_sidebar_fill_color': 'DDEEF6', 'profile_text_color': '333333', 'profile_use_background_image': True, 'has_extended_profile': False, 'default_profile': True, 'default_profile_image': False, 'following': False, 'follow_request_sent': False, 'notifications': False, 'translator_type': 'none'}, id=1623591480, id_str='1623591480', name='gaurav srivastava', screen_name='GauravSr234', location='', description='', url=None, entities={'description': {'urls': []}}, protected=False, followers_count=10, friends_count=66, listed_count=0, created_at=datetime.datetime(2013, 7, 26, 18, 47, 10), favourites_count=267, utc_offset=None, time_zone=None, geo_enabled=False, verified=False, statuses_count=305, lang=None, contributors_enabled=False, is_translator=False, is_translation_enabled=False, profile_background_color='C0DEED', profile_background_image_url='http://abs.twimg.com/images/themes/theme1/bg.png', profile_background_image_url_https='https://abs.twimg.com/images/themes/theme1/bg.png', profile_background_tile=False, profile_image_url='http://pbs.twimg.com/profile_images/1266804034155040768/ub__l7G2_normal.jpg', profile_image_url_https='https://pbs.twimg.com/profile_images/1266804034155040768/ub__l7G2_normal.jpg', profile_banner_url='https://pbs.twimg.com/profile_banners/1623591480/1589199550', profile_link_color='1DA1F2', profile_sidebar_border_color='C0DEED', profile_sidebar_fill_color='DDEEF6', profile_text_color='333333', profile_use_background_image=True, has_extended_profile=False, default_profile=True, default_profile_image=False, following=False, follow_request_sent=False, notifications=False, translator_type='none'), user=User(_api=<tweepy.api.API object at 0x000002162EBF9DC8>, _json={'id': 1623591480, 'id_str': '1623591480', 'name': 'gaurav srivastava', 'screen_name': 'GauravSr234', 'location': '', 'description': '', 'url': None, 'entities': {'description': {'urls': []}}, 'protected': False, 'followers_count': 10, 'friends_count': 66, 'listed_count': 0, 'created_at': 'Fri Jul 26 18:47:10 +0000 2013', 'favourites_count': 267, 'utc_offset': None, 'time_zone': None, 'geo_enabled': False, 'verified': False, 'statuses_count': 305, 'lang': None, 'contributors_enabled': False, 'is_translator': False, 'is_translation_enabled': False, 'profile_background_color': 'C0DEED', 'profile_background_image_url': 'http://abs.twimg.com/images/themes/theme1/bg.png', 'profile_background_image_url_https': 'https://abs.twimg.com/images/themes/theme1/bg.png', 'profile_background_tile': False, 'profile_image_url': 'http://pbs.twimg.com/profile_images/1266804034155040768/ub__l7G2_normal.jpg', 'profile_image_url_https': 'https://pbs.twimg.com/profile_images/1266804034155040768/ub__l7G2_normal.jpg', 'profile_banner_url': 'https://pbs.twimg.com/profile_banners/1623591480/1589199550', 'profile_link_color': '1DA1F2', 'profile_sidebar_border_color': 'C0DEED', 'profile_sidebar_fill_color': 'DDEEF6', 'profile_text_color': '333333', 'profile_use_background_image': True, 'has_extended_profile': False, 'default_profile': True, 'default_profile_image': False, 'following': False, 'follow_request_sent': False, 'notifications': False, 'translator_type': 'none'}, id=1623591480, id_str='1623591480', name='gaurav srivastava', screen_name='GauravSr234', location='', description='', url=None, entities={'description': {'urls': []}}, protected=False, followers_count=10, friends_count=66, listed_count=0, created_at=datetime.datetime(2013, 7, 26, 18, 47, 10), favourites_count=267, utc_offset=None, time_zone=None, geo_enabled=False, verified=False, statuses_count=305, lang=None, contributors_enabled=False, is_translator=False, is_translation_enabled=False, profile_background_color='C0DEED', profile_background_image_url='http://abs.twimg.com/images/themes/theme1/bg.png', profile_background_image_url_https='https://abs.twimg.com/images/themes/theme1/bg.png', profile_background_tile=False, profile_image_url='http://pbs.twimg.com/profile_images/1266804034155040768/ub__l7G2_normal.jpg', profile_image_url_https='https://pbs.twimg.com/profile_images/1266804034155040768/ub__l7G2_normal.jpg', profile_banner_url='https://pbs.twimg.com/profile_banners/1623591480/1589199550', profile_link_color='1DA1F2', profile_sidebar_border_color='C0DEED', profile_sidebar_fill_color='DDEEF6', profile_text_color='333333', profile_use_background_image=True, has_extended_profile=False, default_profile=True, default_profile_image=False, following=False, follow_request_sent=False, notifications=False, translator_type='none'), geo=None, coordinates=None, place=None, contributors=None, is_quote_status=False, retweet_count=0, favorite_count=0, favorited=False, retweeted=False, lang='en') \n",
      "\n",
      ".....................................\n",
      "\n",
      "Status(_api=<tweepy.api.API object at 0x000002162EBF9DC8>, _json={'created_at': 'Thu Oct 29 06:51:34 +0000 2020', 'id': 1321706224279171072, 'id_str': '1321706224279171072', 'full_text': 'Kolly deserves chamat😂 https://t.co/SFcrZki1Ed', 'truncated': False, 'display_text_range': [0, 46], 'entities': {'hashtags': [], 'symbols': [], 'user_mentions': [], 'urls': [{'url': 'https://t.co/SFcrZki1Ed', 'expanded_url': 'https://zeenews.india.com/marathi/sports/ipl-2020-mi-vs-rcb-suryakumar-yadav-response-to-virat-kohli-staredown-after-match-winning-knock-in-abu-dhabi-is-winning-hearts/539682/amp?__twitter_impression=true', 'display_url': 'zeenews.india.com/marathi/sports…', 'indices': [23, 46]}]}, 'metadata': {'iso_language_code': 'en', 'result_type': 'recent'}, 'source': '<a href=\"http://twitter.com/download/android\" rel=\"nofollow\">Twitter for Android</a>', 'in_reply_to_status_id': None, 'in_reply_to_status_id_str': None, 'in_reply_to_user_id': None, 'in_reply_to_user_id_str': None, 'in_reply_to_screen_name': None, 'user': {'id': 1129730805343838208, 'id_str': '1129730805343838208', 'name': '#KKR💜', 'screen_name': 'MeGlaxy_Kavya', 'location': 'India ', 'description': 'Be Alone.', 'url': None, 'entities': {'description': {'urls': []}}, 'protected': False, 'followers_count': 250, 'friends_count': 186, 'listed_count': 0, 'created_at': 'Sat May 18 12:49:48 +0000 2019', 'favourites_count': 10180, 'utc_offset': None, 'time_zone': None, 'geo_enabled': True, 'verified': False, 'statuses_count': 19836, 'lang': None, 'contributors_enabled': False, 'is_translator': False, 'is_translation_enabled': False, 'profile_background_color': 'F5F8FA', 'profile_background_image_url': None, 'profile_background_image_url_https': None, 'profile_background_tile': False, 'profile_image_url': 'http://pbs.twimg.com/profile_images/1320405193935122434/uHBbzcSW_normal.jpg', 'profile_image_url_https': 'https://pbs.twimg.com/profile_images/1320405193935122434/uHBbzcSW_normal.jpg', 'profile_banner_url': 'https://pbs.twimg.com/profile_banners/1129730805343838208/1599302104', 'profile_link_color': '1DA1F2', 'profile_sidebar_border_color': 'C0DEED', 'profile_sidebar_fill_color': 'DDEEF6', 'profile_text_color': '333333', 'profile_use_background_image': True, 'has_extended_profile': False, 'default_profile': True, 'default_profile_image': False, 'following': False, 'follow_request_sent': False, 'notifications': False, 'translator_type': 'none'}, 'geo': None, 'coordinates': None, 'place': None, 'contributors': None, 'is_quote_status': False, 'retweet_count': 0, 'favorite_count': 1, 'favorited': False, 'retweeted': False, 'possibly_sensitive': False, 'lang': 'en'}, created_at=datetime.datetime(2020, 10, 29, 6, 51, 34), id=1321706224279171072, id_str='1321706224279171072', full_text='Kolly deserves chamat😂 https://t.co/SFcrZki1Ed', truncated=False, display_text_range=[0, 46], entities={'hashtags': [], 'symbols': [], 'user_mentions': [], 'urls': [{'url': 'https://t.co/SFcrZki1Ed', 'expanded_url': 'https://zeenews.india.com/marathi/sports/ipl-2020-mi-vs-rcb-suryakumar-yadav-response-to-virat-kohli-staredown-after-match-winning-knock-in-abu-dhabi-is-winning-hearts/539682/amp?__twitter_impression=true', 'display_url': 'zeenews.india.com/marathi/sports…', 'indices': [23, 46]}]}, metadata={'iso_language_code': 'en', 'result_type': 'recent'}, source='Twitter for Android', source_url='http://twitter.com/download/android', in_reply_to_status_id=None, in_reply_to_status_id_str=None, in_reply_to_user_id=None, in_reply_to_user_id_str=None, in_reply_to_screen_name=None, author=User(_api=<tweepy.api.API object at 0x000002162EBF9DC8>, _json={'id': 1129730805343838208, 'id_str': '1129730805343838208', 'name': '#KKR💜', 'screen_name': 'MeGlaxy_Kavya', 'location': 'India ', 'description': 'Be Alone.', 'url': None, 'entities': {'description': {'urls': []}}, 'protected': False, 'followers_count': 250, 'friends_count': 186, 'listed_count': 0, 'created_at': 'Sat May 18 12:49:48 +0000 2019', 'favourites_count': 10180, 'utc_offset': None, 'time_zone': None, 'geo_enabled': True, 'verified': False, 'statuses_count': 19836, 'lang': None, 'contributors_enabled': False, 'is_translator': False, 'is_translation_enabled': False, 'profile_background_color': 'F5F8FA', 'profile_background_image_url': None, 'profile_background_image_url_https': None, 'profile_background_tile': False, 'profile_image_url': 'http://pbs.twimg.com/profile_images/1320405193935122434/uHBbzcSW_normal.jpg', 'profile_image_url_https': 'https://pbs.twimg.com/profile_images/1320405193935122434/uHBbzcSW_normal.jpg', 'profile_banner_url': 'https://pbs.twimg.com/profile_banners/1129730805343838208/1599302104', 'profile_link_color': '1DA1F2', 'profile_sidebar_border_color': 'C0DEED', 'profile_sidebar_fill_color': 'DDEEF6', 'profile_text_color': '333333', 'profile_use_background_image': True, 'has_extended_profile': False, 'default_profile': True, 'default_profile_image': False, 'following': False, 'follow_request_sent': False, 'notifications': False, 'translator_type': 'none'}, id=1129730805343838208, id_str='1129730805343838208', name='#KKR💜', screen_name='MeGlaxy_Kavya', location='India ', description='Be Alone.', url=None, entities={'description': {'urls': []}}, protected=False, followers_count=250, friends_count=186, listed_count=0, created_at=datetime.datetime(2019, 5, 18, 12, 49, 48), favourites_count=10180, utc_offset=None, time_zone=None, geo_enabled=True, verified=False, statuses_count=19836, lang=None, contributors_enabled=False, is_translator=False, is_translation_enabled=False, profile_background_color='F5F8FA', profile_background_image_url=None, profile_background_image_url_https=None, profile_background_tile=False, profile_image_url='http://pbs.twimg.com/profile_images/1320405193935122434/uHBbzcSW_normal.jpg', profile_image_url_https='https://pbs.twimg.com/profile_images/1320405193935122434/uHBbzcSW_normal.jpg', profile_banner_url='https://pbs.twimg.com/profile_banners/1129730805343838208/1599302104', profile_link_color='1DA1F2', profile_sidebar_border_color='C0DEED', profile_sidebar_fill_color='DDEEF6', profile_text_color='333333', profile_use_background_image=True, has_extended_profile=False, default_profile=True, default_profile_image=False, following=False, follow_request_sent=False, notifications=False, translator_type='none'), user=User(_api=<tweepy.api.API object at 0x000002162EBF9DC8>, _json={'id': 1129730805343838208, 'id_str': '1129730805343838208', 'name': '#KKR💜', 'screen_name': 'MeGlaxy_Kavya', 'location': 'India ', 'description': 'Be Alone.', 'url': None, 'entities': {'description': {'urls': []}}, 'protected': False, 'followers_count': 250, 'friends_count': 186, 'listed_count': 0, 'created_at': 'Sat May 18 12:49:48 +0000 2019', 'favourites_count': 10180, 'utc_offset': None, 'time_zone': None, 'geo_enabled': True, 'verified': False, 'statuses_count': 19836, 'lang': None, 'contributors_enabled': False, 'is_translator': False, 'is_translation_enabled': False, 'profile_background_color': 'F5F8FA', 'profile_background_image_url': None, 'profile_background_image_url_https': None, 'profile_background_tile': False, 'profile_image_url': 'http://pbs.twimg.com/profile_images/1320405193935122434/uHBbzcSW_normal.jpg', 'profile_image_url_https': 'https://pbs.twimg.com/profile_images/1320405193935122434/uHBbzcSW_normal.jpg', 'profile_banner_url': 'https://pbs.twimg.com/profile_banners/1129730805343838208/1599302104', 'profile_link_color': '1DA1F2', 'profile_sidebar_border_color': 'C0DEED', 'profile_sidebar_fill_color': 'DDEEF6', 'profile_text_color': '333333', 'profile_use_background_image': True, 'has_extended_profile': False, 'default_profile': True, 'default_profile_image': False, 'following': False, 'follow_request_sent': False, 'notifications': False, 'translator_type': 'none'}, id=1129730805343838208, id_str='1129730805343838208', name='#KKR💜', screen_name='MeGlaxy_Kavya', location='India ', description='Be Alone.', url=None, entities={'description': {'urls': []}}, protected=False, followers_count=250, friends_count=186, listed_count=0, created_at=datetime.datetime(2019, 5, 18, 12, 49, 48), favourites_count=10180, utc_offset=None, time_zone=None, geo_enabled=True, verified=False, statuses_count=19836, lang=None, contributors_enabled=False, is_translator=False, is_translation_enabled=False, profile_background_color='F5F8FA', profile_background_image_url=None, profile_background_image_url_https=None, profile_background_tile=False, profile_image_url='http://pbs.twimg.com/profile_images/1320405193935122434/uHBbzcSW_normal.jpg', profile_image_url_https='https://pbs.twimg.com/profile_images/1320405193935122434/uHBbzcSW_normal.jpg', profile_banner_url='https://pbs.twimg.com/profile_banners/1129730805343838208/1599302104', profile_link_color='1DA1F2', profile_sidebar_border_color='C0DEED', profile_sidebar_fill_color='DDEEF6', profile_text_color='333333', profile_use_background_image=True, has_extended_profile=False, default_profile=True, default_profile_image=False, following=False, follow_request_sent=False, notifications=False, translator_type='none'), geo=None, coordinates=None, place=None, contributors=None, is_quote_status=False, retweet_count=0, favorite_count=1, favorited=False, retweeted=False, possibly_sensitive=False, lang='en') \n",
      "\n",
      ".....................................\n",
      "\n",
      "Status(_api=<tweepy.api.API object at 0x000002162EBF9DC8>, _json={'created_at': 'Thu Oct 29 06:49:25 +0000 2020', 'id': 1321705682920382465, 'id_str': '1321705682920382465', 'full_text': 'Rohit does an Archer #IPL2020 #SuryakumarYadav #Rohit\\nhttps://t.co/qzgYFsBOUV', 'truncated': False, 'display_text_range': [0, 77], 'entities': {'hashtags': [{'text': 'IPL2020', 'indices': [21, 29]}, {'text': 'SuryakumarYadav', 'indices': [30, 46]}, {'text': 'Rohit', 'indices': [47, 53]}], 'symbols': [], 'user_mentions': [], 'urls': [{'url': 'https://t.co/qzgYFsBOUV', 'expanded_url': 'https://www.india.com/sports/ipl-2020-rohit-sharmas-prediction-on-suryakumar-yadav-old-tweet-resurfaces-after-mi-batsmans-match-winning-43-ball-79-against-rcb-4189951/', 'display_url': 'india.com/sports/ipl-202…', 'indices': [54, 77]}]}, 'metadata': {'iso_language_code': 'en', 'result_type': 'recent'}, 'source': '<a href=\"https://mobile.twitter.com\" rel=\"nofollow\">Twitter Web App</a>', 'in_reply_to_status_id': None, 'in_reply_to_status_id_str': None, 'in_reply_to_user_id': None, 'in_reply_to_user_id_str': None, 'in_reply_to_screen_name': None, 'user': {'id': 22793955, 'id_str': '22793955', 'name': 'India.com', 'screen_name': 'indiacom', 'location': 'India', 'description': 'Follow https://t.co/RBTHZHv1ga for breaking news from India and around the world, live cricket updates, Bollywood gossip, travel tips and latest trends.', 'url': 'http://t.co/BiOdkjo3Rr', 'entities': {'url': {'urls': [{'url': 'http://t.co/BiOdkjo3Rr', 'expanded_url': 'http://www.india.com', 'display_url': 'india.com', 'indices': [0, 22]}]}, 'description': {'urls': [{'url': 'https://t.co/RBTHZHv1ga', 'expanded_url': 'http://India.com', 'display_url': 'India.com', 'indices': [7, 30]}]}}, 'protected': False, 'followers_count': 12886, 'friends_count': 372, 'listed_count': 244, 'created_at': 'Wed Mar 04 16:20:07 +0000 2009', 'favourites_count': 317, 'utc_offset': None, 'time_zone': None, 'geo_enabled': True, 'verified': True, 'statuses_count': 194556, 'lang': None, 'contributors_enabled': False, 'is_translator': False, 'is_translation_enabled': False, 'profile_background_color': 'C0DEED', 'profile_background_image_url': 'http://abs.twimg.com/images/themes/theme1/bg.png', 'profile_background_image_url_https': 'https://abs.twimg.com/images/themes/theme1/bg.png', 'profile_background_tile': False, 'profile_image_url': 'http://pbs.twimg.com/profile_images/1149599189787013121/Uc2CuNRv_normal.png', 'profile_image_url_https': 'https://pbs.twimg.com/profile_images/1149599189787013121/Uc2CuNRv_normal.png', 'profile_banner_url': 'https://pbs.twimg.com/profile_banners/22793955/1589270359', 'profile_link_color': '1B95E0', 'profile_sidebar_border_color': 'FFFFFF', 'profile_sidebar_fill_color': 'DDEEF6', 'profile_text_color': '333333', 'profile_use_background_image': False, 'has_extended_profile': False, 'default_profile': False, 'default_profile_image': False, 'following': False, 'follow_request_sent': False, 'notifications': False, 'translator_type': 'none'}, 'geo': None, 'coordinates': None, 'place': None, 'contributors': None, 'is_quote_status': False, 'retweet_count': 0, 'favorite_count': 2, 'favorited': False, 'retweeted': False, 'possibly_sensitive': False, 'lang': 'en'}, created_at=datetime.datetime(2020, 10, 29, 6, 49, 25), id=1321705682920382465, id_str='1321705682920382465', full_text='Rohit does an Archer #IPL2020 #SuryakumarYadav #Rohit\\nhttps://t.co/qzgYFsBOUV', truncated=False, display_text_range=[0, 77], entities={'hashtags': [{'text': 'IPL2020', 'indices': [21, 29]}, {'text': 'SuryakumarYadav', 'indices': [30, 46]}, {'text': 'Rohit', 'indices': [47, 53]}], 'symbols': [], 'user_mentions': [], 'urls': [{'url': 'https://t.co/qzgYFsBOUV', 'expanded_url': 'https://www.india.com/sports/ipl-2020-rohit-sharmas-prediction-on-suryakumar-yadav-old-tweet-resurfaces-after-mi-batsmans-match-winning-43-ball-79-against-rcb-4189951/', 'display_url': 'india.com/sports/ipl-202…', 'indices': [54, 77]}]}, metadata={'iso_language_code': 'en', 'result_type': 'recent'}, source='Twitter Web App', source_url='https://mobile.twitter.com', in_reply_to_status_id=None, in_reply_to_status_id_str=None, in_reply_to_user_id=None, in_reply_to_user_id_str=None, in_reply_to_screen_name=None, author=User(_api=<tweepy.api.API object at 0x000002162EBF9DC8>, _json={'id': 22793955, 'id_str': '22793955', 'name': 'India.com', 'screen_name': 'indiacom', 'location': 'India', 'description': 'Follow https://t.co/RBTHZHv1ga for breaking news from India and around the world, live cricket updates, Bollywood gossip, travel tips and latest trends.', 'url': 'http://t.co/BiOdkjo3Rr', 'entities': {'url': {'urls': [{'url': 'http://t.co/BiOdkjo3Rr', 'expanded_url': 'http://www.india.com', 'display_url': 'india.com', 'indices': [0, 22]}]}, 'description': {'urls': [{'url': 'https://t.co/RBTHZHv1ga', 'expanded_url': 'http://India.com', 'display_url': 'India.com', 'indices': [7, 30]}]}}, 'protected': False, 'followers_count': 12886, 'friends_count': 372, 'listed_count': 244, 'created_at': 'Wed Mar 04 16:20:07 +0000 2009', 'favourites_count': 317, 'utc_offset': None, 'time_zone': None, 'geo_enabled': True, 'verified': True, 'statuses_count': 194556, 'lang': None, 'contributors_enabled': False, 'is_translator': False, 'is_translation_enabled': False, 'profile_background_color': 'C0DEED', 'profile_background_image_url': 'http://abs.twimg.com/images/themes/theme1/bg.png', 'profile_background_image_url_https': 'https://abs.twimg.com/images/themes/theme1/bg.png', 'profile_background_tile': False, 'profile_image_url': 'http://pbs.twimg.com/profile_images/1149599189787013121/Uc2CuNRv_normal.png', 'profile_image_url_https': 'https://pbs.twimg.com/profile_images/1149599189787013121/Uc2CuNRv_normal.png', 'profile_banner_url': 'https://pbs.twimg.com/profile_banners/22793955/1589270359', 'profile_link_color': '1B95E0', 'profile_sidebar_border_color': 'FFFFFF', 'profile_sidebar_fill_color': 'DDEEF6', 'profile_text_color': '333333', 'profile_use_background_image': False, 'has_extended_profile': False, 'default_profile': False, 'default_profile_image': False, 'following': False, 'follow_request_sent': False, 'notifications': False, 'translator_type': 'none'}, id=22793955, id_str='22793955', name='India.com', screen_name='indiacom', location='India', description='Follow https://t.co/RBTHZHv1ga for breaking news from India and around the world, live cricket updates, Bollywood gossip, travel tips and latest trends.', url='http://t.co/BiOdkjo3Rr', entities={'url': {'urls': [{'url': 'http://t.co/BiOdkjo3Rr', 'expanded_url': 'http://www.india.com', 'display_url': 'india.com', 'indices': [0, 22]}]}, 'description': {'urls': [{'url': 'https://t.co/RBTHZHv1ga', 'expanded_url': 'http://India.com', 'display_url': 'India.com', 'indices': [7, 30]}]}}, protected=False, followers_count=12886, friends_count=372, listed_count=244, created_at=datetime.datetime(2009, 3, 4, 16, 20, 7), favourites_count=317, utc_offset=None, time_zone=None, geo_enabled=True, verified=True, statuses_count=194556, lang=None, contributors_enabled=False, is_translator=False, is_translation_enabled=False, profile_background_color='C0DEED', profile_background_image_url='http://abs.twimg.com/images/themes/theme1/bg.png', profile_background_image_url_https='https://abs.twimg.com/images/themes/theme1/bg.png', profile_background_tile=False, profile_image_url='http://pbs.twimg.com/profile_images/1149599189787013121/Uc2CuNRv_normal.png', profile_image_url_https='https://pbs.twimg.com/profile_images/1149599189787013121/Uc2CuNRv_normal.png', profile_banner_url='https://pbs.twimg.com/profile_banners/22793955/1589270359', profile_link_color='1B95E0', profile_sidebar_border_color='FFFFFF', profile_sidebar_fill_color='DDEEF6', profile_text_color='333333', profile_use_background_image=False, has_extended_profile=False, default_profile=False, default_profile_image=False, following=False, follow_request_sent=False, notifications=False, translator_type='none'), user=User(_api=<tweepy.api.API object at 0x000002162EBF9DC8>, _json={'id': 22793955, 'id_str': '22793955', 'name': 'India.com', 'screen_name': 'indiacom', 'location': 'India', 'description': 'Follow https://t.co/RBTHZHv1ga for breaking news from India and around the world, live cricket updates, Bollywood gossip, travel tips and latest trends.', 'url': 'http://t.co/BiOdkjo3Rr', 'entities': {'url': {'urls': [{'url': 'http://t.co/BiOdkjo3Rr', 'expanded_url': 'http://www.india.com', 'display_url': 'india.com', 'indices': [0, 22]}]}, 'description': {'urls': [{'url': 'https://t.co/RBTHZHv1ga', 'expanded_url': 'http://India.com', 'display_url': 'India.com', 'indices': [7, 30]}]}}, 'protected': False, 'followers_count': 12886, 'friends_count': 372, 'listed_count': 244, 'created_at': 'Wed Mar 04 16:20:07 +0000 2009', 'favourites_count': 317, 'utc_offset': None, 'time_zone': None, 'geo_enabled': True, 'verified': True, 'statuses_count': 194556, 'lang': None, 'contributors_enabled': False, 'is_translator': False, 'is_translation_enabled': False, 'profile_background_color': 'C0DEED', 'profile_background_image_url': 'http://abs.twimg.com/images/themes/theme1/bg.png', 'profile_background_image_url_https': 'https://abs.twimg.com/images/themes/theme1/bg.png', 'profile_background_tile': False, 'profile_image_url': 'http://pbs.twimg.com/profile_images/1149599189787013121/Uc2CuNRv_normal.png', 'profile_image_url_https': 'https://pbs.twimg.com/profile_images/1149599189787013121/Uc2CuNRv_normal.png', 'profile_banner_url': 'https://pbs.twimg.com/profile_banners/22793955/1589270359', 'profile_link_color': '1B95E0', 'profile_sidebar_border_color': 'FFFFFF', 'profile_sidebar_fill_color': 'DDEEF6', 'profile_text_color': '333333', 'profile_use_background_image': False, 'has_extended_profile': False, 'default_profile': False, 'default_profile_image': False, 'following': False, 'follow_request_sent': False, 'notifications': False, 'translator_type': 'none'}, id=22793955, id_str='22793955', name='India.com', screen_name='indiacom', location='India', description='Follow https://t.co/RBTHZHv1ga for breaking news from India and around the world, live cricket updates, Bollywood gossip, travel tips and latest trends.', url='http://t.co/BiOdkjo3Rr', entities={'url': {'urls': [{'url': 'http://t.co/BiOdkjo3Rr', 'expanded_url': 'http://www.india.com', 'display_url': 'india.com', 'indices': [0, 22]}]}, 'description': {'urls': [{'url': 'https://t.co/RBTHZHv1ga', 'expanded_url': 'http://India.com', 'display_url': 'India.com', 'indices': [7, 30]}]}}, protected=False, followers_count=12886, friends_count=372, listed_count=244, created_at=datetime.datetime(2009, 3, 4, 16, 20, 7), favourites_count=317, utc_offset=None, time_zone=None, geo_enabled=True, verified=True, statuses_count=194556, lang=None, contributors_enabled=False, is_translator=False, is_translation_enabled=False, profile_background_color='C0DEED', profile_background_image_url='http://abs.twimg.com/images/themes/theme1/bg.png', profile_background_image_url_https='https://abs.twimg.com/images/themes/theme1/bg.png', profile_background_tile=False, profile_image_url='http://pbs.twimg.com/profile_images/1149599189787013121/Uc2CuNRv_normal.png', profile_image_url_https='https://pbs.twimg.com/profile_images/1149599189787013121/Uc2CuNRv_normal.png', profile_banner_url='https://pbs.twimg.com/profile_banners/22793955/1589270359', profile_link_color='1B95E0', profile_sidebar_border_color='FFFFFF', profile_sidebar_fill_color='DDEEF6', profile_text_color='333333', profile_use_background_image=False, has_extended_profile=False, default_profile=False, default_profile_image=False, following=False, follow_request_sent=False, notifications=False, translator_type='none'), geo=None, coordinates=None, place=None, contributors=None, is_quote_status=False, retweet_count=0, favorite_count=2, favorited=False, retweeted=False, possibly_sensitive=False, lang='en') \n",
      "\n",
      ".....................................\n",
      "\n",
      "Status(_api=<tweepy.api.API object at 0x000002162EBF9DC8>, _json={'created_at': 'Thu Oct 29 04:25:50 +0000 2020', 'id': 1321669548957863936, 'id_str': '1321669548957863936', 'full_text': '@imVishuu @Priyesh95391021 @RaviShastriOfc @surya_14kumar how many time his team (RCB) qualify for playoffs remember not asking for a finalist or winning the IPL trophy 🏆 cus not going to happen as long tuk-tuk tohli there 😆😆😆😆', 'truncated': False, 'display_text_range': [58, 227], 'entities': {'hashtags': [], 'symbols': [], 'user_mentions': [{'screen_name': 'imVishuu', 'name': 'Vishuu ( जय श्री राम )', 'id': 2621055739, 'id_str': '2621055739', 'indices': [0, 9]}, {'screen_name': 'Priyesh95391021', 'name': 'Priyesh Kumar', 'id': 714058802132201473, 'id_str': '714058802132201473', 'indices': [10, 26]}, {'screen_name': 'RaviShastriOfc', 'name': 'Ravi Shastri', 'id': 807775550483763200, 'id_str': '807775550483763200', 'indices': [27, 42]}, {'screen_name': 'surya_14kumar', 'name': 'Surya Kumar Yadav', 'id': 468471298, 'id_str': '468471298', 'indices': [43, 57]}], 'urls': []}, 'metadata': {'iso_language_code': 'en', 'result_type': 'recent'}, 'source': '<a href=\"https://mobile.twitter.com\" rel=\"nofollow\">Twitter Web App</a>', 'in_reply_to_status_id': 1321511539006820352, 'in_reply_to_status_id_str': '1321511539006820352', 'in_reply_to_user_id': 2621055739, 'in_reply_to_user_id_str': '2621055739', 'in_reply_to_screen_name': 'imVishuu', 'user': {'id': 856091649671274496, 'id_str': '856091649671274496', 'name': 'ਰਮਿੰਦਰ ਸਿੰਘ', 'screen_name': 'iamsingh29', 'location': 'Melbourne, Victoria', 'description': '', 'url': None, 'entities': {'description': {'urls': []}}, 'protected': False, 'followers_count': 8, 'friends_count': 41, 'listed_count': 1, 'created_at': 'Sun Apr 23 10:25:29 +0000 2017', 'favourites_count': 0, 'utc_offset': None, 'time_zone': None, 'geo_enabled': False, 'verified': False, 'statuses_count': 16, 'lang': None, 'contributors_enabled': False, 'is_translator': False, 'is_translation_enabled': False, 'profile_background_color': '000000', 'profile_background_image_url': 'http://abs.twimg.com/images/themes/theme1/bg.png', 'profile_background_image_url_https': 'https://abs.twimg.com/images/themes/theme1/bg.png', 'profile_background_tile': False, 'profile_image_url': 'http://pbs.twimg.com/profile_images/1086585568694157312/PuWS-UqD_normal.jpg', 'profile_image_url_https': 'https://pbs.twimg.com/profile_images/1086585568694157312/PuWS-UqD_normal.jpg', 'profile_link_color': '981CEB', 'profile_sidebar_border_color': '000000', 'profile_sidebar_fill_color': '000000', 'profile_text_color': '000000', 'profile_use_background_image': False, 'has_extended_profile': False, 'default_profile': False, 'default_profile_image': False, 'following': False, 'follow_request_sent': False, 'notifications': False, 'translator_type': 'none'}, 'geo': None, 'coordinates': None, 'place': None, 'contributors': None, 'is_quote_status': False, 'retweet_count': 0, 'favorite_count': 0, 'favorited': False, 'retweeted': False, 'lang': 'en'}, created_at=datetime.datetime(2020, 10, 29, 4, 25, 50), id=1321669548957863936, id_str='1321669548957863936', full_text='@imVishuu @Priyesh95391021 @RaviShastriOfc @surya_14kumar how many time his team (RCB) qualify for playoffs remember not asking for a finalist or winning the IPL trophy 🏆 cus not going to happen as long tuk-tuk tohli there 😆😆😆😆', truncated=False, display_text_range=[58, 227], entities={'hashtags': [], 'symbols': [], 'user_mentions': [{'screen_name': 'imVishuu', 'name': 'Vishuu ( जय श्री राम )', 'id': 2621055739, 'id_str': '2621055739', 'indices': [0, 9]}, {'screen_name': 'Priyesh95391021', 'name': 'Priyesh Kumar', 'id': 714058802132201473, 'id_str': '714058802132201473', 'indices': [10, 26]}, {'screen_name': 'RaviShastriOfc', 'name': 'Ravi Shastri', 'id': 807775550483763200, 'id_str': '807775550483763200', 'indices': [27, 42]}, {'screen_name': 'surya_14kumar', 'name': 'Surya Kumar Yadav', 'id': 468471298, 'id_str': '468471298', 'indices': [43, 57]}], 'urls': []}, metadata={'iso_language_code': 'en', 'result_type': 'recent'}, source='Twitter Web App', source_url='https://mobile.twitter.com', in_reply_to_status_id=1321511539006820352, in_reply_to_status_id_str='1321511539006820352', in_reply_to_user_id=2621055739, in_reply_to_user_id_str='2621055739', in_reply_to_screen_name='imVishuu', author=User(_api=<tweepy.api.API object at 0x000002162EBF9DC8>, _json={'id': 856091649671274496, 'id_str': '856091649671274496', 'name': 'ਰਮਿੰਦਰ ਸਿੰਘ', 'screen_name': 'iamsingh29', 'location': 'Melbourne, Victoria', 'description': '', 'url': None, 'entities': {'description': {'urls': []}}, 'protected': False, 'followers_count': 8, 'friends_count': 41, 'listed_count': 1, 'created_at': 'Sun Apr 23 10:25:29 +0000 2017', 'favourites_count': 0, 'utc_offset': None, 'time_zone': None, 'geo_enabled': False, 'verified': False, 'statuses_count': 16, 'lang': None, 'contributors_enabled': False, 'is_translator': False, 'is_translation_enabled': False, 'profile_background_color': '000000', 'profile_background_image_url': 'http://abs.twimg.com/images/themes/theme1/bg.png', 'profile_background_image_url_https': 'https://abs.twimg.com/images/themes/theme1/bg.png', 'profile_background_tile': False, 'profile_image_url': 'http://pbs.twimg.com/profile_images/1086585568694157312/PuWS-UqD_normal.jpg', 'profile_image_url_https': 'https://pbs.twimg.com/profile_images/1086585568694157312/PuWS-UqD_normal.jpg', 'profile_link_color': '981CEB', 'profile_sidebar_border_color': '000000', 'profile_sidebar_fill_color': '000000', 'profile_text_color': '000000', 'profile_use_background_image': False, 'has_extended_profile': False, 'default_profile': False, 'default_profile_image': False, 'following': False, 'follow_request_sent': False, 'notifications': False, 'translator_type': 'none'}, id=856091649671274496, id_str='856091649671274496', name='ਰਮਿੰਦਰ ਸਿੰਘ', screen_name='iamsingh29', location='Melbourne, Victoria', description='', url=None, entities={'description': {'urls': []}}, protected=False, followers_count=8, friends_count=41, listed_count=1, created_at=datetime.datetime(2017, 4, 23, 10, 25, 29), favourites_count=0, utc_offset=None, time_zone=None, geo_enabled=False, verified=False, statuses_count=16, lang=None, contributors_enabled=False, is_translator=False, is_translation_enabled=False, profile_background_color='000000', profile_background_image_url='http://abs.twimg.com/images/themes/theme1/bg.png', profile_background_image_url_https='https://abs.twimg.com/images/themes/theme1/bg.png', profile_background_tile=False, profile_image_url='http://pbs.twimg.com/profile_images/1086585568694157312/PuWS-UqD_normal.jpg', profile_image_url_https='https://pbs.twimg.com/profile_images/1086585568694157312/PuWS-UqD_normal.jpg', profile_link_color='981CEB', profile_sidebar_border_color='000000', profile_sidebar_fill_color='000000', profile_text_color='000000', profile_use_background_image=False, has_extended_profile=False, default_profile=False, default_profile_image=False, following=False, follow_request_sent=False, notifications=False, translator_type='none'), user=User(_api=<tweepy.api.API object at 0x000002162EBF9DC8>, _json={'id': 856091649671274496, 'id_str': '856091649671274496', 'name': 'ਰਮਿੰਦਰ ਸਿੰਘ', 'screen_name': 'iamsingh29', 'location': 'Melbourne, Victoria', 'description': '', 'url': None, 'entities': {'description': {'urls': []}}, 'protected': False, 'followers_count': 8, 'friends_count': 41, 'listed_count': 1, 'created_at': 'Sun Apr 23 10:25:29 +0000 2017', 'favourites_count': 0, 'utc_offset': None, 'time_zone': None, 'geo_enabled': False, 'verified': False, 'statuses_count': 16, 'lang': None, 'contributors_enabled': False, 'is_translator': False, 'is_translation_enabled': False, 'profile_background_color': '000000', 'profile_background_image_url': 'http://abs.twimg.com/images/themes/theme1/bg.png', 'profile_background_image_url_https': 'https://abs.twimg.com/images/themes/theme1/bg.png', 'profile_background_tile': False, 'profile_image_url': 'http://pbs.twimg.com/profile_images/1086585568694157312/PuWS-UqD_normal.jpg', 'profile_image_url_https': 'https://pbs.twimg.com/profile_images/1086585568694157312/PuWS-UqD_normal.jpg', 'profile_link_color': '981CEB', 'profile_sidebar_border_color': '000000', 'profile_sidebar_fill_color': '000000', 'profile_text_color': '000000', 'profile_use_background_image': False, 'has_extended_profile': False, 'default_profile': False, 'default_profile_image': False, 'following': False, 'follow_request_sent': False, 'notifications': False, 'translator_type': 'none'}, id=856091649671274496, id_str='856091649671274496', name='ਰਮਿੰਦਰ ਸਿੰਘ', screen_name='iamsingh29', location='Melbourne, Victoria', description='', url=None, entities={'description': {'urls': []}}, protected=False, followers_count=8, friends_count=41, listed_count=1, created_at=datetime.datetime(2017, 4, 23, 10, 25, 29), favourites_count=0, utc_offset=None, time_zone=None, geo_enabled=False, verified=False, statuses_count=16, lang=None, contributors_enabled=False, is_translator=False, is_translation_enabled=False, profile_background_color='000000', profile_background_image_url='http://abs.twimg.com/images/themes/theme1/bg.png', profile_background_image_url_https='https://abs.twimg.com/images/themes/theme1/bg.png', profile_background_tile=False, profile_image_url='http://pbs.twimg.com/profile_images/1086585568694157312/PuWS-UqD_normal.jpg', profile_image_url_https='https://pbs.twimg.com/profile_images/1086585568694157312/PuWS-UqD_normal.jpg', profile_link_color='981CEB', profile_sidebar_border_color='000000', profile_sidebar_fill_color='000000', profile_text_color='000000', profile_use_background_image=False, has_extended_profile=False, default_profile=False, default_profile_image=False, following=False, follow_request_sent=False, notifications=False, translator_type='none'), geo=None, coordinates=None, place=None, contributors=None, is_quote_status=False, retweet_count=0, favorite_count=0, favorited=False, retweeted=False, lang='en') \n",
      "\n",
      ".....................................\n",
      "\n",
      "Status(_api=<tweepy.api.API object at 0x000002162EBF9DC8>, _json={'created_at': 'Thu Oct 29 04:02:57 +0000 2020', 'id': 1321663788492402688, 'id_str': '1321663788492402688', 'full_text': 'IPL 2020, MI vs RCB: Suryakumar Yadav’s Response to Virat Kohli’s Stare-down After Match-Winning Knock in Abu – https://t.co/QnjAx4Mtqc https://t.co/9dPqt2ZBoi #cricket #IPLT20', 'truncated': False, 'display_text_range': [0, 176], 'entities': {'hashtags': [{'text': 'cricket', 'indices': [160, 168]}, {'text': 'IPLT20', 'indices': [169, 176]}], 'symbols': [], 'user_mentions': [], 'urls': [{'url': 'https://t.co/QnjAx4Mtqc', 'expanded_url': 'http://India.com', 'display_url': 'India.com', 'indices': [112, 135]}, {'url': 'https://t.co/9dPqt2ZBoi', 'expanded_url': 'https://www.crickbatstips.in/ipl-2020-mi-vs-rcb-suryakumar-yadavs-response-to-virat-kohlis-stare-down-after-match-winning-knock-in-abu-india-com/', 'display_url': 'crickbatstips.in/ipl-2020-mi-vs…', 'indices': [136, 159]}]}, 'metadata': {'iso_language_code': 'en', 'result_type': 'recent'}, 'source': '<a href=\"http://neliosoftware.com/content\" rel=\"nofollow\">Nelio Content</a>', 'in_reply_to_status_id': None, 'in_reply_to_status_id_str': None, 'in_reply_to_user_id': None, 'in_reply_to_user_id_str': None, 'in_reply_to_screen_name': None, 'user': {'id': 4536030091, 'id_str': '4536030091', 'name': 'Jimmy Sharma', 'screen_name': 'CrickBatsTips', 'location': 'New Delhi, India', 'description': 'cricket betting tips', 'url': 'https://t.co/CvNBu531x7', 'entities': {'url': {'urls': [{'url': 'https://t.co/CvNBu531x7', 'expanded_url': 'http://www.crickbatstips.com/', 'display_url': 'crickbatstips.com', 'indices': [0, 23]}]}, 'description': {'urls': []}}, 'protected': False, 'followers_count': 325, 'friends_count': 70, 'listed_count': 2, 'created_at': 'Sat Dec 12 07:50:12 +0000 2015', 'favourites_count': 642, 'utc_offset': None, 'time_zone': None, 'geo_enabled': False, 'verified': False, 'statuses_count': 1864, 'lang': None, 'contributors_enabled': False, 'is_translator': False, 'is_translation_enabled': False, 'profile_background_color': 'F5F8FA', 'profile_background_image_url': None, 'profile_background_image_url_https': None, 'profile_background_tile': False, 'profile_image_url': 'http://pbs.twimg.com/profile_images/1044845027325878280/UZpdx2uZ_normal.jpg', 'profile_image_url_https': 'https://pbs.twimg.com/profile_images/1044845027325878280/UZpdx2uZ_normal.jpg', 'profile_banner_url': 'https://pbs.twimg.com/profile_banners/4536030091/1600496696', 'profile_link_color': '1DA1F2', 'profile_sidebar_border_color': 'C0DEED', 'profile_sidebar_fill_color': 'DDEEF6', 'profile_text_color': '333333', 'profile_use_background_image': True, 'has_extended_profile': True, 'default_profile': True, 'default_profile_image': False, 'following': False, 'follow_request_sent': False, 'notifications': False, 'translator_type': 'none'}, 'geo': None, 'coordinates': None, 'place': None, 'contributors': None, 'is_quote_status': False, 'retweet_count': 0, 'favorite_count': 0, 'favorited': False, 'retweeted': False, 'possibly_sensitive': False, 'lang': 'en'}, created_at=datetime.datetime(2020, 10, 29, 4, 2, 57), id=1321663788492402688, id_str='1321663788492402688', full_text='IPL 2020, MI vs RCB: Suryakumar Yadav’s Response to Virat Kohli’s Stare-down After Match-Winning Knock in Abu – https://t.co/QnjAx4Mtqc https://t.co/9dPqt2ZBoi #cricket #IPLT20', truncated=False, display_text_range=[0, 176], entities={'hashtags': [{'text': 'cricket', 'indices': [160, 168]}, {'text': 'IPLT20', 'indices': [169, 176]}], 'symbols': [], 'user_mentions': [], 'urls': [{'url': 'https://t.co/QnjAx4Mtqc', 'expanded_url': 'http://India.com', 'display_url': 'India.com', 'indices': [112, 135]}, {'url': 'https://t.co/9dPqt2ZBoi', 'expanded_url': 'https://www.crickbatstips.in/ipl-2020-mi-vs-rcb-suryakumar-yadavs-response-to-virat-kohlis-stare-down-after-match-winning-knock-in-abu-india-com/', 'display_url': 'crickbatstips.in/ipl-2020-mi-vs…', 'indices': [136, 159]}]}, metadata={'iso_language_code': 'en', 'result_type': 'recent'}, source='Nelio Content', source_url='http://neliosoftware.com/content', in_reply_to_status_id=None, in_reply_to_status_id_str=None, in_reply_to_user_id=None, in_reply_to_user_id_str=None, in_reply_to_screen_name=None, author=User(_api=<tweepy.api.API object at 0x000002162EBF9DC8>, _json={'id': 4536030091, 'id_str': '4536030091', 'name': 'Jimmy Sharma', 'screen_name': 'CrickBatsTips', 'location': 'New Delhi, India', 'description': 'cricket betting tips', 'url': 'https://t.co/CvNBu531x7', 'entities': {'url': {'urls': [{'url': 'https://t.co/CvNBu531x7', 'expanded_url': 'http://www.crickbatstips.com/', 'display_url': 'crickbatstips.com', 'indices': [0, 23]}]}, 'description': {'urls': []}}, 'protected': False, 'followers_count': 325, 'friends_count': 70, 'listed_count': 2, 'created_at': 'Sat Dec 12 07:50:12 +0000 2015', 'favourites_count': 642, 'utc_offset': None, 'time_zone': None, 'geo_enabled': False, 'verified': False, 'statuses_count': 1864, 'lang': None, 'contributors_enabled': False, 'is_translator': False, 'is_translation_enabled': False, 'profile_background_color': 'F5F8FA', 'profile_background_image_url': None, 'profile_background_image_url_https': None, 'profile_background_tile': False, 'profile_image_url': 'http://pbs.twimg.com/profile_images/1044845027325878280/UZpdx2uZ_normal.jpg', 'profile_image_url_https': 'https://pbs.twimg.com/profile_images/1044845027325878280/UZpdx2uZ_normal.jpg', 'profile_banner_url': 'https://pbs.twimg.com/profile_banners/4536030091/1600496696', 'profile_link_color': '1DA1F2', 'profile_sidebar_border_color': 'C0DEED', 'profile_sidebar_fill_color': 'DDEEF6', 'profile_text_color': '333333', 'profile_use_background_image': True, 'has_extended_profile': True, 'default_profile': True, 'default_profile_image': False, 'following': False, 'follow_request_sent': False, 'notifications': False, 'translator_type': 'none'}, id=4536030091, id_str='4536030091', name='Jimmy Sharma', screen_name='CrickBatsTips', location='New Delhi, India', description='cricket betting tips', url='https://t.co/CvNBu531x7', entities={'url': {'urls': [{'url': 'https://t.co/CvNBu531x7', 'expanded_url': 'http://www.crickbatstips.com/', 'display_url': 'crickbatstips.com', 'indices': [0, 23]}]}, 'description': {'urls': []}}, protected=False, followers_count=325, friends_count=70, listed_count=2, created_at=datetime.datetime(2015, 12, 12, 7, 50, 12), favourites_count=642, utc_offset=None, time_zone=None, geo_enabled=False, verified=False, statuses_count=1864, lang=None, contributors_enabled=False, is_translator=False, is_translation_enabled=False, profile_background_color='F5F8FA', profile_background_image_url=None, profile_background_image_url_https=None, profile_background_tile=False, profile_image_url='http://pbs.twimg.com/profile_images/1044845027325878280/UZpdx2uZ_normal.jpg', profile_image_url_https='https://pbs.twimg.com/profile_images/1044845027325878280/UZpdx2uZ_normal.jpg', profile_banner_url='https://pbs.twimg.com/profile_banners/4536030091/1600496696', profile_link_color='1DA1F2', profile_sidebar_border_color='C0DEED', profile_sidebar_fill_color='DDEEF6', profile_text_color='333333', profile_use_background_image=True, has_extended_profile=True, default_profile=True, default_profile_image=False, following=False, follow_request_sent=False, notifications=False, translator_type='none'), user=User(_api=<tweepy.api.API object at 0x000002162EBF9DC8>, _json={'id': 4536030091, 'id_str': '4536030091', 'name': 'Jimmy Sharma', 'screen_name': 'CrickBatsTips', 'location': 'New Delhi, India', 'description': 'cricket betting tips', 'url': 'https://t.co/CvNBu531x7', 'entities': {'url': {'urls': [{'url': 'https://t.co/CvNBu531x7', 'expanded_url': 'http://www.crickbatstips.com/', 'display_url': 'crickbatstips.com', 'indices': [0, 23]}]}, 'description': {'urls': []}}, 'protected': False, 'followers_count': 325, 'friends_count': 70, 'listed_count': 2, 'created_at': 'Sat Dec 12 07:50:12 +0000 2015', 'favourites_count': 642, 'utc_offset': None, 'time_zone': None, 'geo_enabled': False, 'verified': False, 'statuses_count': 1864, 'lang': None, 'contributors_enabled': False, 'is_translator': False, 'is_translation_enabled': False, 'profile_background_color': 'F5F8FA', 'profile_background_image_url': None, 'profile_background_image_url_https': None, 'profile_background_tile': False, 'profile_image_url': 'http://pbs.twimg.com/profile_images/1044845027325878280/UZpdx2uZ_normal.jpg', 'profile_image_url_https': 'https://pbs.twimg.com/profile_images/1044845027325878280/UZpdx2uZ_normal.jpg', 'profile_banner_url': 'https://pbs.twimg.com/profile_banners/4536030091/1600496696', 'profile_link_color': '1DA1F2', 'profile_sidebar_border_color': 'C0DEED', 'profile_sidebar_fill_color': 'DDEEF6', 'profile_text_color': '333333', 'profile_use_background_image': True, 'has_extended_profile': True, 'default_profile': True, 'default_profile_image': False, 'following': False, 'follow_request_sent': False, 'notifications': False, 'translator_type': 'none'}, id=4536030091, id_str='4536030091', name='Jimmy Sharma', screen_name='CrickBatsTips', location='New Delhi, India', description='cricket betting tips', url='https://t.co/CvNBu531x7', entities={'url': {'urls': [{'url': 'https://t.co/CvNBu531x7', 'expanded_url': 'http://www.crickbatstips.com/', 'display_url': 'crickbatstips.com', 'indices': [0, 23]}]}, 'description': {'urls': []}}, protected=False, followers_count=325, friends_count=70, listed_count=2, created_at=datetime.datetime(2015, 12, 12, 7, 50, 12), favourites_count=642, utc_offset=None, time_zone=None, geo_enabled=False, verified=False, statuses_count=1864, lang=None, contributors_enabled=False, is_translator=False, is_translation_enabled=False, profile_background_color='F5F8FA', profile_background_image_url=None, profile_background_image_url_https=None, profile_background_tile=False, profile_image_url='http://pbs.twimg.com/profile_images/1044845027325878280/UZpdx2uZ_normal.jpg', profile_image_url_https='https://pbs.twimg.com/profile_images/1044845027325878280/UZpdx2uZ_normal.jpg', profile_banner_url='https://pbs.twimg.com/profile_banners/4536030091/1600496696', profile_link_color='1DA1F2', profile_sidebar_border_color='C0DEED', profile_sidebar_fill_color='DDEEF6', profile_text_color='333333', profile_use_background_image=True, has_extended_profile=True, default_profile=True, default_profile_image=False, following=False, follow_request_sent=False, notifications=False, translator_type='none'), geo=None, coordinates=None, place=None, contributors=None, is_quote_status=False, retweet_count=0, favorite_count=0, favorited=False, retweeted=False, possibly_sensitive=False, lang='en') \n",
      "\n",
      ".....................................\n",
      "\n",
      "Status(_api=<tweepy.api.API object at 0x000002162EBF9DC8>, _json={'created_at': 'Thu Oct 29 03:06:55 +0000 2020', 'id': 1321649690522185728, 'id_str': '1321649690522185728', 'full_text': '@imVkohli @RCBTweets We are still rcb fans even rcb looses #RCB #PlayBold win next match and show the power of rcb to everyone by winning ipl trophy ❤️❤️', 'truncated': False, 'display_text_range': [21, 153], 'entities': {'hashtags': [{'text': 'RCB', 'indices': [59, 63]}, {'text': 'PlayBold', 'indices': [64, 73]}], 'symbols': [], 'user_mentions': [{'screen_name': 'imVkohli', 'name': 'Virat Kohli', 'id': 71201743, 'id_str': '71201743', 'indices': [0, 9]}, {'screen_name': 'RCBTweets', 'name': 'Royal Challengers Bangalore', 'id': 70931004, 'id_str': '70931004', 'indices': [10, 20]}], 'urls': []}, 'metadata': {'iso_language_code': 'en', 'result_type': 'recent'}, 'source': '<a href=\"http://twitter.com/download/android\" rel=\"nofollow\">Twitter for Android</a>', 'in_reply_to_status_id': 1321518923880169472, 'in_reply_to_status_id_str': '1321518923880169472', 'in_reply_to_user_id': 71201743, 'in_reply_to_user_id_str': '71201743', 'in_reply_to_screen_name': 'imVkohli', 'user': {'id': 1276927217038229504, 'id_str': '1276927217038229504', 'name': 'PS Star 09', 'screen_name': 'PSStar091', 'location': '', 'description': 'I am Youtube channel name {PS Star } \\nWhere I upload Short films , songs , web series , and more', 'url': None, 'entities': {'description': {'urls': []}}, 'protected': False, 'followers_count': 0, 'friends_count': 2, 'listed_count': 0, 'created_at': 'Sat Jun 27 17:16:07 +0000 2020', 'favourites_count': 1, 'utc_offset': None, 'time_zone': None, 'geo_enabled': False, 'verified': False, 'statuses_count': 3, 'lang': None, 'contributors_enabled': False, 'is_translator': False, 'is_translation_enabled': False, 'profile_background_color': 'F5F8FA', 'profile_background_image_url': None, 'profile_background_image_url_https': None, 'profile_background_tile': False, 'profile_image_url': 'http://pbs.twimg.com/profile_images/1276927666059386882/pMVzFfC1_normal.jpg', 'profile_image_url_https': 'https://pbs.twimg.com/profile_images/1276927666059386882/pMVzFfC1_normal.jpg', 'profile_link_color': '1DA1F2', 'profile_sidebar_border_color': 'C0DEED', 'profile_sidebar_fill_color': 'DDEEF6', 'profile_text_color': '333333', 'profile_use_background_image': True, 'has_extended_profile': True, 'default_profile': True, 'default_profile_image': False, 'following': False, 'follow_request_sent': False, 'notifications': False, 'translator_type': 'none'}, 'geo': None, 'coordinates': None, 'place': None, 'contributors': None, 'is_quote_status': False, 'retweet_count': 0, 'favorite_count': 0, 'favorited': False, 'retweeted': False, 'lang': 'en'}, created_at=datetime.datetime(2020, 10, 29, 3, 6, 55), id=1321649690522185728, id_str='1321649690522185728', full_text='@imVkohli @RCBTweets We are still rcb fans even rcb looses #RCB #PlayBold win next match and show the power of rcb to everyone by winning ipl trophy ❤️❤️', truncated=False, display_text_range=[21, 153], entities={'hashtags': [{'text': 'RCB', 'indices': [59, 63]}, {'text': 'PlayBold', 'indices': [64, 73]}], 'symbols': [], 'user_mentions': [{'screen_name': 'imVkohli', 'name': 'Virat Kohli', 'id': 71201743, 'id_str': '71201743', 'indices': [0, 9]}, {'screen_name': 'RCBTweets', 'name': 'Royal Challengers Bangalore', 'id': 70931004, 'id_str': '70931004', 'indices': [10, 20]}], 'urls': []}, metadata={'iso_language_code': 'en', 'result_type': 'recent'}, source='Twitter for Android', source_url='http://twitter.com/download/android', in_reply_to_status_id=1321518923880169472, in_reply_to_status_id_str='1321518923880169472', in_reply_to_user_id=71201743, in_reply_to_user_id_str='71201743', in_reply_to_screen_name='imVkohli', author=User(_api=<tweepy.api.API object at 0x000002162EBF9DC8>, _json={'id': 1276927217038229504, 'id_str': '1276927217038229504', 'name': 'PS Star 09', 'screen_name': 'PSStar091', 'location': '', 'description': 'I am Youtube channel name {PS Star } \\nWhere I upload Short films , songs , web series , and more', 'url': None, 'entities': {'description': {'urls': []}}, 'protected': False, 'followers_count': 0, 'friends_count': 2, 'listed_count': 0, 'created_at': 'Sat Jun 27 17:16:07 +0000 2020', 'favourites_count': 1, 'utc_offset': None, 'time_zone': None, 'geo_enabled': False, 'verified': False, 'statuses_count': 3, 'lang': None, 'contributors_enabled': False, 'is_translator': False, 'is_translation_enabled': False, 'profile_background_color': 'F5F8FA', 'profile_background_image_url': None, 'profile_background_image_url_https': None, 'profile_background_tile': False, 'profile_image_url': 'http://pbs.twimg.com/profile_images/1276927666059386882/pMVzFfC1_normal.jpg', 'profile_image_url_https': 'https://pbs.twimg.com/profile_images/1276927666059386882/pMVzFfC1_normal.jpg', 'profile_link_color': '1DA1F2', 'profile_sidebar_border_color': 'C0DEED', 'profile_sidebar_fill_color': 'DDEEF6', 'profile_text_color': '333333', 'profile_use_background_image': True, 'has_extended_profile': True, 'default_profile': True, 'default_profile_image': False, 'following': False, 'follow_request_sent': False, 'notifications': False, 'translator_type': 'none'}, id=1276927217038229504, id_str='1276927217038229504', name='PS Star 09', screen_name='PSStar091', location='', description='I am Youtube channel name {PS Star } \\nWhere I upload Short films , songs , web series , and more', url=None, entities={'description': {'urls': []}}, protected=False, followers_count=0, friends_count=2, listed_count=0, created_at=datetime.datetime(2020, 6, 27, 17, 16, 7), favourites_count=1, utc_offset=None, time_zone=None, geo_enabled=False, verified=False, statuses_count=3, lang=None, contributors_enabled=False, is_translator=False, is_translation_enabled=False, profile_background_color='F5F8FA', profile_background_image_url=None, profile_background_image_url_https=None, profile_background_tile=False, profile_image_url='http://pbs.twimg.com/profile_images/1276927666059386882/pMVzFfC1_normal.jpg', profile_image_url_https='https://pbs.twimg.com/profile_images/1276927666059386882/pMVzFfC1_normal.jpg', profile_link_color='1DA1F2', profile_sidebar_border_color='C0DEED', profile_sidebar_fill_color='DDEEF6', profile_text_color='333333', profile_use_background_image=True, has_extended_profile=True, default_profile=True, default_profile_image=False, following=False, follow_request_sent=False, notifications=False, translator_type='none'), user=User(_api=<tweepy.api.API object at 0x000002162EBF9DC8>, _json={'id': 1276927217038229504, 'id_str': '1276927217038229504', 'name': 'PS Star 09', 'screen_name': 'PSStar091', 'location': '', 'description': 'I am Youtube channel name {PS Star } \\nWhere I upload Short films , songs , web series , and more', 'url': None, 'entities': {'description': {'urls': []}}, 'protected': False, 'followers_count': 0, 'friends_count': 2, 'listed_count': 0, 'created_at': 'Sat Jun 27 17:16:07 +0000 2020', 'favourites_count': 1, 'utc_offset': None, 'time_zone': None, 'geo_enabled': False, 'verified': False, 'statuses_count': 3, 'lang': None, 'contributors_enabled': False, 'is_translator': False, 'is_translation_enabled': False, 'profile_background_color': 'F5F8FA', 'profile_background_image_url': None, 'profile_background_image_url_https': None, 'profile_background_tile': False, 'profile_image_url': 'http://pbs.twimg.com/profile_images/1276927666059386882/pMVzFfC1_normal.jpg', 'profile_image_url_https': 'https://pbs.twimg.com/profile_images/1276927666059386882/pMVzFfC1_normal.jpg', 'profile_link_color': '1DA1F2', 'profile_sidebar_border_color': 'C0DEED', 'profile_sidebar_fill_color': 'DDEEF6', 'profile_text_color': '333333', 'profile_use_background_image': True, 'has_extended_profile': True, 'default_profile': True, 'default_profile_image': False, 'following': False, 'follow_request_sent': False, 'notifications': False, 'translator_type': 'none'}, id=1276927217038229504, id_str='1276927217038229504', name='PS Star 09', screen_name='PSStar091', location='', description='I am Youtube channel name {PS Star } \\nWhere I upload Short films , songs , web series , and more', url=None, entities={'description': {'urls': []}}, protected=False, followers_count=0, friends_count=2, listed_count=0, created_at=datetime.datetime(2020, 6, 27, 17, 16, 7), favourites_count=1, utc_offset=None, time_zone=None, geo_enabled=False, verified=False, statuses_count=3, lang=None, contributors_enabled=False, is_translator=False, is_translation_enabled=False, profile_background_color='F5F8FA', profile_background_image_url=None, profile_background_image_url_https=None, profile_background_tile=False, profile_image_url='http://pbs.twimg.com/profile_images/1276927666059386882/pMVzFfC1_normal.jpg', profile_image_url_https='https://pbs.twimg.com/profile_images/1276927666059386882/pMVzFfC1_normal.jpg', profile_link_color='1DA1F2', profile_sidebar_border_color='C0DEED', profile_sidebar_fill_color='DDEEF6', profile_text_color='333333', profile_use_background_image=True, has_extended_profile=True, default_profile=True, default_profile_image=False, following=False, follow_request_sent=False, notifications=False, translator_type='none'), geo=None, coordinates=None, place=None, contributors=None, is_quote_status=False, retweet_count=0, favorite_count=0, favorited=False, retweeted=False, lang='en') \n",
      "\n",
      ".....................................\n",
      "\n",
      "Status(_api=<tweepy.api.API object at 0x000002162EBF9DC8>, _json={'created_at': 'Thu Oct 29 03:05:39 +0000 2020', 'id': 1321649371532861442, 'id_str': '1321649371532861442', 'full_text': 'India head coach #RaviShastri has urged #SuryakumarYadav to remain strong and patient after the Mumbai Indians star hit a match-winning 79 not out in a high-pressure #IPL2020 encounter against #RCB.\\n#Cricket \\nhttps://t.co/ad6kqlPWNq', 'truncated': False, 'display_text_range': [0, 232], 'entities': {'hashtags': [{'text': 'RaviShastri', 'indices': [17, 29]}, {'text': 'SuryakumarYadav', 'indices': [40, 56]}, {'text': 'IPL2020', 'indices': [166, 174]}, {'text': 'RCB', 'indices': [193, 197]}, {'text': 'Cricket', 'indices': [199, 207]}], 'symbols': [], 'user_mentions': [], 'urls': [{'url': 'https://t.co/ad6kqlPWNq', 'expanded_url': 'https://www.indiatoday.in/sports/ipl-2020/story/suryakumar-yadav-mi-vs-rcb-ravi-shastri-message-india-tour-of-australia-snub-statement-1736044-2020-10-29', 'display_url': 'indiatoday.in/sports/ipl-202…', 'indices': [209, 232]}]}, 'metadata': {'iso_language_code': 'en', 'result_type': 'recent'}, 'source': '<a href=\"https://mobile.twitter.com\" rel=\"nofollow\">Twitter Web App</a>', 'in_reply_to_status_id': None, 'in_reply_to_status_id_str': None, 'in_reply_to_user_id': None, 'in_reply_to_user_id_str': None, 'in_reply_to_screen_name': None, 'user': {'id': 19897138, 'id_str': '19897138', 'name': 'IndiaToday', 'screen_name': 'IndiaToday', 'location': 'India', 'description': 'Brings you news breaks: Exclusive political, entertainment, sports insight, unbiased-nonaligned. We are also on Instagram : https://t.co/qf1v42FMpb', 'url': None, 'entities': {'description': {'urls': [{'url': 'https://t.co/qf1v42FMpb', 'expanded_url': 'https://www.instagram.com/indiatoday', 'display_url': 'instagram.com/indiatoday', 'indices': [124, 147]}]}}, 'protected': False, 'followers_count': 5398347, 'friends_count': 244, 'listed_count': 5534, 'created_at': 'Mon Feb 02 07:21:54 +0000 2009', 'favourites_count': 4432, 'utc_offset': None, 'time_zone': None, 'geo_enabled': True, 'verified': True, 'statuses_count': 791911, 'lang': None, 'contributors_enabled': False, 'is_translator': False, 'is_translation_enabled': False, 'profile_background_color': 'C0DEED', 'profile_background_image_url': 'http://abs.twimg.com/images/themes/theme1/bg.png', 'profile_background_image_url_https': 'https://abs.twimg.com/images/themes/theme1/bg.png', 'profile_background_tile': False, 'profile_image_url': 'http://pbs.twimg.com/profile_images/1303193863775895552/sEOiKTvO_normal.jpg', 'profile_image_url_https': 'https://pbs.twimg.com/profile_images/1303193863775895552/sEOiKTvO_normal.jpg', 'profile_banner_url': 'https://pbs.twimg.com/profile_banners/19897138/1603784641', 'profile_link_color': '1DA1F2', 'profile_sidebar_border_color': 'C0DEED', 'profile_sidebar_fill_color': 'DDEEF6', 'profile_text_color': '333333', 'profile_use_background_image': True, 'has_extended_profile': True, 'default_profile': True, 'default_profile_image': False, 'following': False, 'follow_request_sent': False, 'notifications': False, 'translator_type': 'none'}, 'geo': None, 'coordinates': None, 'place': None, 'contributors': None, 'is_quote_status': False, 'retweet_count': 2, 'favorite_count': 29, 'favorited': False, 'retweeted': False, 'possibly_sensitive': False, 'lang': 'en'}, created_at=datetime.datetime(2020, 10, 29, 3, 5, 39), id=1321649371532861442, id_str='1321649371532861442', full_text='India head coach #RaviShastri has urged #SuryakumarYadav to remain strong and patient after the Mumbai Indians star hit a match-winning 79 not out in a high-pressure #IPL2020 encounter against #RCB.\\n#Cricket \\nhttps://t.co/ad6kqlPWNq', truncated=False, display_text_range=[0, 232], entities={'hashtags': [{'text': 'RaviShastri', 'indices': [17, 29]}, {'text': 'SuryakumarYadav', 'indices': [40, 56]}, {'text': 'IPL2020', 'indices': [166, 174]}, {'text': 'RCB', 'indices': [193, 197]}, {'text': 'Cricket', 'indices': [199, 207]}], 'symbols': [], 'user_mentions': [], 'urls': [{'url': 'https://t.co/ad6kqlPWNq', 'expanded_url': 'https://www.indiatoday.in/sports/ipl-2020/story/suryakumar-yadav-mi-vs-rcb-ravi-shastri-message-india-tour-of-australia-snub-statement-1736044-2020-10-29', 'display_url': 'indiatoday.in/sports/ipl-202…', 'indices': [209, 232]}]}, metadata={'iso_language_code': 'en', 'result_type': 'recent'}, source='Twitter Web App', source_url='https://mobile.twitter.com', in_reply_to_status_id=None, in_reply_to_status_id_str=None, in_reply_to_user_id=None, in_reply_to_user_id_str=None, in_reply_to_screen_name=None, author=User(_api=<tweepy.api.API object at 0x000002162EBF9DC8>, _json={'id': 19897138, 'id_str': '19897138', 'name': 'IndiaToday', 'screen_name': 'IndiaToday', 'location': 'India', 'description': 'Brings you news breaks: Exclusive political, entertainment, sports insight, unbiased-nonaligned. We are also on Instagram : https://t.co/qf1v42FMpb', 'url': None, 'entities': {'description': {'urls': [{'url': 'https://t.co/qf1v42FMpb', 'expanded_url': 'https://www.instagram.com/indiatoday', 'display_url': 'instagram.com/indiatoday', 'indices': [124, 147]}]}}, 'protected': False, 'followers_count': 5398347, 'friends_count': 244, 'listed_count': 5534, 'created_at': 'Mon Feb 02 07:21:54 +0000 2009', 'favourites_count': 4432, 'utc_offset': None, 'time_zone': None, 'geo_enabled': True, 'verified': True, 'statuses_count': 791911, 'lang': None, 'contributors_enabled': False, 'is_translator': False, 'is_translation_enabled': False, 'profile_background_color': 'C0DEED', 'profile_background_image_url': 'http://abs.twimg.com/images/themes/theme1/bg.png', 'profile_background_image_url_https': 'https://abs.twimg.com/images/themes/theme1/bg.png', 'profile_background_tile': False, 'profile_image_url': 'http://pbs.twimg.com/profile_images/1303193863775895552/sEOiKTvO_normal.jpg', 'profile_image_url_https': 'https://pbs.twimg.com/profile_images/1303193863775895552/sEOiKTvO_normal.jpg', 'profile_banner_url': 'https://pbs.twimg.com/profile_banners/19897138/1603784641', 'profile_link_color': '1DA1F2', 'profile_sidebar_border_color': 'C0DEED', 'profile_sidebar_fill_color': 'DDEEF6', 'profile_text_color': '333333', 'profile_use_background_image': True, 'has_extended_profile': True, 'default_profile': True, 'default_profile_image': False, 'following': False, 'follow_request_sent': False, 'notifications': False, 'translator_type': 'none'}, id=19897138, id_str='19897138', name='IndiaToday', screen_name='IndiaToday', location='India', description='Brings you news breaks: Exclusive political, entertainment, sports insight, unbiased-nonaligned. We are also on Instagram : https://t.co/qf1v42FMpb', url=None, entities={'description': {'urls': [{'url': 'https://t.co/qf1v42FMpb', 'expanded_url': 'https://www.instagram.com/indiatoday', 'display_url': 'instagram.com/indiatoday', 'indices': [124, 147]}]}}, protected=False, followers_count=5398347, friends_count=244, listed_count=5534, created_at=datetime.datetime(2009, 2, 2, 7, 21, 54), favourites_count=4432, utc_offset=None, time_zone=None, geo_enabled=True, verified=True, statuses_count=791911, lang=None, contributors_enabled=False, is_translator=False, is_translation_enabled=False, profile_background_color='C0DEED', profile_background_image_url='http://abs.twimg.com/images/themes/theme1/bg.png', profile_background_image_url_https='https://abs.twimg.com/images/themes/theme1/bg.png', profile_background_tile=False, profile_image_url='http://pbs.twimg.com/profile_images/1303193863775895552/sEOiKTvO_normal.jpg', profile_image_url_https='https://pbs.twimg.com/profile_images/1303193863775895552/sEOiKTvO_normal.jpg', profile_banner_url='https://pbs.twimg.com/profile_banners/19897138/1603784641', profile_link_color='1DA1F2', profile_sidebar_border_color='C0DEED', profile_sidebar_fill_color='DDEEF6', profile_text_color='333333', profile_use_background_image=True, has_extended_profile=True, default_profile=True, default_profile_image=False, following=False, follow_request_sent=False, notifications=False, translator_type='none'), user=User(_api=<tweepy.api.API object at 0x000002162EBF9DC8>, _json={'id': 19897138, 'id_str': '19897138', 'name': 'IndiaToday', 'screen_name': 'IndiaToday', 'location': 'India', 'description': 'Brings you news breaks: Exclusive political, entertainment, sports insight, unbiased-nonaligned. We are also on Instagram : https://t.co/qf1v42FMpb', 'url': None, 'entities': {'description': {'urls': [{'url': 'https://t.co/qf1v42FMpb', 'expanded_url': 'https://www.instagram.com/indiatoday', 'display_url': 'instagram.com/indiatoday', 'indices': [124, 147]}]}}, 'protected': False, 'followers_count': 5398347, 'friends_count': 244, 'listed_count': 5534, 'created_at': 'Mon Feb 02 07:21:54 +0000 2009', 'favourites_count': 4432, 'utc_offset': None, 'time_zone': None, 'geo_enabled': True, 'verified': True, 'statuses_count': 791911, 'lang': None, 'contributors_enabled': False, 'is_translator': False, 'is_translation_enabled': False, 'profile_background_color': 'C0DEED', 'profile_background_image_url': 'http://abs.twimg.com/images/themes/theme1/bg.png', 'profile_background_image_url_https': 'https://abs.twimg.com/images/themes/theme1/bg.png', 'profile_background_tile': False, 'profile_image_url': 'http://pbs.twimg.com/profile_images/1303193863775895552/sEOiKTvO_normal.jpg', 'profile_image_url_https': 'https://pbs.twimg.com/profile_images/1303193863775895552/sEOiKTvO_normal.jpg', 'profile_banner_url': 'https://pbs.twimg.com/profile_banners/19897138/1603784641', 'profile_link_color': '1DA1F2', 'profile_sidebar_border_color': 'C0DEED', 'profile_sidebar_fill_color': 'DDEEF6', 'profile_text_color': '333333', 'profile_use_background_image': True, 'has_extended_profile': True, 'default_profile': True, 'default_profile_image': False, 'following': False, 'follow_request_sent': False, 'notifications': False, 'translator_type': 'none'}, id=19897138, id_str='19897138', name='IndiaToday', screen_name='IndiaToday', location='India', description='Brings you news breaks: Exclusive political, entertainment, sports insight, unbiased-nonaligned. We are also on Instagram : https://t.co/qf1v42FMpb', url=None, entities={'description': {'urls': [{'url': 'https://t.co/qf1v42FMpb', 'expanded_url': 'https://www.instagram.com/indiatoday', 'display_url': 'instagram.com/indiatoday', 'indices': [124, 147]}]}}, protected=False, followers_count=5398347, friends_count=244, listed_count=5534, created_at=datetime.datetime(2009, 2, 2, 7, 21, 54), favourites_count=4432, utc_offset=None, time_zone=None, geo_enabled=True, verified=True, statuses_count=791911, lang=None, contributors_enabled=False, is_translator=False, is_translation_enabled=False, profile_background_color='C0DEED', profile_background_image_url='http://abs.twimg.com/images/themes/theme1/bg.png', profile_background_image_url_https='https://abs.twimg.com/images/themes/theme1/bg.png', profile_background_tile=False, profile_image_url='http://pbs.twimg.com/profile_images/1303193863775895552/sEOiKTvO_normal.jpg', profile_image_url_https='https://pbs.twimg.com/profile_images/1303193863775895552/sEOiKTvO_normal.jpg', profile_banner_url='https://pbs.twimg.com/profile_banners/19897138/1603784641', profile_link_color='1DA1F2', profile_sidebar_border_color='C0DEED', profile_sidebar_fill_color='DDEEF6', profile_text_color='333333', profile_use_background_image=True, has_extended_profile=True, default_profile=True, default_profile_image=False, following=False, follow_request_sent=False, notifications=False, translator_type='none'), geo=None, coordinates=None, place=None, contributors=None, is_quote_status=False, retweet_count=2, favorite_count=29, favorited=False, retweeted=False, possibly_sensitive=False, lang='en') \n",
      "\n",
      ".....................................\n",
      "\n",
      "Status(_api=<tweepy.api.API object at 0x000002162EBF9DC8>, _json={'created_at': 'Thu Oct 29 03:05:24 +0000 2020', 'id': 1321649306609180674, 'id_str': '1321649306609180674', 'full_text': 'Surya allowed his bat to do the talking. #IPL2020 #MIvRCB #SuryakumarYadav #ViratKohli \\nhttps://t.co/lRx43AEUtv', 'truncated': False, 'display_text_range': [0, 111], 'entities': {'hashtags': [{'text': 'IPL2020', 'indices': [41, 49]}, {'text': 'MIvRCB', 'indices': [50, 57]}, {'text': 'SuryakumarYadav', 'indices': [58, 74]}, {'text': 'ViratKohli', 'indices': [75, 86]}], 'symbols': [], 'user_mentions': [], 'urls': [{'url': 'https://t.co/lRx43AEUtv', 'expanded_url': 'https://www.india.com/sports/ipl-2020-mi-vs-rcb-suryakumar-yadavs-response-to-virat-kohlis-stare-down-after-match-winning-knock-in-abu-dhabi-is-classy-watch-4189660/', 'display_url': 'india.com/sports/ipl-202…', 'indices': [88, 111]}]}, 'metadata': {'iso_language_code': 'en', 'result_type': 'recent'}, 'source': '<a href=\"https://mobile.twitter.com\" rel=\"nofollow\">Twitter Web App</a>', 'in_reply_to_status_id': None, 'in_reply_to_status_id_str': None, 'in_reply_to_user_id': None, 'in_reply_to_user_id_str': None, 'in_reply_to_screen_name': None, 'user': {'id': 22793955, 'id_str': '22793955', 'name': 'India.com', 'screen_name': 'indiacom', 'location': 'India', 'description': 'Follow https://t.co/RBTHZHv1ga for breaking news from India and around the world, live cricket updates, Bollywood gossip, travel tips and latest trends.', 'url': 'http://t.co/BiOdkjo3Rr', 'entities': {'url': {'urls': [{'url': 'http://t.co/BiOdkjo3Rr', 'expanded_url': 'http://www.india.com', 'display_url': 'india.com', 'indices': [0, 22]}]}, 'description': {'urls': [{'url': 'https://t.co/RBTHZHv1ga', 'expanded_url': 'http://India.com', 'display_url': 'India.com', 'indices': [7, 30]}]}}, 'protected': False, 'followers_count': 12886, 'friends_count': 372, 'listed_count': 244, 'created_at': 'Wed Mar 04 16:20:07 +0000 2009', 'favourites_count': 317, 'utc_offset': None, 'time_zone': None, 'geo_enabled': True, 'verified': True, 'statuses_count': 194556, 'lang': None, 'contributors_enabled': False, 'is_translator': False, 'is_translation_enabled': False, 'profile_background_color': 'C0DEED', 'profile_background_image_url': 'http://abs.twimg.com/images/themes/theme1/bg.png', 'profile_background_image_url_https': 'https://abs.twimg.com/images/themes/theme1/bg.png', 'profile_background_tile': False, 'profile_image_url': 'http://pbs.twimg.com/profile_images/1149599189787013121/Uc2CuNRv_normal.png', 'profile_image_url_https': 'https://pbs.twimg.com/profile_images/1149599189787013121/Uc2CuNRv_normal.png', 'profile_banner_url': 'https://pbs.twimg.com/profile_banners/22793955/1589270359', 'profile_link_color': '1B95E0', 'profile_sidebar_border_color': 'FFFFFF', 'profile_sidebar_fill_color': 'DDEEF6', 'profile_text_color': '333333', 'profile_use_background_image': False, 'has_extended_profile': False, 'default_profile': False, 'default_profile_image': False, 'following': False, 'follow_request_sent': False, 'notifications': False, 'translator_type': 'none'}, 'geo': None, 'coordinates': None, 'place': None, 'contributors': None, 'is_quote_status': False, 'retweet_count': 0, 'favorite_count': 3, 'favorited': False, 'retweeted': False, 'possibly_sensitive': False, 'lang': 'en'}, created_at=datetime.datetime(2020, 10, 29, 3, 5, 24), id=1321649306609180674, id_str='1321649306609180674', full_text='Surya allowed his bat to do the talking. #IPL2020 #MIvRCB #SuryakumarYadav #ViratKohli \\nhttps://t.co/lRx43AEUtv', truncated=False, display_text_range=[0, 111], entities={'hashtags': [{'text': 'IPL2020', 'indices': [41, 49]}, {'text': 'MIvRCB', 'indices': [50, 57]}, {'text': 'SuryakumarYadav', 'indices': [58, 74]}, {'text': 'ViratKohli', 'indices': [75, 86]}], 'symbols': [], 'user_mentions': [], 'urls': [{'url': 'https://t.co/lRx43AEUtv', 'expanded_url': 'https://www.india.com/sports/ipl-2020-mi-vs-rcb-suryakumar-yadavs-response-to-virat-kohlis-stare-down-after-match-winning-knock-in-abu-dhabi-is-classy-watch-4189660/', 'display_url': 'india.com/sports/ipl-202…', 'indices': [88, 111]}]}, metadata={'iso_language_code': 'en', 'result_type': 'recent'}, source='Twitter Web App', source_url='https://mobile.twitter.com', in_reply_to_status_id=None, in_reply_to_status_id_str=None, in_reply_to_user_id=None, in_reply_to_user_id_str=None, in_reply_to_screen_name=None, author=User(_api=<tweepy.api.API object at 0x000002162EBF9DC8>, _json={'id': 22793955, 'id_str': '22793955', 'name': 'India.com', 'screen_name': 'indiacom', 'location': 'India', 'description': 'Follow https://t.co/RBTHZHv1ga for breaking news from India and around the world, live cricket updates, Bollywood gossip, travel tips and latest trends.', 'url': 'http://t.co/BiOdkjo3Rr', 'entities': {'url': {'urls': [{'url': 'http://t.co/BiOdkjo3Rr', 'expanded_url': 'http://www.india.com', 'display_url': 'india.com', 'indices': [0, 22]}]}, 'description': {'urls': [{'url': 'https://t.co/RBTHZHv1ga', 'expanded_url': 'http://India.com', 'display_url': 'India.com', 'indices': [7, 30]}]}}, 'protected': False, 'followers_count': 12886, 'friends_count': 372, 'listed_count': 244, 'created_at': 'Wed Mar 04 16:20:07 +0000 2009', 'favourites_count': 317, 'utc_offset': None, 'time_zone': None, 'geo_enabled': True, 'verified': True, 'statuses_count': 194556, 'lang': None, 'contributors_enabled': False, 'is_translator': False, 'is_translation_enabled': False, 'profile_background_color': 'C0DEED', 'profile_background_image_url': 'http://abs.twimg.com/images/themes/theme1/bg.png', 'profile_background_image_url_https': 'https://abs.twimg.com/images/themes/theme1/bg.png', 'profile_background_tile': False, 'profile_image_url': 'http://pbs.twimg.com/profile_images/1149599189787013121/Uc2CuNRv_normal.png', 'profile_image_url_https': 'https://pbs.twimg.com/profile_images/1149599189787013121/Uc2CuNRv_normal.png', 'profile_banner_url': 'https://pbs.twimg.com/profile_banners/22793955/1589270359', 'profile_link_color': '1B95E0', 'profile_sidebar_border_color': 'FFFFFF', 'profile_sidebar_fill_color': 'DDEEF6', 'profile_text_color': '333333', 'profile_use_background_image': False, 'has_extended_profile': False, 'default_profile': False, 'default_profile_image': False, 'following': False, 'follow_request_sent': False, 'notifications': False, 'translator_type': 'none'}, id=22793955, id_str='22793955', name='India.com', screen_name='indiacom', location='India', description='Follow https://t.co/RBTHZHv1ga for breaking news from India and around the world, live cricket updates, Bollywood gossip, travel tips and latest trends.', url='http://t.co/BiOdkjo3Rr', entities={'url': {'urls': [{'url': 'http://t.co/BiOdkjo3Rr', 'expanded_url': 'http://www.india.com', 'display_url': 'india.com', 'indices': [0, 22]}]}, 'description': {'urls': [{'url': 'https://t.co/RBTHZHv1ga', 'expanded_url': 'http://India.com', 'display_url': 'India.com', 'indices': [7, 30]}]}}, protected=False, followers_count=12886, friends_count=372, listed_count=244, created_at=datetime.datetime(2009, 3, 4, 16, 20, 7), favourites_count=317, utc_offset=None, time_zone=None, geo_enabled=True, verified=True, statuses_count=194556, lang=None, contributors_enabled=False, is_translator=False, is_translation_enabled=False, profile_background_color='C0DEED', profile_background_image_url='http://abs.twimg.com/images/themes/theme1/bg.png', profile_background_image_url_https='https://abs.twimg.com/images/themes/theme1/bg.png', profile_background_tile=False, profile_image_url='http://pbs.twimg.com/profile_images/1149599189787013121/Uc2CuNRv_normal.png', profile_image_url_https='https://pbs.twimg.com/profile_images/1149599189787013121/Uc2CuNRv_normal.png', profile_banner_url='https://pbs.twimg.com/profile_banners/22793955/1589270359', profile_link_color='1B95E0', profile_sidebar_border_color='FFFFFF', profile_sidebar_fill_color='DDEEF6', profile_text_color='333333', profile_use_background_image=False, has_extended_profile=False, default_profile=False, default_profile_image=False, following=False, follow_request_sent=False, notifications=False, translator_type='none'), user=User(_api=<tweepy.api.API object at 0x000002162EBF9DC8>, _json={'id': 22793955, 'id_str': '22793955', 'name': 'India.com', 'screen_name': 'indiacom', 'location': 'India', 'description': 'Follow https://t.co/RBTHZHv1ga for breaking news from India and around the world, live cricket updates, Bollywood gossip, travel tips and latest trends.', 'url': 'http://t.co/BiOdkjo3Rr', 'entities': {'url': {'urls': [{'url': 'http://t.co/BiOdkjo3Rr', 'expanded_url': 'http://www.india.com', 'display_url': 'india.com', 'indices': [0, 22]}]}, 'description': {'urls': [{'url': 'https://t.co/RBTHZHv1ga', 'expanded_url': 'http://India.com', 'display_url': 'India.com', 'indices': [7, 30]}]}}, 'protected': False, 'followers_count': 12886, 'friends_count': 372, 'listed_count': 244, 'created_at': 'Wed Mar 04 16:20:07 +0000 2009', 'favourites_count': 317, 'utc_offset': None, 'time_zone': None, 'geo_enabled': True, 'verified': True, 'statuses_count': 194556, 'lang': None, 'contributors_enabled': False, 'is_translator': False, 'is_translation_enabled': False, 'profile_background_color': 'C0DEED', 'profile_background_image_url': 'http://abs.twimg.com/images/themes/theme1/bg.png', 'profile_background_image_url_https': 'https://abs.twimg.com/images/themes/theme1/bg.png', 'profile_background_tile': False, 'profile_image_url': 'http://pbs.twimg.com/profile_images/1149599189787013121/Uc2CuNRv_normal.png', 'profile_image_url_https': 'https://pbs.twimg.com/profile_images/1149599189787013121/Uc2CuNRv_normal.png', 'profile_banner_url': 'https://pbs.twimg.com/profile_banners/22793955/1589270359', 'profile_link_color': '1B95E0', 'profile_sidebar_border_color': 'FFFFFF', 'profile_sidebar_fill_color': 'DDEEF6', 'profile_text_color': '333333', 'profile_use_background_image': False, 'has_extended_profile': False, 'default_profile': False, 'default_profile_image': False, 'following': False, 'follow_request_sent': False, 'notifications': False, 'translator_type': 'none'}, id=22793955, id_str='22793955', name='India.com', screen_name='indiacom', location='India', description='Follow https://t.co/RBTHZHv1ga for breaking news from India and around the world, live cricket updates, Bollywood gossip, travel tips and latest trends.', url='http://t.co/BiOdkjo3Rr', entities={'url': {'urls': [{'url': 'http://t.co/BiOdkjo3Rr', 'expanded_url': 'http://www.india.com', 'display_url': 'india.com', 'indices': [0, 22]}]}, 'description': {'urls': [{'url': 'https://t.co/RBTHZHv1ga', 'expanded_url': 'http://India.com', 'display_url': 'India.com', 'indices': [7, 30]}]}}, protected=False, followers_count=12886, friends_count=372, listed_count=244, created_at=datetime.datetime(2009, 3, 4, 16, 20, 7), favourites_count=317, utc_offset=None, time_zone=None, geo_enabled=True, verified=True, statuses_count=194556, lang=None, contributors_enabled=False, is_translator=False, is_translation_enabled=False, profile_background_color='C0DEED', profile_background_image_url='http://abs.twimg.com/images/themes/theme1/bg.png', profile_background_image_url_https='https://abs.twimg.com/images/themes/theme1/bg.png', profile_background_tile=False, profile_image_url='http://pbs.twimg.com/profile_images/1149599189787013121/Uc2CuNRv_normal.png', profile_image_url_https='https://pbs.twimg.com/profile_images/1149599189787013121/Uc2CuNRv_normal.png', profile_banner_url='https://pbs.twimg.com/profile_banners/22793955/1589270359', profile_link_color='1B95E0', profile_sidebar_border_color='FFFFFF', profile_sidebar_fill_color='DDEEF6', profile_text_color='333333', profile_use_background_image=False, has_extended_profile=False, default_profile=False, default_profile_image=False, following=False, follow_request_sent=False, notifications=False, translator_type='none'), geo=None, coordinates=None, place=None, contributors=None, is_quote_status=False, retweet_count=0, favorite_count=3, favorited=False, retweeted=False, possibly_sensitive=False, lang='en') \n",
      "\n",
      ".....................................\n",
      "\n",
      "Status(_api=<tweepy.api.API object at 0x000002162EBF9DC8>, _json={'created_at': 'Thu Oct 29 02:45:54 +0000 2020', 'id': 1321644399751700480, 'id_str': '1321644399751700480', 'full_text': \"@DUKEREACTS @dada1991_dc @imVkohli @RCBTweets @SGanguly99 @vikrantgupta73 @rawatrahul9 @klrahul11 @ImRo45 😂😂😂 King in loosing matches. And SKY showed what a guy in form can do. RCB winning IPL can only happen in dream and India winning any trophy under his captaincy is also a dream. The one who selects people with good boot licking abilities can't win us a trophy\", 'truncated': False, 'display_text_range': [106, 365], 'entities': {'hashtags': [], 'symbols': [], 'user_mentions': [{'screen_name': 'DUKEREACTS', 'name': 'DUKE REACTS!', 'id': 4895271209, 'id_str': '4895271209', 'indices': [0, 11]}, {'screen_name': 'dada1991_dc', 'name': 'Darshil Chheda - DC', 'id': 87405145, 'id_str': '87405145', 'indices': [12, 24]}, {'screen_name': 'imVkohli', 'name': 'Virat Kohli', 'id': 71201743, 'id_str': '71201743', 'indices': [25, 34]}, {'screen_name': 'RCBTweets', 'name': 'Royal Challengers Bangalore', 'id': 70931004, 'id_str': '70931004', 'indices': [35, 45]}, {'screen_name': 'SGanguly99', 'name': 'Sourav Ganguly', 'id': 2708915372, 'id_str': '2708915372', 'indices': [46, 57]}, {'screen_name': 'vikrantgupta73', 'name': 'Vikrant Gupta', 'id': 135110894, 'id_str': '135110894', 'indices': [58, 73]}, {'screen_name': 'rawatrahul9', 'name': 'Rahul Rawat', 'id': 137612094, 'id_str': '137612094', 'indices': [74, 86]}, {'screen_name': 'klrahul11', 'name': 'K L Rahul', 'id': 1469065189, 'id_str': '1469065189', 'indices': [87, 97]}, {'screen_name': 'ImRo45', 'name': 'Rohit Sharma', 'id': 121046433, 'id_str': '121046433', 'indices': [98, 105]}], 'urls': []}, 'metadata': {'iso_language_code': 'en', 'result_type': 'recent'}, 'source': '<a href=\"http://twitter.com/download/android\" rel=\"nofollow\">Twitter for Android</a>', 'in_reply_to_status_id': 1321521013750837248, 'in_reply_to_status_id_str': '1321521013750837248', 'in_reply_to_user_id': 4895271209, 'in_reply_to_user_id_str': '4895271209', 'in_reply_to_screen_name': 'DUKEREACTS', 'user': {'id': 918290399919140864, 'id_str': '918290399919140864', 'name': 'Monu 1011', 'screen_name': '1011Monu', 'location': '', 'description': '', 'url': None, 'entities': {'description': {'urls': []}}, 'protected': False, 'followers_count': 0, 'friends_count': 1, 'listed_count': 0, 'created_at': 'Thu Oct 12 01:41:07 +0000 2017', 'favourites_count': 0, 'utc_offset': None, 'time_zone': None, 'geo_enabled': False, 'verified': False, 'statuses_count': 15, 'lang': None, 'contributors_enabled': False, 'is_translator': False, 'is_translation_enabled': False, 'profile_background_color': 'F5F8FA', 'profile_background_image_url': None, 'profile_background_image_url_https': None, 'profile_background_tile': False, 'profile_image_url': 'http://abs.twimg.com/sticky/default_profile_images/default_profile_normal.png', 'profile_image_url_https': 'https://abs.twimg.com/sticky/default_profile_images/default_profile_normal.png', 'profile_link_color': '1DA1F2', 'profile_sidebar_border_color': 'C0DEED', 'profile_sidebar_fill_color': 'DDEEF6', 'profile_text_color': '333333', 'profile_use_background_image': True, 'has_extended_profile': False, 'default_profile': True, 'default_profile_image': True, 'following': False, 'follow_request_sent': False, 'notifications': False, 'translator_type': 'none'}, 'geo': None, 'coordinates': None, 'place': None, 'contributors': None, 'is_quote_status': False, 'retweet_count': 0, 'favorite_count': 0, 'favorited': False, 'retweeted': False, 'lang': 'en'}, created_at=datetime.datetime(2020, 10, 29, 2, 45, 54), id=1321644399751700480, id_str='1321644399751700480', full_text=\"@DUKEREACTS @dada1991_dc @imVkohli @RCBTweets @SGanguly99 @vikrantgupta73 @rawatrahul9 @klrahul11 @ImRo45 😂😂😂 King in loosing matches. And SKY showed what a guy in form can do. RCB winning IPL can only happen in dream and India winning any trophy under his captaincy is also a dream. The one who selects people with good boot licking abilities can't win us a trophy\", truncated=False, display_text_range=[106, 365], entities={'hashtags': [], 'symbols': [], 'user_mentions': [{'screen_name': 'DUKEREACTS', 'name': 'DUKE REACTS!', 'id': 4895271209, 'id_str': '4895271209', 'indices': [0, 11]}, {'screen_name': 'dada1991_dc', 'name': 'Darshil Chheda - DC', 'id': 87405145, 'id_str': '87405145', 'indices': [12, 24]}, {'screen_name': 'imVkohli', 'name': 'Virat Kohli', 'id': 71201743, 'id_str': '71201743', 'indices': [25, 34]}, {'screen_name': 'RCBTweets', 'name': 'Royal Challengers Bangalore', 'id': 70931004, 'id_str': '70931004', 'indices': [35, 45]}, {'screen_name': 'SGanguly99', 'name': 'Sourav Ganguly', 'id': 2708915372, 'id_str': '2708915372', 'indices': [46, 57]}, {'screen_name': 'vikrantgupta73', 'name': 'Vikrant Gupta', 'id': 135110894, 'id_str': '135110894', 'indices': [58, 73]}, {'screen_name': 'rawatrahul9', 'name': 'Rahul Rawat', 'id': 137612094, 'id_str': '137612094', 'indices': [74, 86]}, {'screen_name': 'klrahul11', 'name': 'K L Rahul', 'id': 1469065189, 'id_str': '1469065189', 'indices': [87, 97]}, {'screen_name': 'ImRo45', 'name': 'Rohit Sharma', 'id': 121046433, 'id_str': '121046433', 'indices': [98, 105]}], 'urls': []}, metadata={'iso_language_code': 'en', 'result_type': 'recent'}, source='Twitter for Android', source_url='http://twitter.com/download/android', in_reply_to_status_id=1321521013750837248, in_reply_to_status_id_str='1321521013750837248', in_reply_to_user_id=4895271209, in_reply_to_user_id_str='4895271209', in_reply_to_screen_name='DUKEREACTS', author=User(_api=<tweepy.api.API object at 0x000002162EBF9DC8>, _json={'id': 918290399919140864, 'id_str': '918290399919140864', 'name': 'Monu 1011', 'screen_name': '1011Monu', 'location': '', 'description': '', 'url': None, 'entities': {'description': {'urls': []}}, 'protected': False, 'followers_count': 0, 'friends_count': 1, 'listed_count': 0, 'created_at': 'Thu Oct 12 01:41:07 +0000 2017', 'favourites_count': 0, 'utc_offset': None, 'time_zone': None, 'geo_enabled': False, 'verified': False, 'statuses_count': 15, 'lang': None, 'contributors_enabled': False, 'is_translator': False, 'is_translation_enabled': False, 'profile_background_color': 'F5F8FA', 'profile_background_image_url': None, 'profile_background_image_url_https': None, 'profile_background_tile': False, 'profile_image_url': 'http://abs.twimg.com/sticky/default_profile_images/default_profile_normal.png', 'profile_image_url_https': 'https://abs.twimg.com/sticky/default_profile_images/default_profile_normal.png', 'profile_link_color': '1DA1F2', 'profile_sidebar_border_color': 'C0DEED', 'profile_sidebar_fill_color': 'DDEEF6', 'profile_text_color': '333333', 'profile_use_background_image': True, 'has_extended_profile': False, 'default_profile': True, 'default_profile_image': True, 'following': False, 'follow_request_sent': False, 'notifications': False, 'translator_type': 'none'}, id=918290399919140864, id_str='918290399919140864', name='Monu 1011', screen_name='1011Monu', location='', description='', url=None, entities={'description': {'urls': []}}, protected=False, followers_count=0, friends_count=1, listed_count=0, created_at=datetime.datetime(2017, 10, 12, 1, 41, 7), favourites_count=0, utc_offset=None, time_zone=None, geo_enabled=False, verified=False, statuses_count=15, lang=None, contributors_enabled=False, is_translator=False, is_translation_enabled=False, profile_background_color='F5F8FA', profile_background_image_url=None, profile_background_image_url_https=None, profile_background_tile=False, profile_image_url='http://abs.twimg.com/sticky/default_profile_images/default_profile_normal.png', profile_image_url_https='https://abs.twimg.com/sticky/default_profile_images/default_profile_normal.png', profile_link_color='1DA1F2', profile_sidebar_border_color='C0DEED', profile_sidebar_fill_color='DDEEF6', profile_text_color='333333', profile_use_background_image=True, has_extended_profile=False, default_profile=True, default_profile_image=True, following=False, follow_request_sent=False, notifications=False, translator_type='none'), user=User(_api=<tweepy.api.API object at 0x000002162EBF9DC8>, _json={'id': 918290399919140864, 'id_str': '918290399919140864', 'name': 'Monu 1011', 'screen_name': '1011Monu', 'location': '', 'description': '', 'url': None, 'entities': {'description': {'urls': []}}, 'protected': False, 'followers_count': 0, 'friends_count': 1, 'listed_count': 0, 'created_at': 'Thu Oct 12 01:41:07 +0000 2017', 'favourites_count': 0, 'utc_offset': None, 'time_zone': None, 'geo_enabled': False, 'verified': False, 'statuses_count': 15, 'lang': None, 'contributors_enabled': False, 'is_translator': False, 'is_translation_enabled': False, 'profile_background_color': 'F5F8FA', 'profile_background_image_url': None, 'profile_background_image_url_https': None, 'profile_background_tile': False, 'profile_image_url': 'http://abs.twimg.com/sticky/default_profile_images/default_profile_normal.png', 'profile_image_url_https': 'https://abs.twimg.com/sticky/default_profile_images/default_profile_normal.png', 'profile_link_color': '1DA1F2', 'profile_sidebar_border_color': 'C0DEED', 'profile_sidebar_fill_color': 'DDEEF6', 'profile_text_color': '333333', 'profile_use_background_image': True, 'has_extended_profile': False, 'default_profile': True, 'default_profile_image': True, 'following': False, 'follow_request_sent': False, 'notifications': False, 'translator_type': 'none'}, id=918290399919140864, id_str='918290399919140864', name='Monu 1011', screen_name='1011Monu', location='', description='', url=None, entities={'description': {'urls': []}}, protected=False, followers_count=0, friends_count=1, listed_count=0, created_at=datetime.datetime(2017, 10, 12, 1, 41, 7), favourites_count=0, utc_offset=None, time_zone=None, geo_enabled=False, verified=False, statuses_count=15, lang=None, contributors_enabled=False, is_translator=False, is_translation_enabled=False, profile_background_color='F5F8FA', profile_background_image_url=None, profile_background_image_url_https=None, profile_background_tile=False, profile_image_url='http://abs.twimg.com/sticky/default_profile_images/default_profile_normal.png', profile_image_url_https='https://abs.twimg.com/sticky/default_profile_images/default_profile_normal.png', profile_link_color='1DA1F2', profile_sidebar_border_color='C0DEED', profile_sidebar_fill_color='DDEEF6', profile_text_color='333333', profile_use_background_image=True, has_extended_profile=False, default_profile=True, default_profile_image=True, following=False, follow_request_sent=False, notifications=False, translator_type='none'), geo=None, coordinates=None, place=None, contributors=None, is_quote_status=False, retweet_count=0, favorite_count=0, favorited=False, retweeted=False, lang='en') \n",
      "\n",
      ".....................................\n",
      "\n",
      "Status(_api=<tweepy.api.API object at 0x000002162EBF9DC8>, _json={'created_at': 'Thu Oct 29 02:28:25 +0000 2020', 'id': 1321640000945942529, 'id_str': '1321640000945942529', 'full_text': \"#IPL2020 Hope selectors are watching: Harbhajan Singh hails #Suryakumar's match-winning knock against RCB\\n\\nhttps://t.co/839NhUXgCo\", 'truncated': False, 'display_text_range': [0, 130], 'entities': {'hashtags': [{'text': 'IPL2020', 'indices': [0, 8]}, {'text': 'Suryakumar', 'indices': [60, 71]}], 'symbols': [], 'user_mentions': [], 'urls': [{'url': 'https://t.co/839NhUXgCo', 'expanded_url': 'https://www.indiatvnews.com/sports/cricket/ipl-2020-rcb-vs-mi-hope-selectors-are-watching-harbhajan-singh-hails-suryakumar-yadav-s-match-winning-knock-660678', 'display_url': 'indiatvnews.com/sports/cricket…', 'indices': [107, 130]}]}, 'metadata': {'iso_language_code': 'en', 'result_type': 'recent'}, 'source': '<a href=\"https://mobile.twitter.com\" rel=\"nofollow\">Twitter Web App</a>', 'in_reply_to_status_id': None, 'in_reply_to_status_id_str': None, 'in_reply_to_user_id': None, 'in_reply_to_user_id_str': None, 'in_reply_to_screen_name': None, 'user': {'id': 1120599170656509953, 'id_str': '1120599170656509953', 'name': 'IndiaTVSports', 'screen_name': 'IndiaTVSports', 'location': 'Noida, India', 'description': 'One-stop destination for all sports-related content, including Live Match Coverage, News, Videos, Photos and much more.', 'url': None, 'entities': {'description': {'urls': []}}, 'protected': False, 'followers_count': 1426, 'friends_count': 9, 'listed_count': 5, 'created_at': 'Tue Apr 23 08:03:56 +0000 2019', 'favourites_count': 0, 'utc_offset': None, 'time_zone': None, 'geo_enabled': False, 'verified': False, 'statuses_count': 16751, 'lang': None, 'contributors_enabled': False, 'is_translator': False, 'is_translation_enabled': False, 'profile_background_color': 'F5F8FA', 'profile_background_image_url': None, 'profile_background_image_url_https': None, 'profile_background_tile': False, 'profile_image_url': 'http://pbs.twimg.com/profile_images/1120599503311007745/0Z7Wzhuz_normal.png', 'profile_image_url_https': 'https://pbs.twimg.com/profile_images/1120599503311007745/0Z7Wzhuz_normal.png', 'profile_banner_url': 'https://pbs.twimg.com/profile_banners/1120599170656509953/1575375865', 'profile_link_color': '1DA1F2', 'profile_sidebar_border_color': 'C0DEED', 'profile_sidebar_fill_color': 'DDEEF6', 'profile_text_color': '333333', 'profile_use_background_image': True, 'has_extended_profile': False, 'default_profile': True, 'default_profile_image': False, 'following': False, 'follow_request_sent': False, 'notifications': False, 'translator_type': 'none'}, 'geo': None, 'coordinates': None, 'place': None, 'contributors': None, 'is_quote_status': False, 'retweet_count': 1, 'favorite_count': 16, 'favorited': False, 'retweeted': False, 'possibly_sensitive': False, 'lang': 'en'}, created_at=datetime.datetime(2020, 10, 29, 2, 28, 25), id=1321640000945942529, id_str='1321640000945942529', full_text=\"#IPL2020 Hope selectors are watching: Harbhajan Singh hails #Suryakumar's match-winning knock against RCB\\n\\nhttps://t.co/839NhUXgCo\", truncated=False, display_text_range=[0, 130], entities={'hashtags': [{'text': 'IPL2020', 'indices': [0, 8]}, {'text': 'Suryakumar', 'indices': [60, 71]}], 'symbols': [], 'user_mentions': [], 'urls': [{'url': 'https://t.co/839NhUXgCo', 'expanded_url': 'https://www.indiatvnews.com/sports/cricket/ipl-2020-rcb-vs-mi-hope-selectors-are-watching-harbhajan-singh-hails-suryakumar-yadav-s-match-winning-knock-660678', 'display_url': 'indiatvnews.com/sports/cricket…', 'indices': [107, 130]}]}, metadata={'iso_language_code': 'en', 'result_type': 'recent'}, source='Twitter Web App', source_url='https://mobile.twitter.com', in_reply_to_status_id=None, in_reply_to_status_id_str=None, in_reply_to_user_id=None, in_reply_to_user_id_str=None, in_reply_to_screen_name=None, author=User(_api=<tweepy.api.API object at 0x000002162EBF9DC8>, _json={'id': 1120599170656509953, 'id_str': '1120599170656509953', 'name': 'IndiaTVSports', 'screen_name': 'IndiaTVSports', 'location': 'Noida, India', 'description': 'One-stop destination for all sports-related content, including Live Match Coverage, News, Videos, Photos and much more.', 'url': None, 'entities': {'description': {'urls': []}}, 'protected': False, 'followers_count': 1426, 'friends_count': 9, 'listed_count': 5, 'created_at': 'Tue Apr 23 08:03:56 +0000 2019', 'favourites_count': 0, 'utc_offset': None, 'time_zone': None, 'geo_enabled': False, 'verified': False, 'statuses_count': 16751, 'lang': None, 'contributors_enabled': False, 'is_translator': False, 'is_translation_enabled': False, 'profile_background_color': 'F5F8FA', 'profile_background_image_url': None, 'profile_background_image_url_https': None, 'profile_background_tile': False, 'profile_image_url': 'http://pbs.twimg.com/profile_images/1120599503311007745/0Z7Wzhuz_normal.png', 'profile_image_url_https': 'https://pbs.twimg.com/profile_images/1120599503311007745/0Z7Wzhuz_normal.png', 'profile_banner_url': 'https://pbs.twimg.com/profile_banners/1120599170656509953/1575375865', 'profile_link_color': '1DA1F2', 'profile_sidebar_border_color': 'C0DEED', 'profile_sidebar_fill_color': 'DDEEF6', 'profile_text_color': '333333', 'profile_use_background_image': True, 'has_extended_profile': False, 'default_profile': True, 'default_profile_image': False, 'following': False, 'follow_request_sent': False, 'notifications': False, 'translator_type': 'none'}, id=1120599170656509953, id_str='1120599170656509953', name='IndiaTVSports', screen_name='IndiaTVSports', location='Noida, India', description='One-stop destination for all sports-related content, including Live Match Coverage, News, Videos, Photos and much more.', url=None, entities={'description': {'urls': []}}, protected=False, followers_count=1426, friends_count=9, listed_count=5, created_at=datetime.datetime(2019, 4, 23, 8, 3, 56), favourites_count=0, utc_offset=None, time_zone=None, geo_enabled=False, verified=False, statuses_count=16751, lang=None, contributors_enabled=False, is_translator=False, is_translation_enabled=False, profile_background_color='F5F8FA', profile_background_image_url=None, profile_background_image_url_https=None, profile_background_tile=False, profile_image_url='http://pbs.twimg.com/profile_images/1120599503311007745/0Z7Wzhuz_normal.png', profile_image_url_https='https://pbs.twimg.com/profile_images/1120599503311007745/0Z7Wzhuz_normal.png', profile_banner_url='https://pbs.twimg.com/profile_banners/1120599170656509953/1575375865', profile_link_color='1DA1F2', profile_sidebar_border_color='C0DEED', profile_sidebar_fill_color='DDEEF6', profile_text_color='333333', profile_use_background_image=True, has_extended_profile=False, default_profile=True, default_profile_image=False, following=False, follow_request_sent=False, notifications=False, translator_type='none'), user=User(_api=<tweepy.api.API object at 0x000002162EBF9DC8>, _json={'id': 1120599170656509953, 'id_str': '1120599170656509953', 'name': 'IndiaTVSports', 'screen_name': 'IndiaTVSports', 'location': 'Noida, India', 'description': 'One-stop destination for all sports-related content, including Live Match Coverage, News, Videos, Photos and much more.', 'url': None, 'entities': {'description': {'urls': []}}, 'protected': False, 'followers_count': 1426, 'friends_count': 9, 'listed_count': 5, 'created_at': 'Tue Apr 23 08:03:56 +0000 2019', 'favourites_count': 0, 'utc_offset': None, 'time_zone': None, 'geo_enabled': False, 'verified': False, 'statuses_count': 16751, 'lang': None, 'contributors_enabled': False, 'is_translator': False, 'is_translation_enabled': False, 'profile_background_color': 'F5F8FA', 'profile_background_image_url': None, 'profile_background_image_url_https': None, 'profile_background_tile': False, 'profile_image_url': 'http://pbs.twimg.com/profile_images/1120599503311007745/0Z7Wzhuz_normal.png', 'profile_image_url_https': 'https://pbs.twimg.com/profile_images/1120599503311007745/0Z7Wzhuz_normal.png', 'profile_banner_url': 'https://pbs.twimg.com/profile_banners/1120599170656509953/1575375865', 'profile_link_color': '1DA1F2', 'profile_sidebar_border_color': 'C0DEED', 'profile_sidebar_fill_color': 'DDEEF6', 'profile_text_color': '333333', 'profile_use_background_image': True, 'has_extended_profile': False, 'default_profile': True, 'default_profile_image': False, 'following': False, 'follow_request_sent': False, 'notifications': False, 'translator_type': 'none'}, id=1120599170656509953, id_str='1120599170656509953', name='IndiaTVSports', screen_name='IndiaTVSports', location='Noida, India', description='One-stop destination for all sports-related content, including Live Match Coverage, News, Videos, Photos and much more.', url=None, entities={'description': {'urls': []}}, protected=False, followers_count=1426, friends_count=9, listed_count=5, created_at=datetime.datetime(2019, 4, 23, 8, 3, 56), favourites_count=0, utc_offset=None, time_zone=None, geo_enabled=False, verified=False, statuses_count=16751, lang=None, contributors_enabled=False, is_translator=False, is_translation_enabled=False, profile_background_color='F5F8FA', profile_background_image_url=None, profile_background_image_url_https=None, profile_background_tile=False, profile_image_url='http://pbs.twimg.com/profile_images/1120599503311007745/0Z7Wzhuz_normal.png', profile_image_url_https='https://pbs.twimg.com/profile_images/1120599503311007745/0Z7Wzhuz_normal.png', profile_banner_url='https://pbs.twimg.com/profile_banners/1120599170656509953/1575375865', profile_link_color='1DA1F2', profile_sidebar_border_color='C0DEED', profile_sidebar_fill_color='DDEEF6', profile_text_color='333333', profile_use_background_image=True, has_extended_profile=False, default_profile=True, default_profile_image=False, following=False, follow_request_sent=False, notifications=False, translator_type='none'), geo=None, coordinates=None, place=None, contributors=None, is_quote_status=False, retweet_count=1, favorite_count=16, favorited=False, retweeted=False, possibly_sensitive=False, lang='en') \n",
      "\n",
      ".....................................\n",
      "\n"
     ]
    }
   ],
   "source": [
    "Tweets = api.search( query , count=10 , lang='en' , exclude='retweets' , tweet_mode='extended' )\n",
    "# tweet_mode='extended'\n",
    "# tweet_mode='compat'\n",
    "\n",
    "for tweet in Tweets:\n",
    "    print(tweet,\"\\n\")\n",
    "    print(\".....................................\\n\")"
   ]
  },
  {
   "cell_type": "code",
   "execution_count": 9,
   "metadata": {},
   "outputs": [
    {
     "name": "stdout",
     "output_type": "stream",
     "text": [
      "Empty DataFrame\n",
      "Columns: [Tweets, User, User_statuses_count, user_followers, User_location, User_verified, fav_count, rt_count, tweet_date]\n",
      "Index: []\n"
     ]
    }
   ],
   "source": [
    "df = pd.DataFrame(columns = ['Tweets' , 'User' , 'User_statuses_count' , \n",
    "                            'user_followers' , 'User_location' , 'User_verified' ,\n",
    "                            'fav_count' , 'rt_count' , 'tweet_date'] )\n",
    "print(df)\n",
    "# print(df.shape)"
   ]
  },
  {
   "cell_type": "code",
   "execution_count": 10,
   "metadata": {},
   "outputs": [],
   "source": [
    "def stream(data, file_name):\n",
    "    i = 0\n",
    "    for tweet in tweepy.Cursor(api.search, q=data, count=100, lang='en').items():\n",
    "        print(i, end='\\r')\n",
    "        df.loc[i, 'Tweets'] = tweet.text\n",
    "        df.loc[i, 'User'] = tweet.user.name\n",
    "        df.loc[i, 'User_statuses_count'] = tweet.user.statuses_count\n",
    "        df.loc[i, 'user_followers'] = tweet.user.followers_count\n",
    "        df.loc[i, 'User_location'] = tweet.user.location\n",
    "        df.loc[i, 'User_verified'] = tweet.user.verified\n",
    "        df.loc[i, 'fav_count'] = tweet.favorite_count\n",
    "        df.loc[i, 'rt_count'] = tweet.retweet_count\n",
    "        df.loc[i, 'tweet_date'] = tweet.created_at\n",
    "        df.to_excel('{}.xlsx'.format(file_name))\n",
    "        i = i+1\n",
    "        if i == 1000:\n",
    "            break\n",
    "        else:\n",
    "            pass"
   ]
  },
  {
   "cell_type": "code",
   "execution_count": 23,
   "metadata": {},
   "outputs": [
    {
     "name": "stdout",
     "output_type": "stream",
     "text": [
      "999\r"
     ]
    }
   ],
   "source": [
    "stream(data=[\"DHONI\"] , file_name='my_tweets')"
   ]
  },
  {
   "cell_type": "code",
   "execution_count": 24,
   "metadata": {},
   "outputs": [
    {
     "data": {
      "text/html": [
       "<div>\n",
       "<style scoped>\n",
       "    .dataframe tbody tr th:only-of-type {\n",
       "        vertical-align: middle;\n",
       "    }\n",
       "\n",
       "    .dataframe tbody tr th {\n",
       "        vertical-align: top;\n",
       "    }\n",
       "\n",
       "    .dataframe thead th {\n",
       "        text-align: right;\n",
       "    }\n",
       "</style>\n",
       "<table border=\"1\" class=\"dataframe\">\n",
       "  <thead>\n",
       "    <tr style=\"text-align: right;\">\n",
       "      <th></th>\n",
       "      <th>Tweets</th>\n",
       "      <th>User</th>\n",
       "      <th>User_statuses_count</th>\n",
       "      <th>user_followers</th>\n",
       "      <th>User_location</th>\n",
       "      <th>User_verified</th>\n",
       "      <th>fav_count</th>\n",
       "      <th>rt_count</th>\n",
       "      <th>tweet_date</th>\n",
       "      <th>clean_tweet</th>\n",
       "      <th>Sentiment</th>\n",
       "    </tr>\n",
       "  </thead>\n",
       "  <tbody>\n",
       "    <tr>\n",
       "      <th>0</th>\n",
       "      <td>@unbrahmachari @tiwarymanoj Saha was only goin...</td>\n",
       "      <td>Viraj</td>\n",
       "      <td>11104</td>\n",
       "      <td>273</td>\n",
       "      <td></td>\n",
       "      <td>False</td>\n",
       "      <td>0</td>\n",
       "      <td>0</td>\n",
       "      <td>2020-10-29 08:51:06</td>\n",
       "      <td>RCB still not among the IPL winning teams even...</td>\n",
       "      <td>Positive</td>\n",
       "    </tr>\n",
       "    <tr>\n",
       "      <th>1</th>\n",
       "      <td>@singintherainn @towerstarfan @SriniMaama16 Mm...</td>\n",
       "      <td>thalapathy Vijay 😎</td>\n",
       "      <td>319488</td>\n",
       "      <td>1193</td>\n",
       "      <td></td>\n",
       "      <td>False</td>\n",
       "      <td>0</td>\n",
       "      <td>0</td>\n",
       "      <td>2020-10-29 08:50:57</td>\n",
       "      <td>Kolly deserves chamat</td>\n",
       "      <td>Neutral</td>\n",
       "    </tr>\n",
       "    <tr>\n",
       "      <th>2</th>\n",
       "      <td>RT @Sasankapk_sayz: Greatest strength of Ms Dh...</td>\n",
       "      <td>Annaya Abhimani</td>\n",
       "      <td>72903</td>\n",
       "      <td>4005</td>\n",
       "      <td></td>\n",
       "      <td>False</td>\n",
       "      <td>0</td>\n",
       "      <td>9</td>\n",
       "      <td>2020-10-29 08:50:54</td>\n",
       "      <td>Rohit does an Archer IPL2020 SuryakumarYadav R...</td>\n",
       "      <td>Neutral</td>\n",
       "    </tr>\n",
       "    <tr>\n",
       "      <th>3</th>\n",
       "      <td>RT @TentaranSports: Who is the better captain ...</td>\n",
       "      <td>Vishal Shrimali</td>\n",
       "      <td>129</td>\n",
       "      <td>9</td>\n",
       "      <td></td>\n",
       "      <td>False</td>\n",
       "      <td>0</td>\n",
       "      <td>359</td>\n",
       "      <td>2020-10-29 08:50:44</td>\n",
       "      <td>14kumar how many time his team RCB qualify for...</td>\n",
       "      <td>Positive</td>\n",
       "    </tr>\n",
       "    <tr>\n",
       "      <th>4</th>\n",
       "      <td>@Dhoni_712 @rajinikanth Broo😡 #ஓட்டுன்னுபோட்டா...</td>\n",
       "      <td>𝑰𝒏𝒇𝒂𝒄𝒕𝒖𝒂𝒕𝒊𝒐𝒏</td>\n",
       "      <td>16456</td>\n",
       "      <td>2305</td>\n",
       "      <td>Kentucky</td>\n",
       "      <td>False</td>\n",
       "      <td>0</td>\n",
       "      <td>0</td>\n",
       "      <td>2020-10-29 08:50:40</td>\n",
       "      <td>RT Social media was awash with accolades for S...</td>\n",
       "      <td>Positive</td>\n",
       "    </tr>\n",
       "  </tbody>\n",
       "</table>\n",
       "</div>"
      ],
      "text/plain": [
       "                                              Tweets                User  \\\n",
       "0  @unbrahmachari @tiwarymanoj Saha was only goin...               Viraj   \n",
       "1  @singintherainn @towerstarfan @SriniMaama16 Mm...  thalapathy Vijay 😎   \n",
       "2  RT @Sasankapk_sayz: Greatest strength of Ms Dh...     Annaya Abhimani   \n",
       "3  RT @TentaranSports: Who is the better captain ...     Vishal Shrimali   \n",
       "4  @Dhoni_712 @rajinikanth Broo😡 #ஓட்டுன்னுபோட்டா...        𝑰𝒏𝒇𝒂𝒄𝒕𝒖𝒂𝒕𝒊𝒐𝒏   \n",
       "\n",
       "  User_statuses_count user_followers User_location User_verified fav_count  \\\n",
       "0               11104            273                       False         0   \n",
       "1              319488           1193                       False         0   \n",
       "2               72903           4005                       False         0   \n",
       "3                 129              9                       False         0   \n",
       "4               16456           2305     Kentucky          False         0   \n",
       "\n",
       "  rt_count           tweet_date  \\\n",
       "0        0  2020-10-29 08:51:06   \n",
       "1        0  2020-10-29 08:50:57   \n",
       "2        9  2020-10-29 08:50:54   \n",
       "3      359  2020-10-29 08:50:44   \n",
       "4        0  2020-10-29 08:50:40   \n",
       "\n",
       "                                         clean_tweet Sentiment  \n",
       "0  RCB still not among the IPL winning teams even...  Positive  \n",
       "1                              Kolly deserves chamat   Neutral  \n",
       "2  Rohit does an Archer IPL2020 SuryakumarYadav R...   Neutral  \n",
       "3  14kumar how many time his team RCB qualify for...  Positive  \n",
       "4  RT Social media was awash with accolades for S...  Positive  "
      ]
     },
     "execution_count": 24,
     "metadata": {},
     "output_type": "execute_result"
    }
   ],
   "source": [
    "df.head()"
   ]
  },
  {
   "cell_type": "code",
   "execution_count": 25,
   "metadata": {},
   "outputs": [
    {
     "name": "stdout",
     "output_type": "stream",
     "text": [
      "Requirement already satisfied: textblob in c:\\users\\user\\anaconda3\\lib\\site-packages (0.15.3)\n",
      "Requirement already satisfied: nltk>=3.1 in c:\\users\\user\\anaconda3\\lib\\site-packages (from textblob) (3.5)\n",
      "Requirement already satisfied: click in c:\\users\\user\\anaconda3\\lib\\site-packages (from nltk>=3.1->textblob) (7.1.2)\n",
      "Requirement already satisfied: tqdm in c:\\users\\user\\anaconda3\\lib\\site-packages (from nltk>=3.1->textblob) (4.48.2)\n",
      "Requirement already satisfied: joblib in c:\\users\\user\\anaconda3\\lib\\site-packages (from nltk>=3.1->textblob) (0.16.0)\n",
      "Requirement already satisfied: regex in c:\\users\\user\\anaconda3\\lib\\site-packages (from nltk>=3.1->textblob) (2020.7.14)\n"
     ]
    }
   ],
   "source": [
    "!pip install textblob"
   ]
  },
  {
   "cell_type": "code",
   "execution_count": 41,
   "metadata": {},
   "outputs": [],
   "source": [
    "from textblob import TextBlob"
   ]
  },
  {
   "cell_type": "code",
   "execution_count": 42,
   "metadata": {},
   "outputs": [],
   "source": [
    "import re\n",
    "def clean_tweet(tweet):\n",
    "    return ' '.join(re.sub('(@[A-Za-z0-9]+)|([^0-9A-Za-z \\t])|(\\w+:\\/\\/\\S+)', ' ', tweet).split())"
   ]
  },
  {
   "cell_type": "code",
   "execution_count": 32,
   "metadata": {},
   "outputs": [],
   "source": [
    "#def clean_tweet(tweet):\n",
    " #   alphanumeric = [character for character in tweet if character.isalnum()]\n",
    "  #  alphanumeric = \"\".join(alphanumeric)"
   ]
  },
  {
   "cell_type": "code",
   "execution_count": 43,
   "metadata": {},
   "outputs": [],
   "source": [
    "def analyze_sentiment(tweet):\n",
    "    analysis = TextBlob(tweet)\n",
    "    if analysis.sentiment.polarity > 0:\n",
    "        return 'Positive'\n",
    "    elif analysis.sentiment.polarity == 0:\n",
    "        return 'Neutral'\n",
    "    else:\n",
    "        return 'Negative'"
   ]
  },
  {
   "cell_type": "code",
   "execution_count": 44,
   "metadata": {},
   "outputs": [],
   "source": [
    "df['clean_tweet'] = df['Tweets'].apply(lambda x : clean_tweet(x))"
   ]
  },
  {
   "cell_type": "code",
   "execution_count": 45,
   "metadata": {},
   "outputs": [
    {
     "data": {
      "text/html": [
       "<div>\n",
       "<style scoped>\n",
       "    .dataframe tbody tr th:only-of-type {\n",
       "        vertical-align: middle;\n",
       "    }\n",
       "\n",
       "    .dataframe tbody tr th {\n",
       "        vertical-align: top;\n",
       "    }\n",
       "\n",
       "    .dataframe thead th {\n",
       "        text-align: right;\n",
       "    }\n",
       "</style>\n",
       "<table border=\"1\" class=\"dataframe\">\n",
       "  <thead>\n",
       "    <tr style=\"text-align: right;\">\n",
       "      <th></th>\n",
       "      <th>Tweets</th>\n",
       "      <th>User</th>\n",
       "      <th>User_statuses_count</th>\n",
       "      <th>user_followers</th>\n",
       "      <th>User_location</th>\n",
       "      <th>User_verified</th>\n",
       "      <th>fav_count</th>\n",
       "      <th>rt_count</th>\n",
       "      <th>tweet_date</th>\n",
       "      <th>clean_tweet</th>\n",
       "      <th>Sentiment</th>\n",
       "    </tr>\n",
       "  </thead>\n",
       "  <tbody>\n",
       "    <tr>\n",
       "      <th>0</th>\n",
       "      <td>@unbrahmachari @tiwarymanoj Saha was only goin...</td>\n",
       "      <td>Viraj</td>\n",
       "      <td>11104</td>\n",
       "      <td>273</td>\n",
       "      <td></td>\n",
       "      <td>False</td>\n",
       "      <td>0</td>\n",
       "      <td>0</td>\n",
       "      <td>2020-10-29 08:51:06</td>\n",
       "      <td>Saha was only going to play after Dhoni s reti...</td>\n",
       "      <td>Positive</td>\n",
       "    </tr>\n",
       "    <tr>\n",
       "      <th>1</th>\n",
       "      <td>@singintherainn @towerstarfan @SriniMaama16 Mm...</td>\n",
       "      <td>thalapathy Vijay 😎</td>\n",
       "      <td>319488</td>\n",
       "      <td>1193</td>\n",
       "      <td></td>\n",
       "      <td>False</td>\n",
       "      <td>0</td>\n",
       "      <td>0</td>\n",
       "      <td>2020-10-29 08:50:57</td>\n",
       "      <td>Mmm this sounds good kohli came under dhoni dh...</td>\n",
       "      <td>Neutral</td>\n",
       "    </tr>\n",
       "    <tr>\n",
       "      <th>2</th>\n",
       "      <td>RT @Sasankapk_sayz: Greatest strength of Ms Dh...</td>\n",
       "      <td>Annaya Abhimani</td>\n",
       "      <td>72903</td>\n",
       "      <td>4005</td>\n",
       "      <td></td>\n",
       "      <td>False</td>\n",
       "      <td>0</td>\n",
       "      <td>9</td>\n",
       "      <td>2020-10-29 08:50:54</td>\n",
       "      <td>RT sayz Greatest strength of Ms Dhoni is his p...</td>\n",
       "      <td>Neutral</td>\n",
       "    </tr>\n",
       "    <tr>\n",
       "      <th>3</th>\n",
       "      <td>RT @TentaranSports: Who is the better captain ...</td>\n",
       "      <td>Vishal Shrimali</td>\n",
       "      <td>129</td>\n",
       "      <td>9</td>\n",
       "      <td></td>\n",
       "      <td>False</td>\n",
       "      <td>0</td>\n",
       "      <td>359</td>\n",
       "      <td>2020-10-29 08:50:44</td>\n",
       "      <td>RT Who is the better captain in IPL RT Like MS...</td>\n",
       "      <td>Positive</td>\n",
       "    </tr>\n",
       "    <tr>\n",
       "      <th>4</th>\n",
       "      <td>@Dhoni_712 @rajinikanth Broo😡 #ஓட்டுன்னுபோட்டா...</td>\n",
       "      <td>𝑰𝒏𝒇𝒂𝒄𝒕𝒖𝒂𝒕𝒊𝒐𝒏</td>\n",
       "      <td>16456</td>\n",
       "      <td>2305</td>\n",
       "      <td>Kentucky</td>\n",
       "      <td>False</td>\n",
       "      <td>0</td>\n",
       "      <td>0</td>\n",
       "      <td>2020-10-29 08:50:40</td>\n",
       "      <td>712 Broo</td>\n",
       "      <td>Positive</td>\n",
       "    </tr>\n",
       "  </tbody>\n",
       "</table>\n",
       "</div>"
      ],
      "text/plain": [
       "                                              Tweets                User  \\\n",
       "0  @unbrahmachari @tiwarymanoj Saha was only goin...               Viraj   \n",
       "1  @singintherainn @towerstarfan @SriniMaama16 Mm...  thalapathy Vijay 😎   \n",
       "2  RT @Sasankapk_sayz: Greatest strength of Ms Dh...     Annaya Abhimani   \n",
       "3  RT @TentaranSports: Who is the better captain ...     Vishal Shrimali   \n",
       "4  @Dhoni_712 @rajinikanth Broo😡 #ஓட்டுன்னுபோட்டா...        𝑰𝒏𝒇𝒂𝒄𝒕𝒖𝒂𝒕𝒊𝒐𝒏   \n",
       "\n",
       "  User_statuses_count user_followers User_location User_verified fav_count  \\\n",
       "0               11104            273                       False         0   \n",
       "1              319488           1193                       False         0   \n",
       "2               72903           4005                       False         0   \n",
       "3                 129              9                       False         0   \n",
       "4               16456           2305     Kentucky          False         0   \n",
       "\n",
       "  rt_count           tweet_date  \\\n",
       "0        0  2020-10-29 08:51:06   \n",
       "1        0  2020-10-29 08:50:57   \n",
       "2        9  2020-10-29 08:50:54   \n",
       "3      359  2020-10-29 08:50:44   \n",
       "4        0  2020-10-29 08:50:40   \n",
       "\n",
       "                                         clean_tweet Sentiment  \n",
       "0  Saha was only going to play after Dhoni s reti...  Positive  \n",
       "1  Mmm this sounds good kohli came under dhoni dh...   Neutral  \n",
       "2  RT sayz Greatest strength of Ms Dhoni is his p...   Neutral  \n",
       "3  RT Who is the better captain in IPL RT Like MS...  Positive  \n",
       "4                                           712 Broo  Positive  "
      ]
     },
     "execution_count": 45,
     "metadata": {},
     "output_type": "execute_result"
    }
   ],
   "source": [
    "df.head()"
   ]
  },
  {
   "cell_type": "code",
   "execution_count": 46,
   "metadata": {},
   "outputs": [
    {
     "data": {
      "text/html": [
       "<div>\n",
       "<style scoped>\n",
       "    .dataframe tbody tr th:only-of-type {\n",
       "        vertical-align: middle;\n",
       "    }\n",
       "\n",
       "    .dataframe tbody tr th {\n",
       "        vertical-align: top;\n",
       "    }\n",
       "\n",
       "    .dataframe thead th {\n",
       "        text-align: right;\n",
       "    }\n",
       "</style>\n",
       "<table border=\"1\" class=\"dataframe\">\n",
       "  <thead>\n",
       "    <tr style=\"text-align: right;\">\n",
       "      <th></th>\n",
       "      <th>Tweets</th>\n",
       "      <th>User</th>\n",
       "      <th>User_statuses_count</th>\n",
       "      <th>user_followers</th>\n",
       "      <th>User_location</th>\n",
       "      <th>User_verified</th>\n",
       "      <th>fav_count</th>\n",
       "      <th>rt_count</th>\n",
       "      <th>tweet_date</th>\n",
       "      <th>clean_tweet</th>\n",
       "      <th>Sentiment</th>\n",
       "    </tr>\n",
       "  </thead>\n",
       "  <tbody>\n",
       "    <tr>\n",
       "      <th>0</th>\n",
       "      <td>@unbrahmachari @tiwarymanoj Saha was only goin...</td>\n",
       "      <td>Viraj</td>\n",
       "      <td>11104</td>\n",
       "      <td>273</td>\n",
       "      <td></td>\n",
       "      <td>False</td>\n",
       "      <td>0</td>\n",
       "      <td>0</td>\n",
       "      <td>2020-10-29 08:51:06</td>\n",
       "      <td>Saha was only going to play after Dhoni s reti...</td>\n",
       "      <td>Neutral</td>\n",
       "    </tr>\n",
       "    <tr>\n",
       "      <th>1</th>\n",
       "      <td>@singintherainn @towerstarfan @SriniMaama16 Mm...</td>\n",
       "      <td>thalapathy Vijay 😎</td>\n",
       "      <td>319488</td>\n",
       "      <td>1193</td>\n",
       "      <td></td>\n",
       "      <td>False</td>\n",
       "      <td>0</td>\n",
       "      <td>0</td>\n",
       "      <td>2020-10-29 08:50:57</td>\n",
       "      <td>Mmm this sounds good kohli came under dhoni dh...</td>\n",
       "      <td>Positive</td>\n",
       "    </tr>\n",
       "    <tr>\n",
       "      <th>2</th>\n",
       "      <td>RT @Sasankapk_sayz: Greatest strength of Ms Dh...</td>\n",
       "      <td>Annaya Abhimani</td>\n",
       "      <td>72903</td>\n",
       "      <td>4005</td>\n",
       "      <td></td>\n",
       "      <td>False</td>\n",
       "      <td>0</td>\n",
       "      <td>9</td>\n",
       "      <td>2020-10-29 08:50:54</td>\n",
       "      <td>RT sayz Greatest strength of Ms Dhoni is his p...</td>\n",
       "      <td>Positive</td>\n",
       "    </tr>\n",
       "    <tr>\n",
       "      <th>3</th>\n",
       "      <td>RT @TentaranSports: Who is the better captain ...</td>\n",
       "      <td>Vishal Shrimali</td>\n",
       "      <td>129</td>\n",
       "      <td>9</td>\n",
       "      <td></td>\n",
       "      <td>False</td>\n",
       "      <td>0</td>\n",
       "      <td>359</td>\n",
       "      <td>2020-10-29 08:50:44</td>\n",
       "      <td>RT Who is the better captain in IPL RT Like MS...</td>\n",
       "      <td>Positive</td>\n",
       "    </tr>\n",
       "    <tr>\n",
       "      <th>4</th>\n",
       "      <td>@Dhoni_712 @rajinikanth Broo😡 #ஓட்டுன்னுபோட்டா...</td>\n",
       "      <td>𝑰𝒏𝒇𝒂𝒄𝒕𝒖𝒂𝒕𝒊𝒐𝒏</td>\n",
       "      <td>16456</td>\n",
       "      <td>2305</td>\n",
       "      <td>Kentucky</td>\n",
       "      <td>False</td>\n",
       "      <td>0</td>\n",
       "      <td>0</td>\n",
       "      <td>2020-10-29 08:50:40</td>\n",
       "      <td>712 Broo</td>\n",
       "      <td>Neutral</td>\n",
       "    </tr>\n",
       "  </tbody>\n",
       "</table>\n",
       "</div>"
      ],
      "text/plain": [
       "                                              Tweets                User  \\\n",
       "0  @unbrahmachari @tiwarymanoj Saha was only goin...               Viraj   \n",
       "1  @singintherainn @towerstarfan @SriniMaama16 Mm...  thalapathy Vijay 😎   \n",
       "2  RT @Sasankapk_sayz: Greatest strength of Ms Dh...     Annaya Abhimani   \n",
       "3  RT @TentaranSports: Who is the better captain ...     Vishal Shrimali   \n",
       "4  @Dhoni_712 @rajinikanth Broo😡 #ஓட்டுன்னுபோட்டா...        𝑰𝒏𝒇𝒂𝒄𝒕𝒖𝒂𝒕𝒊𝒐𝒏   \n",
       "\n",
       "  User_statuses_count user_followers User_location User_verified fav_count  \\\n",
       "0               11104            273                       False         0   \n",
       "1              319488           1193                       False         0   \n",
       "2               72903           4005                       False         0   \n",
       "3                 129              9                       False         0   \n",
       "4               16456           2305     Kentucky          False         0   \n",
       "\n",
       "  rt_count           tweet_date  \\\n",
       "0        0  2020-10-29 08:51:06   \n",
       "1        0  2020-10-29 08:50:57   \n",
       "2        9  2020-10-29 08:50:54   \n",
       "3      359  2020-10-29 08:50:44   \n",
       "4        0  2020-10-29 08:50:40   \n",
       "\n",
       "                                         clean_tweet Sentiment  \n",
       "0  Saha was only going to play after Dhoni s reti...   Neutral  \n",
       "1  Mmm this sounds good kohli came under dhoni dh...  Positive  \n",
       "2  RT sayz Greatest strength of Ms Dhoni is his p...  Positive  \n",
       "3  RT Who is the better captain in IPL RT Like MS...  Positive  \n",
       "4                                           712 Broo   Neutral  "
      ]
     },
     "execution_count": 46,
     "metadata": {},
     "output_type": "execute_result"
    }
   ],
   "source": [
    "df['Sentiment'] = df['clean_tweet'].apply(lambda x : analyze_sentiment(x) )\n",
    "df.head()"
   ]
  },
  {
   "cell_type": "code",
   "execution_count": 47,
   "metadata": {},
   "outputs": [
    {
     "name": "stdout",
     "output_type": "stream",
     "text": [
      "Original tweet:\n",
      " @singintherainn @towerstarfan @SriniMaama16 Mmm this sounds good.. kohli came under dhoni .. dhoni made 77 new come… https://t.co/l1Zga7o3k1\n",
      "\n",
      "Clean tweet:\n",
      " Mmm this sounds good kohli came under dhoni dhoni made 77 new come\n",
      "\n",
      "Sentiment of the tweet:\n",
      " Positive\n"
     ]
    }
   ],
   "source": [
    "n = 1\n",
    "print(\"Original tweet:\\n\",df['Tweets'][n])\n",
    "print()\n",
    "print(\"Clean tweet:\\n\",df['clean_tweet'][n])\n",
    "print()\n",
    "print(\"Sentiment of the tweet:\\n\",df['Sentiment'][n])"
   ]
  },
  {
   "cell_type": "code",
   "execution_count": 48,
   "metadata": {},
   "outputs": [
    {
     "name": "stdout",
     "output_type": "stream",
     "text": [
      "Original tweet:\n",
      " @KarnvarAnurag @Pushays 2015 wc,2009 2015 ki champion trophy, wc-t20 2009,10,12,14,16 ka in sab icc tournament me c… https://t.co/OwajAWINqC\n",
      "\n",
      "Clean tweet:\n",
      " 2015 wc 2009 2015 ki champion trophy wc t20 2009 10 12 14 16 ka in sab icc tournament me c\n",
      "\n",
      "Sentiment of the tweet:\n",
      " Neutral\n"
     ]
    }
   ],
   "source": [
    "n = 33\n",
    "print(\"Original tweet:\\n\",df['Tweets'][n])\n",
    "print()\n",
    "print(\"Clean tweet:\\n\",df['clean_tweet'][n])\n",
    "print()\n",
    "print(\"Sentiment of the tweet:\\n\",df['Sentiment'][n])"
   ]
  },
  {
   "cell_type": "code",
   "execution_count": 49,
   "metadata": {},
   "outputs": [
    {
     "name": "stdout",
     "output_type": "stream",
     "text": [
      "Original tweet:\n",
      " RT @TentaranSports: Who is the better captain in IPL?\n",
      "\n",
      "@msdhoni - RT\n",
      "\n",
      "@ImRo45 - Like\n",
      "\n",
      "#MSDhoni #RohitSharma #ViratKohli #SuryakumarYadav #C…\n",
      "\n",
      "Clean tweet:\n",
      " RT Who is the better captain in IPL RT Like MSDhoni RohitSharma ViratKohli SuryakumarYadav C\n",
      "\n",
      "Sentiment of the tweet:\n",
      " Positive\n"
     ]
    }
   ],
   "source": [
    "n = 400\n",
    "print(\"Original tweet:\\n\",df['Tweets'][n])\n",
    "print()\n",
    "print(\"Clean tweet:\\n\",df['clean_tweet'][n])\n",
    "print()\n",
    "print(\"Sentiment of the tweet:\\n\",df['Sentiment'][n])"
   ]
  },
  {
   "cell_type": "code",
   "execution_count": null,
   "metadata": {},
   "outputs": [],
   "source": []
  }
 ],
 "metadata": {
  "kernelspec": {
   "display_name": "Python 3",
   "language": "python",
   "name": "python3"
  },
  "language_info": {
   "codemirror_mode": {
    "name": "ipython",
    "version": 3
   },
   "file_extension": ".py",
   "mimetype": "text/x-python",
   "name": "python",
   "nbconvert_exporter": "python",
   "pygments_lexer": "ipython3",
   "version": "3.7.7"
  },
  "toc": {
   "base_numbering": 1,
   "nav_menu": {},
   "number_sections": true,
   "sideBar": true,
   "skip_h1_title": false,
   "title_cell": "Table of Contents",
   "title_sidebar": "Contents",
   "toc_cell": false,
   "toc_position": {},
   "toc_section_display": true,
   "toc_window_display": false
  }
 },
 "nbformat": 4,
 "nbformat_minor": 4
}
